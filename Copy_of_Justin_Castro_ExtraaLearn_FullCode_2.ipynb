{
  "nbformat": 4,
  "nbformat_minor": 5,
  "metadata": {
    "colab": {
      "name": "Copy of Justin Castro_ExtraaLearn_FullCode-2.ipynb",
      "provenance": [],
      "collapsed_sections": [],
      "include_colab_link": true
    },
    "kernelspec": {
      "display_name": "Python 3",
      "language": "python",
      "name": "python3"
    },
    "language_info": {
      "codemirror_mode": {
        "name": "ipython",
        "version": 3
      },
      "file_extension": ".py",
      "mimetype": "text/x-python",
      "name": "python",
      "nbconvert_exporter": "python",
      "pygments_lexer": "ipython3",
      "version": "3.8.5"
    }
  },
  "cells": [
    {
      "cell_type": "markdown",
      "metadata": {
        "id": "view-in-github",
        "colab_type": "text"
      },
      "source": [
        "<a href=\"https://colab.research.google.com/github/jstro1836/UTDSBA/blob/main/Copy_of_Justin_Castro_ExtraaLearn_FullCode_2.ipynb\" target=\"_parent\"><img src=\"https://colab.research.google.com/assets/colab-badge.svg\" alt=\"Open In Colab\"/></a>"
      ]
    },
    {
      "cell_type": "markdown",
      "metadata": {
        "id": "AT5OogJVFbwu"
      },
      "source": [
        "# ExtraaLearn Project\n",
        "\n",
        "## Context\n",
        "\n",
        "The EdTech industry has been surging in the past decade immensely, and according to a forecast, the Online Education market would be worth $286.62bn by 2023 with a compound annual growth rate (CAGR) of 10.26% from 2018 to 2023. The modern era of online education has enforced a lot in its growth and expansion beyond any limit. Due to having many dominant features like ease of information sharing, personalized learning experience, transparency of assessment, etc, it is now preferable to traditional education. \n",
        "\n",
        "In the present scenario due to the Covid-19, the online education sector has witnessed rapid growth and is attracting a lot of new customers. Due to this rapid growth, many new companies have emerged in this industry. With the availability and ease of use of digital marketing resources, companies can reach out to a wider audience with their offerings. The customers who show interest in these offerings are termed as leads. There are various sources of obtaining leads for Edtech companies, like\n",
        "\n",
        "* The customer interacts with the marketing front on social media or other online platforms. \n",
        "* The customer browses the website/app and downloads the brochure\n",
        "* The customer connects through emails for more information.\n",
        "\n",
        "The company then nurtures these leads and tries to convert them to paid customers. For this, the representative from the organization connects with the lead on call or through email to share further details.\n",
        "\n",
        "## Objective\n",
        "\n",
        "ExtraaLearn is an initial stage startup that offers programs on cutting-edge technologies to students and professionals to help them upskill/reskill. With a large number of leads being generated on a regular basis, one of the issues faced by ExtraaLearn is to identify which of the leads are more likely to convert so that they can allocate resources accordingly. You, as a data scientist at ExtraaLearn, have been provided the leads data to:\n",
        "* Analyze and build an ML model to help identify which leads are more likely to convert to paid customers, \n",
        "* Find the factors driving the lead conversion process\n",
        "* Create a profile of the leads which are likely to convert\n",
        "\n",
        "\n",
        "## Data Description\n",
        "\n",
        "The data contains the different attributes of leads and their interaction details with ExtraaLearn. The detailed data dictionary is given below.\n",
        "\n",
        "\n",
        "**Data Dictionary**\n",
        "* ID: ID of the lead\n",
        "* age: Age of the lead\n",
        "* current_occupation: Current occupation of the lead. Values include 'Professional','Unemployed',and 'Student'\n",
        "* first_interaction: How did the lead first interacted with ExtraaLearn. Values include 'Website', 'Mobile App'\n",
        "* profile_completed: What percentage of profile has been filled by the lead on the website/mobile app. Values include Low - (0-50%), Medium - (50-75%), High (75-100%)\n",
        "* website_visits: How many times has a lead visited the website\n",
        "* time_spent_on_website: Total time spent on the website\n",
        "* page_views_per_visit: Average number of pages on the website viewed during the visits.\n",
        "* last_activity: Last interaction between the lead and ExtraaLearn. \n",
        "    * Email Activity: Seeking for details about program through email, Representative shared information with lead like brochure of program , etc \n",
        "    * Phone Activity: Had a Phone Conversation with representative, Had conversation over SMS with representative, etc\n",
        "    * Website Activity: Interacted on live chat with representative, Updated profile on website, etc\n",
        "\n",
        "* print_media_type1: Flag indicating whether the lead had seen the ad of ExtraaLearn in the Newspaper.\n",
        "* print_media_type2: Flag indicating whether the lead had seen the ad of ExtraaLearn in the Magazine.\n",
        "* digital_media: Flag indicating whether the lead had seen the ad of ExtraaLearn on the digital platforms.\n",
        "* educational_channels: Flag indicating whether the lead had heard about ExtraaLearn in the education channels like online forums, discussion threads, educational websites, etc.\n",
        "* referral: Flag indicating whether the lead had heard about ExtraaLearn through reference.\n",
        "* status: Flag indicating whether the lead was converted to a paid customer or not."
      ],
      "id": "AT5OogJVFbwu"
    },
    {
      "cell_type": "markdown",
      "metadata": {
        "id": "dirty-island"
      },
      "source": [
        "## Importing necessary libraries and data"
      ],
      "id": "dirty-island"
    },
    {
      "cell_type": "code",
      "metadata": {
        "id": "statewide-still",
        "colab": {
          "base_uri": "https://localhost:8080/"
        },
        "outputId": "1adb8997-b1d8-4a1d-8c06-70b79168d6f7"
      },
      "source": [
        "# make code more structured automatically\n",
        "!pip install nb_black\n",
        "\n",
        "import warnings\n",
        "\n",
        "warnings.filterwarnings(\"ignore\")\n",
        "from statsmodels.tools.sm_exceptions import ConvergenceWarning\n",
        "\n",
        "warnings.simplefilter(\"ignore\", ConvergenceWarning)\n",
        "\n",
        "# Libraries to help with reading and manipulating data\n",
        "import pandas as pd\n",
        "import numpy as np\n",
        "\n",
        "# libaries to help with data visualization\n",
        "import matplotlib.pyplot as plt\n",
        "import seaborn as sns\n",
        "\n",
        "# Removes the limit for the number of displayed columns\n",
        "pd.set_option(\"display.max_columns\", None)\n",
        "# Sets the limit for the number of displayed rows\n",
        "pd.set_option(\"display.max_rows\", 200)\n",
        "# setting the precision of floating numbers to 5 decimal points\n",
        "pd.set_option(\"display.float_format\", lambda x: \"%.5f\" % x)\n",
        "\n",
        "# Library to split data\n",
        "from sklearn.model_selection import train_test_split\n",
        "\n",
        "# To build model for prediction\n",
        "import statsmodels.stats.api as sms\n",
        "from statsmodels.stats.outliers_influence import variance_inflation_factor\n",
        "import statsmodels.api as sm\n",
        "from statsmodels.tools.tools import add_constant\n",
        "from sklearn.tree import DecisionTreeClassifier\n",
        "from sklearn import tree\n",
        "\n",
        "# To tune different models\n",
        "from sklearn.model_selection import GridSearchCV\n",
        "\n",
        "\n",
        "# To get diferent metric scores\n",
        "from sklearn.metrics import (\n",
        "    f1_score,\n",
        "    accuracy_score,\n",
        "    recall_score,\n",
        "    precision_score,\n",
        "    confusion_matrix,\n",
        "    roc_auc_score,\n",
        "    plot_confusion_matrix,\n",
        "    precision_recall_curve,\n",
        "    roc_curve,\n",
        "    make_scorer,\n",
        ")"
      ],
      "id": "statewide-still",
      "execution_count": null,
      "outputs": [
        {
          "output_type": "stream",
          "name": "stdout",
          "text": [
            "Collecting nb_black\n",
            "  Downloading nb_black-1.0.7.tar.gz (4.8 kB)\n",
            "Requirement already satisfied: ipython in /usr/local/lib/python3.7/dist-packages (from nb_black) (5.5.0)\n",
            "Collecting black>='19.3'\n",
            "  Downloading black-22.1.0-cp37-cp37m-manylinux_2_17_x86_64.manylinux2014_x86_64.whl (1.4 MB)\n",
            "\u001b[K     |████████████████████████████████| 1.4 MB 6.6 MB/s \n",
            "\u001b[?25hCollecting pathspec>=0.9.0\n",
            "  Downloading pathspec-0.9.0-py2.py3-none-any.whl (31 kB)\n",
            "Requirement already satisfied: tomli>=1.1.0 in /usr/local/lib/python3.7/dist-packages (from black>='19.3'->nb_black) (2.0.1)\n",
            "Collecting click>=8.0.0\n",
            "  Downloading click-8.0.4-py3-none-any.whl (97 kB)\n",
            "\u001b[K     |████████████████████████████████| 97 kB 618 kB/s \n",
            "\u001b[?25hRequirement already satisfied: typing-extensions>=3.10.0.0 in /usr/local/lib/python3.7/dist-packages (from black>='19.3'->nb_black) (3.10.0.2)\n",
            "Collecting typed-ast>=1.4.2\n",
            "  Downloading typed_ast-1.5.2-cp37-cp37m-manylinux_2_5_x86_64.manylinux1_x86_64.manylinux_2_12_x86_64.manylinux2010_x86_64.whl (843 kB)\n",
            "\u001b[K     |████████████████████████████████| 843 kB 38.3 MB/s \n",
            "\u001b[?25hCollecting mypy-extensions>=0.4.3\n",
            "  Downloading mypy_extensions-0.4.3-py2.py3-none-any.whl (4.5 kB)\n",
            "Collecting platformdirs>=2\n",
            "  Downloading platformdirs-2.5.1-py3-none-any.whl (14 kB)\n",
            "Requirement already satisfied: importlib-metadata in /usr/local/lib/python3.7/dist-packages (from click>=8.0.0->black>='19.3'->nb_black) (4.11.2)\n",
            "Requirement already satisfied: zipp>=0.5 in /usr/local/lib/python3.7/dist-packages (from importlib-metadata->click>=8.0.0->black>='19.3'->nb_black) (3.7.0)\n",
            "Requirement already satisfied: setuptools>=18.5 in /usr/local/lib/python3.7/dist-packages (from ipython->nb_black) (57.4.0)\n",
            "Requirement already satisfied: pygments in /usr/local/lib/python3.7/dist-packages (from ipython->nb_black) (2.6.1)\n",
            "Requirement already satisfied: decorator in /usr/local/lib/python3.7/dist-packages (from ipython->nb_black) (4.4.2)\n",
            "Requirement already satisfied: simplegeneric>0.8 in /usr/local/lib/python3.7/dist-packages (from ipython->nb_black) (0.8.1)\n",
            "Requirement already satisfied: traitlets>=4.2 in /usr/local/lib/python3.7/dist-packages (from ipython->nb_black) (5.1.1)\n",
            "Requirement already satisfied: pexpect in /usr/local/lib/python3.7/dist-packages (from ipython->nb_black) (4.8.0)\n",
            "Requirement already satisfied: prompt-toolkit<2.0.0,>=1.0.4 in /usr/local/lib/python3.7/dist-packages (from ipython->nb_black) (1.0.18)\n",
            "Requirement already satisfied: pickleshare in /usr/local/lib/python3.7/dist-packages (from ipython->nb_black) (0.7.5)\n",
            "Requirement already satisfied: wcwidth in /usr/local/lib/python3.7/dist-packages (from prompt-toolkit<2.0.0,>=1.0.4->ipython->nb_black) (0.2.5)\n",
            "Requirement already satisfied: six>=1.9.0 in /usr/local/lib/python3.7/dist-packages (from prompt-toolkit<2.0.0,>=1.0.4->ipython->nb_black) (1.15.0)\n",
            "Requirement already satisfied: ptyprocess>=0.5 in /usr/local/lib/python3.7/dist-packages (from pexpect->ipython->nb_black) (0.7.0)\n",
            "Building wheels for collected packages: nb-black\n",
            "  Building wheel for nb-black (setup.py) ... \u001b[?25l\u001b[?25hdone\n",
            "  Created wheel for nb-black: filename=nb_black-1.0.7-py3-none-any.whl size=5297 sha256=5001b3ad45196d14008b6b0320fa30ac4a8be73c8ce7ebf0518f5957cbf0b9bf\n",
            "  Stored in directory: /root/.cache/pip/wheels/1e/b2/88/51c66d23ea5fd0d40ed50997555e15d981d92671376a9a412a\n",
            "Successfully built nb-black\n",
            "Installing collected packages: typed-ast, platformdirs, pathspec, mypy-extensions, click, black, nb-black\n",
            "  Attempting uninstall: click\n",
            "    Found existing installation: click 7.1.2\n",
            "    Uninstalling click-7.1.2:\n",
            "      Successfully uninstalled click-7.1.2\n",
            "\u001b[31mERROR: pip's dependency resolver does not currently take into account all the packages that are installed. This behaviour is the source of the following dependency conflicts.\n",
            "flask 1.1.4 requires click<8.0,>=5.1, but you have click 8.0.4 which is incompatible.\u001b[0m\n",
            "Successfully installed black-22.1.0 click-8.0.4 mypy-extensions-0.4.3 nb-black-1.0.7 pathspec-0.9.0 platformdirs-2.5.1 typed-ast-1.5.2\n"
          ]
        }
      ]
    },
    {
      "cell_type": "markdown",
      "metadata": {
        "id": "desperate-infection"
      },
      "source": [
        "## Data Overview\n",
        "\n",
        "- Observations\n",
        "- Sanity checks"
      ],
      "id": "desperate-infection"
    },
    {
      "cell_type": "code",
      "metadata": {
        "id": "persistent-juice",
        "colab": {
          "resources": {
            "http://localhost:8080/nbextensions/google.colab/files.js": {
              "data": "Ly8gQ29weXJpZ2h0IDIwMTcgR29vZ2xlIExMQwovLwovLyBMaWNlbnNlZCB1bmRlciB0aGUgQXBhY2hlIExpY2Vuc2UsIFZlcnNpb24gMi4wICh0aGUgIkxpY2Vuc2UiKTsKLy8geW91IG1heSBub3QgdXNlIHRoaXMgZmlsZSBleGNlcHQgaW4gY29tcGxpYW5jZSB3aXRoIHRoZSBMaWNlbnNlLgovLyBZb3UgbWF5IG9idGFpbiBhIGNvcHkgb2YgdGhlIExpY2Vuc2UgYXQKLy8KLy8gICAgICBodHRwOi8vd3d3LmFwYWNoZS5vcmcvbGljZW5zZXMvTElDRU5TRS0yLjAKLy8KLy8gVW5sZXNzIHJlcXVpcmVkIGJ5IGFwcGxpY2FibGUgbGF3IG9yIGFncmVlZCB0byBpbiB3cml0aW5nLCBzb2Z0d2FyZQovLyBkaXN0cmlidXRlZCB1bmRlciB0aGUgTGljZW5zZSBpcyBkaXN0cmlidXRlZCBvbiBhbiAiQVMgSVMiIEJBU0lTLAovLyBXSVRIT1VUIFdBUlJBTlRJRVMgT1IgQ09ORElUSU9OUyBPRiBBTlkgS0lORCwgZWl0aGVyIGV4cHJlc3Mgb3IgaW1wbGllZC4KLy8gU2VlIHRoZSBMaWNlbnNlIGZvciB0aGUgc3BlY2lmaWMgbGFuZ3VhZ2UgZ292ZXJuaW5nIHBlcm1pc3Npb25zIGFuZAovLyBsaW1pdGF0aW9ucyB1bmRlciB0aGUgTGljZW5zZS4KCi8qKgogKiBAZmlsZW92ZXJ2aWV3IEhlbHBlcnMgZm9yIGdvb2dsZS5jb2xhYiBQeXRob24gbW9kdWxlLgogKi8KKGZ1bmN0aW9uKHNjb3BlKSB7CmZ1bmN0aW9uIHNwYW4odGV4dCwgc3R5bGVBdHRyaWJ1dGVzID0ge30pIHsKICBjb25zdCBlbGVtZW50ID0gZG9jdW1lbnQuY3JlYXRlRWxlbWVudCgnc3BhbicpOwogIGVsZW1lbnQudGV4dENvbnRlbnQgPSB0ZXh0OwogIGZvciAoY29uc3Qga2V5IG9mIE9iamVjdC5rZXlzKHN0eWxlQXR0cmlidXRlcykpIHsKICAgIGVsZW1lbnQuc3R5bGVba2V5XSA9IHN0eWxlQXR0cmlidXRlc1trZXldOwogIH0KICByZXR1cm4gZWxlbWVudDsKfQoKLy8gTWF4IG51bWJlciBvZiBieXRlcyB3aGljaCB3aWxsIGJlIHVwbG9hZGVkIGF0IGEgdGltZS4KY29uc3QgTUFYX1BBWUxPQURfU0laRSA9IDEwMCAqIDEwMjQ7CgpmdW5jdGlvbiBfdXBsb2FkRmlsZXMoaW5wdXRJZCwgb3V0cHV0SWQpIHsKICBjb25zdCBzdGVwcyA9IHVwbG9hZEZpbGVzU3RlcChpbnB1dElkLCBvdXRwdXRJZCk7CiAgY29uc3Qgb3V0cHV0RWxlbWVudCA9IGRvY3VtZW50LmdldEVsZW1lbnRCeUlkKG91dHB1dElkKTsKICAvLyBDYWNoZSBzdGVwcyBvbiB0aGUgb3V0cHV0RWxlbWVudCB0byBtYWtlIGl0IGF2YWlsYWJsZSBmb3IgdGhlIG5leHQgY2FsbAogIC8vIHRvIHVwbG9hZEZpbGVzQ29udGludWUgZnJvbSBQeXRob24uCiAgb3V0cHV0RWxlbWVudC5zdGVwcyA9IHN0ZXBzOwoKICByZXR1cm4gX3VwbG9hZEZpbGVzQ29udGludWUob3V0cHV0SWQpOwp9CgovLyBUaGlzIGlzIHJvdWdobHkgYW4gYXN5bmMgZ2VuZXJhdG9yIChub3Qgc3VwcG9ydGVkIGluIHRoZSBicm93c2VyIHlldCksCi8vIHdoZXJlIHRoZXJlIGFyZSBtdWx0aXBsZSBhc3luY2hyb25vdXMgc3RlcHMgYW5kIHRoZSBQeXRob24gc2lkZSBpcyBnb2luZwovLyB0byBwb2xsIGZvciBjb21wbGV0aW9uIG9mIGVhY2ggc3RlcC4KLy8gVGhpcyB1c2VzIGEgUHJvbWlzZSB0byBibG9jayB0aGUgcHl0aG9uIHNpZGUgb24gY29tcGxldGlvbiBvZiBlYWNoIHN0ZXAsCi8vIHRoZW4gcGFzc2VzIHRoZSByZXN1bHQgb2YgdGhlIHByZXZpb3VzIHN0ZXAgYXMgdGhlIGlucHV0IHRvIHRoZSBuZXh0IHN0ZXAuCmZ1bmN0aW9uIF91cGxvYWRGaWxlc0NvbnRpbnVlKG91dHB1dElkKSB7CiAgY29uc3Qgb3V0cHV0RWxlbWVudCA9IGRvY3VtZW50LmdldEVsZW1lbnRCeUlkKG91dHB1dElkKTsKICBjb25zdCBzdGVwcyA9IG91dHB1dEVsZW1lbnQuc3RlcHM7CgogIGNvbnN0IG5leHQgPSBzdGVwcy5uZXh0KG91dHB1dEVsZW1lbnQubGFzdFByb21pc2VWYWx1ZSk7CiAgcmV0dXJuIFByb21pc2UucmVzb2x2ZShuZXh0LnZhbHVlLnByb21pc2UpLnRoZW4oKHZhbHVlKSA9PiB7CiAgICAvLyBDYWNoZSB0aGUgbGFzdCBwcm9taXNlIHZhbHVlIHRvIG1ha2UgaXQgYXZhaWxhYmxlIHRvIHRoZSBuZXh0CiAgICAvLyBzdGVwIG9mIHRoZSBnZW5lcmF0b3IuCiAgICBvdXRwdXRFbGVtZW50Lmxhc3RQcm9taXNlVmFsdWUgPSB2YWx1ZTsKICAgIHJldHVybiBuZXh0LnZhbHVlLnJlc3BvbnNlOwogIH0pOwp9CgovKioKICogR2VuZXJhdG9yIGZ1bmN0aW9uIHdoaWNoIGlzIGNhbGxlZCBiZXR3ZWVuIGVhY2ggYXN5bmMgc3RlcCBvZiB0aGUgdXBsb2FkCiAqIHByb2Nlc3MuCiAqIEBwYXJhbSB7c3RyaW5nfSBpbnB1dElkIEVsZW1lbnQgSUQgb2YgdGhlIGlucHV0IGZpbGUgcGlja2VyIGVsZW1lbnQuCiAqIEBwYXJhbSB7c3RyaW5nfSBvdXRwdXRJZCBFbGVtZW50IElEIG9mIHRoZSBvdXRwdXQgZGlzcGxheS4KICogQHJldHVybiB7IUl0ZXJhYmxlPCFPYmplY3Q+fSBJdGVyYWJsZSBvZiBuZXh0IHN0ZXBzLgogKi8KZnVuY3Rpb24qIHVwbG9hZEZpbGVzU3RlcChpbnB1dElkLCBvdXRwdXRJZCkgewogIGNvbnN0IGlucHV0RWxlbWVudCA9IGRvY3VtZW50LmdldEVsZW1lbnRCeUlkKGlucHV0SWQpOwogIGlucHV0RWxlbWVudC5kaXNhYmxlZCA9IGZhbHNlOwoKICBjb25zdCBvdXRwdXRFbGVtZW50ID0gZG9jdW1lbnQuZ2V0RWxlbWVudEJ5SWQob3V0cHV0SWQpOwogIG91dHB1dEVsZW1lbnQuaW5uZXJIVE1MID0gJyc7CgogIGNvbnN0IHBpY2tlZFByb21pc2UgPSBuZXcgUHJvbWlzZSgocmVzb2x2ZSkgPT4gewogICAgaW5wdXRFbGVtZW50LmFkZEV2ZW50TGlzdGVuZXIoJ2NoYW5nZScsIChlKSA9PiB7CiAgICAgIHJlc29sdmUoZS50YXJnZXQuZmlsZXMpOwogICAgfSk7CiAgfSk7CgogIGNvbnN0IGNhbmNlbCA9IGRvY3VtZW50LmNyZWF0ZUVsZW1lbnQoJ2J1dHRvbicpOwogIGlucHV0RWxlbWVudC5wYXJlbnRFbGVtZW50LmFwcGVuZENoaWxkKGNhbmNlbCk7CiAgY2FuY2VsLnRleHRDb250ZW50ID0gJ0NhbmNlbCB1cGxvYWQnOwogIGNvbnN0IGNhbmNlbFByb21pc2UgPSBuZXcgUHJvbWlzZSgocmVzb2x2ZSkgPT4gewogICAgY2FuY2VsLm9uY2xpY2sgPSAoKSA9PiB7CiAgICAgIHJlc29sdmUobnVsbCk7CiAgICB9OwogIH0pOwoKICAvLyBXYWl0IGZvciB0aGUgdXNlciB0byBwaWNrIHRoZSBmaWxlcy4KICBjb25zdCBmaWxlcyA9IHlpZWxkIHsKICAgIHByb21pc2U6IFByb21pc2UucmFjZShbcGlja2VkUHJvbWlzZSwgY2FuY2VsUHJvbWlzZV0pLAogICAgcmVzcG9uc2U6IHsKICAgICAgYWN0aW9uOiAnc3RhcnRpbmcnLAogICAgfQogIH07CgogIGNhbmNlbC5yZW1vdmUoKTsKCiAgLy8gRGlzYWJsZSB0aGUgaW5wdXQgZWxlbWVudCBzaW5jZSBmdXJ0aGVyIHBpY2tzIGFyZSBub3QgYWxsb3dlZC4KICBpbnB1dEVsZW1lbnQuZGlzYWJsZWQgPSB0cnVlOwoKICBpZiAoIWZpbGVzKSB7CiAgICByZXR1cm4gewogICAgICByZXNwb25zZTogewogICAgICAgIGFjdGlvbjogJ2NvbXBsZXRlJywKICAgICAgfQogICAgfTsKICB9CgogIGZvciAoY29uc3QgZmlsZSBvZiBmaWxlcykgewogICAgY29uc3QgbGkgPSBkb2N1bWVudC5jcmVhdGVFbGVtZW50KCdsaScpOwogICAgbGkuYXBwZW5kKHNwYW4oZmlsZS5uYW1lLCB7Zm9udFdlaWdodDogJ2JvbGQnfSkpOwogICAgbGkuYXBwZW5kKHNwYW4oCiAgICAgICAgYCgke2ZpbGUudHlwZSB8fCAnbi9hJ30pIC0gJHtmaWxlLnNpemV9IGJ5dGVzLCBgICsKICAgICAgICBgbGFzdCBtb2RpZmllZDogJHsKICAgICAgICAgICAgZmlsZS5sYXN0TW9kaWZpZWREYXRlID8gZmlsZS5sYXN0TW9kaWZpZWREYXRlLnRvTG9jYWxlRGF0ZVN0cmluZygpIDoKICAgICAgICAgICAgICAgICAgICAgICAgICAgICAgICAgICAgJ24vYSd9IC0gYCkpOwogICAgY29uc3QgcGVyY2VudCA9IHNwYW4oJzAlIGRvbmUnKTsKICAgIGxpLmFwcGVuZENoaWxkKHBlcmNlbnQpOwoKICAgIG91dHB1dEVsZW1lbnQuYXBwZW5kQ2hpbGQobGkpOwoKICAgIGNvbnN0IGZpbGVEYXRhUHJvbWlzZSA9IG5ldyBQcm9taXNlKChyZXNvbHZlKSA9PiB7CiAgICAgIGNvbnN0IHJlYWRlciA9IG5ldyBGaWxlUmVhZGVyKCk7CiAgICAgIHJlYWRlci5vbmxvYWQgPSAoZSkgPT4gewogICAgICAgIHJlc29sdmUoZS50YXJnZXQucmVzdWx0KTsKICAgICAgfTsKICAgICAgcmVhZGVyLnJlYWRBc0FycmF5QnVmZmVyKGZpbGUpOwogICAgfSk7CiAgICAvLyBXYWl0IGZvciB0aGUgZGF0YSB0byBiZSByZWFkeS4KICAgIGxldCBmaWxlRGF0YSA9IHlpZWxkIHsKICAgICAgcHJvbWlzZTogZmlsZURhdGFQcm9taXNlLAogICAgICByZXNwb25zZTogewogICAgICAgIGFjdGlvbjogJ2NvbnRpbnVlJywKICAgICAgfQogICAgfTsKCiAgICAvLyBVc2UgYSBjaHVua2VkIHNlbmRpbmcgdG8gYXZvaWQgbWVzc2FnZSBzaXplIGxpbWl0cy4gU2VlIGIvNjIxMTU2NjAuCiAgICBsZXQgcG9zaXRpb24gPSAwOwogICAgZG8gewogICAgICBjb25zdCBsZW5ndGggPSBNYXRoLm1pbihmaWxlRGF0YS5ieXRlTGVuZ3RoIC0gcG9zaXRpb24sIE1BWF9QQVlMT0FEX1NJWkUpOwogICAgICBjb25zdCBjaHVuayA9IG5ldyBVaW50OEFycmF5KGZpbGVEYXRhLCBwb3NpdGlvbiwgbGVuZ3RoKTsKICAgICAgcG9zaXRpb24gKz0gbGVuZ3RoOwoKICAgICAgY29uc3QgYmFzZTY0ID0gYnRvYShTdHJpbmcuZnJvbUNoYXJDb2RlLmFwcGx5KG51bGwsIGNodW5rKSk7CiAgICAgIHlpZWxkIHsKICAgICAgICByZXNwb25zZTogewogICAgICAgICAgYWN0aW9uOiAnYXBwZW5kJywKICAgICAgICAgIGZpbGU6IGZpbGUubmFtZSwKICAgICAgICAgIGRhdGE6IGJhc2U2NCwKICAgICAgICB9LAogICAgICB9OwoKICAgICAgbGV0IHBlcmNlbnREb25lID0gZmlsZURhdGEuYnl0ZUxlbmd0aCA9PT0gMCA/CiAgICAgICAgICAxMDAgOgogICAgICAgICAgTWF0aC5yb3VuZCgocG9zaXRpb24gLyBmaWxlRGF0YS5ieXRlTGVuZ3RoKSAqIDEwMCk7CiAgICAgIHBlcmNlbnQudGV4dENvbnRlbnQgPSBgJHtwZXJjZW50RG9uZX0lIGRvbmVgOwoKICAgIH0gd2hpbGUgKHBvc2l0aW9uIDwgZmlsZURhdGEuYnl0ZUxlbmd0aCk7CiAgfQoKICAvLyBBbGwgZG9uZS4KICB5aWVsZCB7CiAgICByZXNwb25zZTogewogICAgICBhY3Rpb246ICdjb21wbGV0ZScsCiAgICB9CiAgfTsKfQoKc2NvcGUuZ29vZ2xlID0gc2NvcGUuZ29vZ2xlIHx8IHt9OwpzY29wZS5nb29nbGUuY29sYWIgPSBzY29wZS5nb29nbGUuY29sYWIgfHwge307CnNjb3BlLmdvb2dsZS5jb2xhYi5fZmlsZXMgPSB7CiAgX3VwbG9hZEZpbGVzLAogIF91cGxvYWRGaWxlc0NvbnRpbnVlLAp9Owp9KShzZWxmKTsK",
              "ok": true,
              "headers": [
                [
                  "content-type",
                  "application/javascript"
                ]
              ],
              "status": 200,
              "status_text": ""
            }
          },
          "base_uri": "https://localhost:8080/",
          "height": 74
        },
        "outputId": "a30f597e-bc4e-4a68-85e9-6b7bf24a4374"
      },
      "source": [
        "#Load the dataset\n",
        "from google.colab import files\n",
        "uploaded = files.upload()"
      ],
      "id": "persistent-juice",
      "execution_count": null,
      "outputs": [
        {
          "output_type": "display_data",
          "data": {
            "text/plain": [
              "<IPython.core.display.HTML object>"
            ],
            "text/html": [
              "\n",
              "     <input type=\"file\" id=\"files-16510ace-caa5-4312-ad74-576d2a06d78f\" name=\"files[]\" multiple disabled\n",
              "        style=\"border:none\" />\n",
              "     <output id=\"result-16510ace-caa5-4312-ad74-576d2a06d78f\">\n",
              "      Upload widget is only available when the cell has been executed in the\n",
              "      current browser session. Please rerun this cell to enable.\n",
              "      </output>\n",
              "      <script src=\"/nbextensions/google.colab/files.js\"></script> "
            ]
          },
          "metadata": {}
        },
        {
          "output_type": "stream",
          "name": "stdout",
          "text": [
            "Saving ExtraaLearn.csv to ExtraaLearn.csv\n"
          ]
        }
      ]
    },
    {
      "cell_type": "code",
      "source": [
        "# Read the dataset\n",
        "data = pd.read_csv(\"ExtraaLearn.csv\")"
      ],
      "metadata": {
        "id": "hS55M3nQaq6L"
      },
      "id": "hS55M3nQaq6L",
      "execution_count": null,
      "outputs": []
    },
    {
      "cell_type": "markdown",
      "metadata": {
        "id": "seasonal-calibration"
      },
      "source": [
        "## Exploratory Data Analysis (EDA) - Initial \n",
        "\n",
        "- EDA is an important part of any project involving data.\n",
        "- It is important to investigate and understand the data better before building a model with it.\n",
        "- A few questions have been mentioned below which will help you approach the analysis in the right manner and generate insights from the data.\n",
        "- A thorough analysis of the data, in addition to the questions mentioned below, should be done."
      ],
      "id": "seasonal-calibration"
    },
    {
      "cell_type": "code",
      "source": [
        "# View the first five rows of the data\n",
        "data.head()"
      ],
      "metadata": {
        "colab": {
          "base_uri": "https://localhost:8080/",
          "height": 270
        },
        "id": "N4naKLn_Z1Hd",
        "outputId": "fa9439f5-c6f0-45fd-8ab2-747586301abc"
      },
      "id": "N4naKLn_Z1Hd",
      "execution_count": null,
      "outputs": [
        {
          "output_type": "execute_result",
          "data": {
            "text/plain": [
              "       ID  age current_occupation first_interaction profile_completed  \\\n",
              "0  EXT001   57         Unemployed           Website              High   \n",
              "1  EXT002   56       Professional        Mobile App            Medium   \n",
              "2  EXT003   52       Professional           Website            Medium   \n",
              "3  EXT004   53         Unemployed           Website              High   \n",
              "4  EXT005   23            Student           Website              High   \n",
              "\n",
              "   website_visits  time_spent_on_website  page_views_per_visit  \\\n",
              "0               7                   1639               1.86100   \n",
              "1               2                     83               0.32000   \n",
              "2               3                    330               0.07400   \n",
              "3               4                    464               2.05700   \n",
              "4               4                    600              16.91400   \n",
              "\n",
              "      last_activity print_media_type1 print_media_type2 digital_media  \\\n",
              "0  Website Activity               Yes                No           Yes   \n",
              "1  Website Activity                No                No            No   \n",
              "2  Website Activity                No                No           Yes   \n",
              "3  Website Activity                No                No            No   \n",
              "4    Email Activity                No                No            No   \n",
              "\n",
              "  educational_channels referral  status  \n",
              "0                   No       No       1  \n",
              "1                  Yes       No       0  \n",
              "2                   No       No       0  \n",
              "3                   No       No       1  \n",
              "4                   No       No       0  "
            ],
            "text/html": [
              "\n",
              "  <div id=\"df-eec81a5b-b0b9-4c5a-aa89-2eec857c890e\">\n",
              "    <div class=\"colab-df-container\">\n",
              "      <div>\n",
              "<style scoped>\n",
              "    .dataframe tbody tr th:only-of-type {\n",
              "        vertical-align: middle;\n",
              "    }\n",
              "\n",
              "    .dataframe tbody tr th {\n",
              "        vertical-align: top;\n",
              "    }\n",
              "\n",
              "    .dataframe thead th {\n",
              "        text-align: right;\n",
              "    }\n",
              "</style>\n",
              "<table border=\"1\" class=\"dataframe\">\n",
              "  <thead>\n",
              "    <tr style=\"text-align: right;\">\n",
              "      <th></th>\n",
              "      <th>ID</th>\n",
              "      <th>age</th>\n",
              "      <th>current_occupation</th>\n",
              "      <th>first_interaction</th>\n",
              "      <th>profile_completed</th>\n",
              "      <th>website_visits</th>\n",
              "      <th>time_spent_on_website</th>\n",
              "      <th>page_views_per_visit</th>\n",
              "      <th>last_activity</th>\n",
              "      <th>print_media_type1</th>\n",
              "      <th>print_media_type2</th>\n",
              "      <th>digital_media</th>\n",
              "      <th>educational_channels</th>\n",
              "      <th>referral</th>\n",
              "      <th>status</th>\n",
              "    </tr>\n",
              "  </thead>\n",
              "  <tbody>\n",
              "    <tr>\n",
              "      <th>0</th>\n",
              "      <td>EXT001</td>\n",
              "      <td>57</td>\n",
              "      <td>Unemployed</td>\n",
              "      <td>Website</td>\n",
              "      <td>High</td>\n",
              "      <td>7</td>\n",
              "      <td>1639</td>\n",
              "      <td>1.86100</td>\n",
              "      <td>Website Activity</td>\n",
              "      <td>Yes</td>\n",
              "      <td>No</td>\n",
              "      <td>Yes</td>\n",
              "      <td>No</td>\n",
              "      <td>No</td>\n",
              "      <td>1</td>\n",
              "    </tr>\n",
              "    <tr>\n",
              "      <th>1</th>\n",
              "      <td>EXT002</td>\n",
              "      <td>56</td>\n",
              "      <td>Professional</td>\n",
              "      <td>Mobile App</td>\n",
              "      <td>Medium</td>\n",
              "      <td>2</td>\n",
              "      <td>83</td>\n",
              "      <td>0.32000</td>\n",
              "      <td>Website Activity</td>\n",
              "      <td>No</td>\n",
              "      <td>No</td>\n",
              "      <td>No</td>\n",
              "      <td>Yes</td>\n",
              "      <td>No</td>\n",
              "      <td>0</td>\n",
              "    </tr>\n",
              "    <tr>\n",
              "      <th>2</th>\n",
              "      <td>EXT003</td>\n",
              "      <td>52</td>\n",
              "      <td>Professional</td>\n",
              "      <td>Website</td>\n",
              "      <td>Medium</td>\n",
              "      <td>3</td>\n",
              "      <td>330</td>\n",
              "      <td>0.07400</td>\n",
              "      <td>Website Activity</td>\n",
              "      <td>No</td>\n",
              "      <td>No</td>\n",
              "      <td>Yes</td>\n",
              "      <td>No</td>\n",
              "      <td>No</td>\n",
              "      <td>0</td>\n",
              "    </tr>\n",
              "    <tr>\n",
              "      <th>3</th>\n",
              "      <td>EXT004</td>\n",
              "      <td>53</td>\n",
              "      <td>Unemployed</td>\n",
              "      <td>Website</td>\n",
              "      <td>High</td>\n",
              "      <td>4</td>\n",
              "      <td>464</td>\n",
              "      <td>2.05700</td>\n",
              "      <td>Website Activity</td>\n",
              "      <td>No</td>\n",
              "      <td>No</td>\n",
              "      <td>No</td>\n",
              "      <td>No</td>\n",
              "      <td>No</td>\n",
              "      <td>1</td>\n",
              "    </tr>\n",
              "    <tr>\n",
              "      <th>4</th>\n",
              "      <td>EXT005</td>\n",
              "      <td>23</td>\n",
              "      <td>Student</td>\n",
              "      <td>Website</td>\n",
              "      <td>High</td>\n",
              "      <td>4</td>\n",
              "      <td>600</td>\n",
              "      <td>16.91400</td>\n",
              "      <td>Email Activity</td>\n",
              "      <td>No</td>\n",
              "      <td>No</td>\n",
              "      <td>No</td>\n",
              "      <td>No</td>\n",
              "      <td>No</td>\n",
              "      <td>0</td>\n",
              "    </tr>\n",
              "  </tbody>\n",
              "</table>\n",
              "</div>\n",
              "      <button class=\"colab-df-convert\" onclick=\"convertToInteractive('df-eec81a5b-b0b9-4c5a-aa89-2eec857c890e')\"\n",
              "              title=\"Convert this dataframe to an interactive table.\"\n",
              "              style=\"display:none;\">\n",
              "        \n",
              "  <svg xmlns=\"http://www.w3.org/2000/svg\" height=\"24px\"viewBox=\"0 0 24 24\"\n",
              "       width=\"24px\">\n",
              "    <path d=\"M0 0h24v24H0V0z\" fill=\"none\"/>\n",
              "    <path d=\"M18.56 5.44l.94 2.06.94-2.06 2.06-.94-2.06-.94-.94-2.06-.94 2.06-2.06.94zm-11 1L8.5 8.5l.94-2.06 2.06-.94-2.06-.94L8.5 2.5l-.94 2.06-2.06.94zm10 10l.94 2.06.94-2.06 2.06-.94-2.06-.94-.94-2.06-.94 2.06-2.06.94z\"/><path d=\"M17.41 7.96l-1.37-1.37c-.4-.4-.92-.59-1.43-.59-.52 0-1.04.2-1.43.59L10.3 9.45l-7.72 7.72c-.78.78-.78 2.05 0 2.83L4 21.41c.39.39.9.59 1.41.59.51 0 1.02-.2 1.41-.59l7.78-7.78 2.81-2.81c.8-.78.8-2.07 0-2.86zM5.41 20L4 18.59l7.72-7.72 1.47 1.35L5.41 20z\"/>\n",
              "  </svg>\n",
              "      </button>\n",
              "      \n",
              "  <style>\n",
              "    .colab-df-container {\n",
              "      display:flex;\n",
              "      flex-wrap:wrap;\n",
              "      gap: 12px;\n",
              "    }\n",
              "\n",
              "    .colab-df-convert {\n",
              "      background-color: #E8F0FE;\n",
              "      border: none;\n",
              "      border-radius: 50%;\n",
              "      cursor: pointer;\n",
              "      display: none;\n",
              "      fill: #1967D2;\n",
              "      height: 32px;\n",
              "      padding: 0 0 0 0;\n",
              "      width: 32px;\n",
              "    }\n",
              "\n",
              "    .colab-df-convert:hover {\n",
              "      background-color: #E2EBFA;\n",
              "      box-shadow: 0px 1px 2px rgba(60, 64, 67, 0.3), 0px 1px 3px 1px rgba(60, 64, 67, 0.15);\n",
              "      fill: #174EA6;\n",
              "    }\n",
              "\n",
              "    [theme=dark] .colab-df-convert {\n",
              "      background-color: #3B4455;\n",
              "      fill: #D2E3FC;\n",
              "    }\n",
              "\n",
              "    [theme=dark] .colab-df-convert:hover {\n",
              "      background-color: #434B5C;\n",
              "      box-shadow: 0px 1px 3px 1px rgba(0, 0, 0, 0.15);\n",
              "      filter: drop-shadow(0px 1px 2px rgba(0, 0, 0, 0.3));\n",
              "      fill: #FFFFFF;\n",
              "    }\n",
              "  </style>\n",
              "\n",
              "      <script>\n",
              "        const buttonEl =\n",
              "          document.querySelector('#df-eec81a5b-b0b9-4c5a-aa89-2eec857c890e button.colab-df-convert');\n",
              "        buttonEl.style.display =\n",
              "          google.colab.kernel.accessAllowed ? 'block' : 'none';\n",
              "\n",
              "        async function convertToInteractive(key) {\n",
              "          const element = document.querySelector('#df-eec81a5b-b0b9-4c5a-aa89-2eec857c890e');\n",
              "          const dataTable =\n",
              "            await google.colab.kernel.invokeFunction('convertToInteractive',\n",
              "                                                     [key], {});\n",
              "          if (!dataTable) return;\n",
              "\n",
              "          const docLinkHtml = 'Like what you see? Visit the ' +\n",
              "            '<a target=\"_blank\" href=https://colab.research.google.com/notebooks/data_table.ipynb>data table notebook</a>'\n",
              "            + ' to learn more about interactive tables.';\n",
              "          element.innerHTML = '';\n",
              "          dataTable['output_type'] = 'display_data';\n",
              "          await google.colab.output.renderOutput(dataTable, element);\n",
              "          const docLink = document.createElement('div');\n",
              "          docLink.innerHTML = docLinkHtml;\n",
              "          element.appendChild(docLink);\n",
              "        }\n",
              "      </script>\n",
              "    </div>\n",
              "  </div>\n",
              "  "
            ]
          },
          "metadata": {},
          "execution_count": 4
        }
      ]
    },
    {
      "cell_type": "code",
      "source": [
        "# View the last five rows of the data\n",
        "data.tail()"
      ],
      "metadata": {
        "colab": {
          "base_uri": "https://localhost:8080/",
          "height": 270
        },
        "id": "N0FFSLh5e0lv",
        "outputId": "f9326915-d688-4a09-8161-7449eb9b9d8e"
      },
      "id": "N0FFSLh5e0lv",
      "execution_count": null,
      "outputs": [
        {
          "output_type": "execute_result",
          "data": {
            "text/plain": [
              "           ID  age current_occupation first_interaction profile_completed  \\\n",
              "4607  EXT4608   35         Unemployed        Mobile App            Medium   \n",
              "4608  EXT4609   55       Professional        Mobile App            Medium   \n",
              "4609  EXT4610   58       Professional           Website              High   \n",
              "4610  EXT4611   57       Professional        Mobile App            Medium   \n",
              "4611  EXT4612   55       Professional           Website            Medium   \n",
              "\n",
              "      website_visits  time_spent_on_website  page_views_per_visit  \\\n",
              "4607              15                    360               2.17000   \n",
              "4608               8                   2327               5.39300   \n",
              "4609               2                    212               2.69200   \n",
              "4610               1                    154               3.87900   \n",
              "4611               4                   2290               2.07500   \n",
              "\n",
              "         last_activity print_media_type1 print_media_type2 digital_media  \\\n",
              "4607    Phone Activity                No                No            No   \n",
              "4608    Email Activity                No                No            No   \n",
              "4609    Email Activity                No                No            No   \n",
              "4610  Website Activity               Yes                No            No   \n",
              "4611    Phone Activity                No                No            No   \n",
              "\n",
              "     educational_channels referral  status  \n",
              "4607                  Yes       No       0  \n",
              "4608                   No       No       0  \n",
              "4609                   No       No       1  \n",
              "4610                   No       No       0  \n",
              "4611                   No       No       0  "
            ],
            "text/html": [
              "\n",
              "  <div id=\"df-09347e05-8e6f-47a7-b83e-b7cfe089ed9d\">\n",
              "    <div class=\"colab-df-container\">\n",
              "      <div>\n",
              "<style scoped>\n",
              "    .dataframe tbody tr th:only-of-type {\n",
              "        vertical-align: middle;\n",
              "    }\n",
              "\n",
              "    .dataframe tbody tr th {\n",
              "        vertical-align: top;\n",
              "    }\n",
              "\n",
              "    .dataframe thead th {\n",
              "        text-align: right;\n",
              "    }\n",
              "</style>\n",
              "<table border=\"1\" class=\"dataframe\">\n",
              "  <thead>\n",
              "    <tr style=\"text-align: right;\">\n",
              "      <th></th>\n",
              "      <th>ID</th>\n",
              "      <th>age</th>\n",
              "      <th>current_occupation</th>\n",
              "      <th>first_interaction</th>\n",
              "      <th>profile_completed</th>\n",
              "      <th>website_visits</th>\n",
              "      <th>time_spent_on_website</th>\n",
              "      <th>page_views_per_visit</th>\n",
              "      <th>last_activity</th>\n",
              "      <th>print_media_type1</th>\n",
              "      <th>print_media_type2</th>\n",
              "      <th>digital_media</th>\n",
              "      <th>educational_channels</th>\n",
              "      <th>referral</th>\n",
              "      <th>status</th>\n",
              "    </tr>\n",
              "  </thead>\n",
              "  <tbody>\n",
              "    <tr>\n",
              "      <th>4607</th>\n",
              "      <td>EXT4608</td>\n",
              "      <td>35</td>\n",
              "      <td>Unemployed</td>\n",
              "      <td>Mobile App</td>\n",
              "      <td>Medium</td>\n",
              "      <td>15</td>\n",
              "      <td>360</td>\n",
              "      <td>2.17000</td>\n",
              "      <td>Phone Activity</td>\n",
              "      <td>No</td>\n",
              "      <td>No</td>\n",
              "      <td>No</td>\n",
              "      <td>Yes</td>\n",
              "      <td>No</td>\n",
              "      <td>0</td>\n",
              "    </tr>\n",
              "    <tr>\n",
              "      <th>4608</th>\n",
              "      <td>EXT4609</td>\n",
              "      <td>55</td>\n",
              "      <td>Professional</td>\n",
              "      <td>Mobile App</td>\n",
              "      <td>Medium</td>\n",
              "      <td>8</td>\n",
              "      <td>2327</td>\n",
              "      <td>5.39300</td>\n",
              "      <td>Email Activity</td>\n",
              "      <td>No</td>\n",
              "      <td>No</td>\n",
              "      <td>No</td>\n",
              "      <td>No</td>\n",
              "      <td>No</td>\n",
              "      <td>0</td>\n",
              "    </tr>\n",
              "    <tr>\n",
              "      <th>4609</th>\n",
              "      <td>EXT4610</td>\n",
              "      <td>58</td>\n",
              "      <td>Professional</td>\n",
              "      <td>Website</td>\n",
              "      <td>High</td>\n",
              "      <td>2</td>\n",
              "      <td>212</td>\n",
              "      <td>2.69200</td>\n",
              "      <td>Email Activity</td>\n",
              "      <td>No</td>\n",
              "      <td>No</td>\n",
              "      <td>No</td>\n",
              "      <td>No</td>\n",
              "      <td>No</td>\n",
              "      <td>1</td>\n",
              "    </tr>\n",
              "    <tr>\n",
              "      <th>4610</th>\n",
              "      <td>EXT4611</td>\n",
              "      <td>57</td>\n",
              "      <td>Professional</td>\n",
              "      <td>Mobile App</td>\n",
              "      <td>Medium</td>\n",
              "      <td>1</td>\n",
              "      <td>154</td>\n",
              "      <td>3.87900</td>\n",
              "      <td>Website Activity</td>\n",
              "      <td>Yes</td>\n",
              "      <td>No</td>\n",
              "      <td>No</td>\n",
              "      <td>No</td>\n",
              "      <td>No</td>\n",
              "      <td>0</td>\n",
              "    </tr>\n",
              "    <tr>\n",
              "      <th>4611</th>\n",
              "      <td>EXT4612</td>\n",
              "      <td>55</td>\n",
              "      <td>Professional</td>\n",
              "      <td>Website</td>\n",
              "      <td>Medium</td>\n",
              "      <td>4</td>\n",
              "      <td>2290</td>\n",
              "      <td>2.07500</td>\n",
              "      <td>Phone Activity</td>\n",
              "      <td>No</td>\n",
              "      <td>No</td>\n",
              "      <td>No</td>\n",
              "      <td>No</td>\n",
              "      <td>No</td>\n",
              "      <td>0</td>\n",
              "    </tr>\n",
              "  </tbody>\n",
              "</table>\n",
              "</div>\n",
              "      <button class=\"colab-df-convert\" onclick=\"convertToInteractive('df-09347e05-8e6f-47a7-b83e-b7cfe089ed9d')\"\n",
              "              title=\"Convert this dataframe to an interactive table.\"\n",
              "              style=\"display:none;\">\n",
              "        \n",
              "  <svg xmlns=\"http://www.w3.org/2000/svg\" height=\"24px\"viewBox=\"0 0 24 24\"\n",
              "       width=\"24px\">\n",
              "    <path d=\"M0 0h24v24H0V0z\" fill=\"none\"/>\n",
              "    <path d=\"M18.56 5.44l.94 2.06.94-2.06 2.06-.94-2.06-.94-.94-2.06-.94 2.06-2.06.94zm-11 1L8.5 8.5l.94-2.06 2.06-.94-2.06-.94L8.5 2.5l-.94 2.06-2.06.94zm10 10l.94 2.06.94-2.06 2.06-.94-2.06-.94-.94-2.06-.94 2.06-2.06.94z\"/><path d=\"M17.41 7.96l-1.37-1.37c-.4-.4-.92-.59-1.43-.59-.52 0-1.04.2-1.43.59L10.3 9.45l-7.72 7.72c-.78.78-.78 2.05 0 2.83L4 21.41c.39.39.9.59 1.41.59.51 0 1.02-.2 1.41-.59l7.78-7.78 2.81-2.81c.8-.78.8-2.07 0-2.86zM5.41 20L4 18.59l7.72-7.72 1.47 1.35L5.41 20z\"/>\n",
              "  </svg>\n",
              "      </button>\n",
              "      \n",
              "  <style>\n",
              "    .colab-df-container {\n",
              "      display:flex;\n",
              "      flex-wrap:wrap;\n",
              "      gap: 12px;\n",
              "    }\n",
              "\n",
              "    .colab-df-convert {\n",
              "      background-color: #E8F0FE;\n",
              "      border: none;\n",
              "      border-radius: 50%;\n",
              "      cursor: pointer;\n",
              "      display: none;\n",
              "      fill: #1967D2;\n",
              "      height: 32px;\n",
              "      padding: 0 0 0 0;\n",
              "      width: 32px;\n",
              "    }\n",
              "\n",
              "    .colab-df-convert:hover {\n",
              "      background-color: #E2EBFA;\n",
              "      box-shadow: 0px 1px 2px rgba(60, 64, 67, 0.3), 0px 1px 3px 1px rgba(60, 64, 67, 0.15);\n",
              "      fill: #174EA6;\n",
              "    }\n",
              "\n",
              "    [theme=dark] .colab-df-convert {\n",
              "      background-color: #3B4455;\n",
              "      fill: #D2E3FC;\n",
              "    }\n",
              "\n",
              "    [theme=dark] .colab-df-convert:hover {\n",
              "      background-color: #434B5C;\n",
              "      box-shadow: 0px 1px 3px 1px rgba(0, 0, 0, 0.15);\n",
              "      filter: drop-shadow(0px 1px 2px rgba(0, 0, 0, 0.3));\n",
              "      fill: #FFFFFF;\n",
              "    }\n",
              "  </style>\n",
              "\n",
              "      <script>\n",
              "        const buttonEl =\n",
              "          document.querySelector('#df-09347e05-8e6f-47a7-b83e-b7cfe089ed9d button.colab-df-convert');\n",
              "        buttonEl.style.display =\n",
              "          google.colab.kernel.accessAllowed ? 'block' : 'none';\n",
              "\n",
              "        async function convertToInteractive(key) {\n",
              "          const element = document.querySelector('#df-09347e05-8e6f-47a7-b83e-b7cfe089ed9d');\n",
              "          const dataTable =\n",
              "            await google.colab.kernel.invokeFunction('convertToInteractive',\n",
              "                                                     [key], {});\n",
              "          if (!dataTable) return;\n",
              "\n",
              "          const docLinkHtml = 'Like what you see? Visit the ' +\n",
              "            '<a target=\"_blank\" href=https://colab.research.google.com/notebooks/data_table.ipynb>data table notebook</a>'\n",
              "            + ' to learn more about interactive tables.';\n",
              "          element.innerHTML = '';\n",
              "          dataTable['output_type'] = 'display_data';\n",
              "          await google.colab.output.renderOutput(dataTable, element);\n",
              "          const docLink = document.createElement('div');\n",
              "          docLink.innerHTML = docLinkHtml;\n",
              "          element.appendChild(docLink);\n",
              "        }\n",
              "      </script>\n",
              "    </div>\n",
              "  </div>\n",
              "  "
            ]
          },
          "metadata": {},
          "execution_count": 5
        }
      ]
    },
    {
      "cell_type": "code",
      "source": [
        "# Understand the shape of the data\n",
        "data.shape"
      ],
      "metadata": {
        "colab": {
          "base_uri": "https://localhost:8080/"
        },
        "id": "sofIzByCe-O5",
        "outputId": "42012d81-170f-4683-880e-6b2ba39af551"
      },
      "id": "sofIzByCe-O5",
      "execution_count": null,
      "outputs": [
        {
          "output_type": "execute_result",
          "data": {
            "text/plain": [
              "(4612, 15)"
            ]
          },
          "metadata": {},
          "execution_count": 6
        }
      ]
    },
    {
      "cell_type": "markdown",
      "source": [
        "##### Observation\n",
        "* There are 4,612 observations and 15 columns"
      ],
      "metadata": {
        "id": "n3bE8hYMfq8N"
      },
      "id": "n3bE8hYMfq8N"
    },
    {
      "cell_type": "code",
      "source": [
        "# Check for full values in the data\n",
        "data.isnull().values.any()"
      ],
      "metadata": {
        "colab": {
          "base_uri": "https://localhost:8080/"
        },
        "id": "PRq65ZLXflbt",
        "outputId": "5b191092-adc4-4464-fa05-1f35efaa15fc"
      },
      "id": "PRq65ZLXflbt",
      "execution_count": null,
      "outputs": [
        {
          "output_type": "execute_result",
          "data": {
            "text/plain": [
              "False"
            ]
          },
          "metadata": {},
          "execution_count": 7
        }
      ]
    },
    {
      "cell_type": "markdown",
      "source": [
        "##### Observations \n",
        "* There are no missing values in the data. "
      ],
      "metadata": {
        "id": "n23MZQmdvcuP"
      },
      "id": "n23MZQmdvcuP"
    },
    {
      "cell_type": "code",
      "source": [
        "# Drop the ID before proceeding\n",
        "data = data.drop([\"ID\"], axis=1)"
      ],
      "metadata": {
        "id": "msMFYHEOxbVO"
      },
      "id": "msMFYHEOxbVO",
      "execution_count": null,
      "outputs": []
    },
    {
      "cell_type": "code",
      "source": [
        "# Confirm ID column is dropped\n",
        "data.head()"
      ],
      "metadata": {
        "colab": {
          "base_uri": "https://localhost:8080/",
          "height": 270
        },
        "id": "UwJb4cLFx-f3",
        "outputId": "90d7a71c-7143-4294-9597-82804f395e5e"
      },
      "id": "UwJb4cLFx-f3",
      "execution_count": null,
      "outputs": [
        {
          "output_type": "execute_result",
          "data": {
            "text/plain": [
              "   age current_occupation first_interaction profile_completed  website_visits  \\\n",
              "0   57         Unemployed           Website              High               7   \n",
              "1   56       Professional        Mobile App            Medium               2   \n",
              "2   52       Professional           Website            Medium               3   \n",
              "3   53         Unemployed           Website              High               4   \n",
              "4   23            Student           Website              High               4   \n",
              "\n",
              "   time_spent_on_website  page_views_per_visit     last_activity  \\\n",
              "0                   1639               1.86100  Website Activity   \n",
              "1                     83               0.32000  Website Activity   \n",
              "2                    330               0.07400  Website Activity   \n",
              "3                    464               2.05700  Website Activity   \n",
              "4                    600              16.91400    Email Activity   \n",
              "\n",
              "  print_media_type1 print_media_type2 digital_media educational_channels  \\\n",
              "0               Yes                No           Yes                   No   \n",
              "1                No                No            No                  Yes   \n",
              "2                No                No           Yes                   No   \n",
              "3                No                No            No                   No   \n",
              "4                No                No            No                   No   \n",
              "\n",
              "  referral  status  \n",
              "0       No       1  \n",
              "1       No       0  \n",
              "2       No       0  \n",
              "3       No       1  \n",
              "4       No       0  "
            ],
            "text/html": [
              "\n",
              "  <div id=\"df-155dbe1c-d028-42bd-874c-9c918c418003\">\n",
              "    <div class=\"colab-df-container\">\n",
              "      <div>\n",
              "<style scoped>\n",
              "    .dataframe tbody tr th:only-of-type {\n",
              "        vertical-align: middle;\n",
              "    }\n",
              "\n",
              "    .dataframe tbody tr th {\n",
              "        vertical-align: top;\n",
              "    }\n",
              "\n",
              "    .dataframe thead th {\n",
              "        text-align: right;\n",
              "    }\n",
              "</style>\n",
              "<table border=\"1\" class=\"dataframe\">\n",
              "  <thead>\n",
              "    <tr style=\"text-align: right;\">\n",
              "      <th></th>\n",
              "      <th>age</th>\n",
              "      <th>current_occupation</th>\n",
              "      <th>first_interaction</th>\n",
              "      <th>profile_completed</th>\n",
              "      <th>website_visits</th>\n",
              "      <th>time_spent_on_website</th>\n",
              "      <th>page_views_per_visit</th>\n",
              "      <th>last_activity</th>\n",
              "      <th>print_media_type1</th>\n",
              "      <th>print_media_type2</th>\n",
              "      <th>digital_media</th>\n",
              "      <th>educational_channels</th>\n",
              "      <th>referral</th>\n",
              "      <th>status</th>\n",
              "    </tr>\n",
              "  </thead>\n",
              "  <tbody>\n",
              "    <tr>\n",
              "      <th>0</th>\n",
              "      <td>57</td>\n",
              "      <td>Unemployed</td>\n",
              "      <td>Website</td>\n",
              "      <td>High</td>\n",
              "      <td>7</td>\n",
              "      <td>1639</td>\n",
              "      <td>1.86100</td>\n",
              "      <td>Website Activity</td>\n",
              "      <td>Yes</td>\n",
              "      <td>No</td>\n",
              "      <td>Yes</td>\n",
              "      <td>No</td>\n",
              "      <td>No</td>\n",
              "      <td>1</td>\n",
              "    </tr>\n",
              "    <tr>\n",
              "      <th>1</th>\n",
              "      <td>56</td>\n",
              "      <td>Professional</td>\n",
              "      <td>Mobile App</td>\n",
              "      <td>Medium</td>\n",
              "      <td>2</td>\n",
              "      <td>83</td>\n",
              "      <td>0.32000</td>\n",
              "      <td>Website Activity</td>\n",
              "      <td>No</td>\n",
              "      <td>No</td>\n",
              "      <td>No</td>\n",
              "      <td>Yes</td>\n",
              "      <td>No</td>\n",
              "      <td>0</td>\n",
              "    </tr>\n",
              "    <tr>\n",
              "      <th>2</th>\n",
              "      <td>52</td>\n",
              "      <td>Professional</td>\n",
              "      <td>Website</td>\n",
              "      <td>Medium</td>\n",
              "      <td>3</td>\n",
              "      <td>330</td>\n",
              "      <td>0.07400</td>\n",
              "      <td>Website Activity</td>\n",
              "      <td>No</td>\n",
              "      <td>No</td>\n",
              "      <td>Yes</td>\n",
              "      <td>No</td>\n",
              "      <td>No</td>\n",
              "      <td>0</td>\n",
              "    </tr>\n",
              "    <tr>\n",
              "      <th>3</th>\n",
              "      <td>53</td>\n",
              "      <td>Unemployed</td>\n",
              "      <td>Website</td>\n",
              "      <td>High</td>\n",
              "      <td>4</td>\n",
              "      <td>464</td>\n",
              "      <td>2.05700</td>\n",
              "      <td>Website Activity</td>\n",
              "      <td>No</td>\n",
              "      <td>No</td>\n",
              "      <td>No</td>\n",
              "      <td>No</td>\n",
              "      <td>No</td>\n",
              "      <td>1</td>\n",
              "    </tr>\n",
              "    <tr>\n",
              "      <th>4</th>\n",
              "      <td>23</td>\n",
              "      <td>Student</td>\n",
              "      <td>Website</td>\n",
              "      <td>High</td>\n",
              "      <td>4</td>\n",
              "      <td>600</td>\n",
              "      <td>16.91400</td>\n",
              "      <td>Email Activity</td>\n",
              "      <td>No</td>\n",
              "      <td>No</td>\n",
              "      <td>No</td>\n",
              "      <td>No</td>\n",
              "      <td>No</td>\n",
              "      <td>0</td>\n",
              "    </tr>\n",
              "  </tbody>\n",
              "</table>\n",
              "</div>\n",
              "      <button class=\"colab-df-convert\" onclick=\"convertToInteractive('df-155dbe1c-d028-42bd-874c-9c918c418003')\"\n",
              "              title=\"Convert this dataframe to an interactive table.\"\n",
              "              style=\"display:none;\">\n",
              "        \n",
              "  <svg xmlns=\"http://www.w3.org/2000/svg\" height=\"24px\"viewBox=\"0 0 24 24\"\n",
              "       width=\"24px\">\n",
              "    <path d=\"M0 0h24v24H0V0z\" fill=\"none\"/>\n",
              "    <path d=\"M18.56 5.44l.94 2.06.94-2.06 2.06-.94-2.06-.94-.94-2.06-.94 2.06-2.06.94zm-11 1L8.5 8.5l.94-2.06 2.06-.94-2.06-.94L8.5 2.5l-.94 2.06-2.06.94zm10 10l.94 2.06.94-2.06 2.06-.94-2.06-.94-.94-2.06-.94 2.06-2.06.94z\"/><path d=\"M17.41 7.96l-1.37-1.37c-.4-.4-.92-.59-1.43-.59-.52 0-1.04.2-1.43.59L10.3 9.45l-7.72 7.72c-.78.78-.78 2.05 0 2.83L4 21.41c.39.39.9.59 1.41.59.51 0 1.02-.2 1.41-.59l7.78-7.78 2.81-2.81c.8-.78.8-2.07 0-2.86zM5.41 20L4 18.59l7.72-7.72 1.47 1.35L5.41 20z\"/>\n",
              "  </svg>\n",
              "      </button>\n",
              "      \n",
              "  <style>\n",
              "    .colab-df-container {\n",
              "      display:flex;\n",
              "      flex-wrap:wrap;\n",
              "      gap: 12px;\n",
              "    }\n",
              "\n",
              "    .colab-df-convert {\n",
              "      background-color: #E8F0FE;\n",
              "      border: none;\n",
              "      border-radius: 50%;\n",
              "      cursor: pointer;\n",
              "      display: none;\n",
              "      fill: #1967D2;\n",
              "      height: 32px;\n",
              "      padding: 0 0 0 0;\n",
              "      width: 32px;\n",
              "    }\n",
              "\n",
              "    .colab-df-convert:hover {\n",
              "      background-color: #E2EBFA;\n",
              "      box-shadow: 0px 1px 2px rgba(60, 64, 67, 0.3), 0px 1px 3px 1px rgba(60, 64, 67, 0.15);\n",
              "      fill: #174EA6;\n",
              "    }\n",
              "\n",
              "    [theme=dark] .colab-df-convert {\n",
              "      background-color: #3B4455;\n",
              "      fill: #D2E3FC;\n",
              "    }\n",
              "\n",
              "    [theme=dark] .colab-df-convert:hover {\n",
              "      background-color: #434B5C;\n",
              "      box-shadow: 0px 1px 3px 1px rgba(0, 0, 0, 0.15);\n",
              "      filter: drop-shadow(0px 1px 2px rgba(0, 0, 0, 0.3));\n",
              "      fill: #FFFFFF;\n",
              "    }\n",
              "  </style>\n",
              "\n",
              "      <script>\n",
              "        const buttonEl =\n",
              "          document.querySelector('#df-155dbe1c-d028-42bd-874c-9c918c418003 button.colab-df-convert');\n",
              "        buttonEl.style.display =\n",
              "          google.colab.kernel.accessAllowed ? 'block' : 'none';\n",
              "\n",
              "        async function convertToInteractive(key) {\n",
              "          const element = document.querySelector('#df-155dbe1c-d028-42bd-874c-9c918c418003');\n",
              "          const dataTable =\n",
              "            await google.colab.kernel.invokeFunction('convertToInteractive',\n",
              "                                                     [key], {});\n",
              "          if (!dataTable) return;\n",
              "\n",
              "          const docLinkHtml = 'Like what you see? Visit the ' +\n",
              "            '<a target=\"_blank\" href=https://colab.research.google.com/notebooks/data_table.ipynb>data table notebook</a>'\n",
              "            + ' to learn more about interactive tables.';\n",
              "          element.innerHTML = '';\n",
              "          dataTable['output_type'] = 'display_data';\n",
              "          await google.colab.output.renderOutput(dataTable, element);\n",
              "          const docLink = document.createElement('div');\n",
              "          docLink.innerHTML = docLinkHtml;\n",
              "          element.appendChild(docLink);\n",
              "        }\n",
              "      </script>\n",
              "    </div>\n",
              "  </div>\n",
              "  "
            ]
          },
          "metadata": {},
          "execution_count": 9
        }
      ]
    },
    {
      "cell_type": "code",
      "source": [
        "# Summary of the dataset\n",
        "data.describe(include=\"all\").T"
      ],
      "metadata": {
        "colab": {
          "base_uri": "https://localhost:8080/",
          "height": 488
        },
        "id": "l9mKDVeLzTdI",
        "outputId": "410b7ac1-3bed-44ec-c224-43ce860ccbff"
      },
      "id": "l9mKDVeLzTdI",
      "execution_count": null,
      "outputs": [
        {
          "output_type": "execute_result",
          "data": {
            "text/plain": [
              "                           count unique             top  freq      mean  \\\n",
              "age                   4612.00000    NaN             NaN   NaN  46.20121   \n",
              "current_occupation          4612      3    Professional  2616       NaN   \n",
              "first_interaction           4612      2         Website  2542       NaN   \n",
              "profile_completed           4612      3            High  2264       NaN   \n",
              "website_visits        4612.00000    NaN             NaN   NaN   3.56678   \n",
              "time_spent_on_website 4612.00000    NaN             NaN   NaN 724.01127   \n",
              "page_views_per_visit  4612.00000    NaN             NaN   NaN   3.02613   \n",
              "last_activity               4612      3  Email Activity  2278       NaN   \n",
              "print_media_type1           4612      2              No  4115       NaN   \n",
              "print_media_type2           4612      2              No  4379       NaN   \n",
              "digital_media               4612      2              No  4085       NaN   \n",
              "educational_channels        4612      2              No  3907       NaN   \n",
              "referral                    4612      2              No  4519       NaN   \n",
              "status                4612.00000    NaN             NaN   NaN   0.29857   \n",
              "\n",
              "                            std      min       25%       50%        75%  \\\n",
              "age                    13.16145 18.00000  36.00000  51.00000   57.00000   \n",
              "current_occupation          NaN      NaN       NaN       NaN        NaN   \n",
              "first_interaction           NaN      NaN       NaN       NaN        NaN   \n",
              "profile_completed           NaN      NaN       NaN       NaN        NaN   \n",
              "website_visits          2.82913  0.00000   2.00000   3.00000    5.00000   \n",
              "time_spent_on_website 743.82868  0.00000 148.75000 376.00000 1336.75000   \n",
              "page_views_per_visit    1.96812  0.00000   2.07775   2.79200    3.75625   \n",
              "last_activity               NaN      NaN       NaN       NaN        NaN   \n",
              "print_media_type1           NaN      NaN       NaN       NaN        NaN   \n",
              "print_media_type2           NaN      NaN       NaN       NaN        NaN   \n",
              "digital_media               NaN      NaN       NaN       NaN        NaN   \n",
              "educational_channels        NaN      NaN       NaN       NaN        NaN   \n",
              "referral                    NaN      NaN       NaN       NaN        NaN   \n",
              "status                  0.45768  0.00000   0.00000   0.00000    1.00000   \n",
              "\n",
              "                             max  \n",
              "age                     63.00000  \n",
              "current_occupation           NaN  \n",
              "first_interaction            NaN  \n",
              "profile_completed            NaN  \n",
              "website_visits          30.00000  \n",
              "time_spent_on_website 2537.00000  \n",
              "page_views_per_visit    18.43400  \n",
              "last_activity                NaN  \n",
              "print_media_type1            NaN  \n",
              "print_media_type2            NaN  \n",
              "digital_media                NaN  \n",
              "educational_channels         NaN  \n",
              "referral                     NaN  \n",
              "status                   1.00000  "
            ],
            "text/html": [
              "\n",
              "  <div id=\"df-e59ca1db-129f-4ae3-8e80-68f452067305\">\n",
              "    <div class=\"colab-df-container\">\n",
              "      <div>\n",
              "<style scoped>\n",
              "    .dataframe tbody tr th:only-of-type {\n",
              "        vertical-align: middle;\n",
              "    }\n",
              "\n",
              "    .dataframe tbody tr th {\n",
              "        vertical-align: top;\n",
              "    }\n",
              "\n",
              "    .dataframe thead th {\n",
              "        text-align: right;\n",
              "    }\n",
              "</style>\n",
              "<table border=\"1\" class=\"dataframe\">\n",
              "  <thead>\n",
              "    <tr style=\"text-align: right;\">\n",
              "      <th></th>\n",
              "      <th>count</th>\n",
              "      <th>unique</th>\n",
              "      <th>top</th>\n",
              "      <th>freq</th>\n",
              "      <th>mean</th>\n",
              "      <th>std</th>\n",
              "      <th>min</th>\n",
              "      <th>25%</th>\n",
              "      <th>50%</th>\n",
              "      <th>75%</th>\n",
              "      <th>max</th>\n",
              "    </tr>\n",
              "  </thead>\n",
              "  <tbody>\n",
              "    <tr>\n",
              "      <th>age</th>\n",
              "      <td>4612.00000</td>\n",
              "      <td>NaN</td>\n",
              "      <td>NaN</td>\n",
              "      <td>NaN</td>\n",
              "      <td>46.20121</td>\n",
              "      <td>13.16145</td>\n",
              "      <td>18.00000</td>\n",
              "      <td>36.00000</td>\n",
              "      <td>51.00000</td>\n",
              "      <td>57.00000</td>\n",
              "      <td>63.00000</td>\n",
              "    </tr>\n",
              "    <tr>\n",
              "      <th>current_occupation</th>\n",
              "      <td>4612</td>\n",
              "      <td>3</td>\n",
              "      <td>Professional</td>\n",
              "      <td>2616</td>\n",
              "      <td>NaN</td>\n",
              "      <td>NaN</td>\n",
              "      <td>NaN</td>\n",
              "      <td>NaN</td>\n",
              "      <td>NaN</td>\n",
              "      <td>NaN</td>\n",
              "      <td>NaN</td>\n",
              "    </tr>\n",
              "    <tr>\n",
              "      <th>first_interaction</th>\n",
              "      <td>4612</td>\n",
              "      <td>2</td>\n",
              "      <td>Website</td>\n",
              "      <td>2542</td>\n",
              "      <td>NaN</td>\n",
              "      <td>NaN</td>\n",
              "      <td>NaN</td>\n",
              "      <td>NaN</td>\n",
              "      <td>NaN</td>\n",
              "      <td>NaN</td>\n",
              "      <td>NaN</td>\n",
              "    </tr>\n",
              "    <tr>\n",
              "      <th>profile_completed</th>\n",
              "      <td>4612</td>\n",
              "      <td>3</td>\n",
              "      <td>High</td>\n",
              "      <td>2264</td>\n",
              "      <td>NaN</td>\n",
              "      <td>NaN</td>\n",
              "      <td>NaN</td>\n",
              "      <td>NaN</td>\n",
              "      <td>NaN</td>\n",
              "      <td>NaN</td>\n",
              "      <td>NaN</td>\n",
              "    </tr>\n",
              "    <tr>\n",
              "      <th>website_visits</th>\n",
              "      <td>4612.00000</td>\n",
              "      <td>NaN</td>\n",
              "      <td>NaN</td>\n",
              "      <td>NaN</td>\n",
              "      <td>3.56678</td>\n",
              "      <td>2.82913</td>\n",
              "      <td>0.00000</td>\n",
              "      <td>2.00000</td>\n",
              "      <td>3.00000</td>\n",
              "      <td>5.00000</td>\n",
              "      <td>30.00000</td>\n",
              "    </tr>\n",
              "    <tr>\n",
              "      <th>time_spent_on_website</th>\n",
              "      <td>4612.00000</td>\n",
              "      <td>NaN</td>\n",
              "      <td>NaN</td>\n",
              "      <td>NaN</td>\n",
              "      <td>724.01127</td>\n",
              "      <td>743.82868</td>\n",
              "      <td>0.00000</td>\n",
              "      <td>148.75000</td>\n",
              "      <td>376.00000</td>\n",
              "      <td>1336.75000</td>\n",
              "      <td>2537.00000</td>\n",
              "    </tr>\n",
              "    <tr>\n",
              "      <th>page_views_per_visit</th>\n",
              "      <td>4612.00000</td>\n",
              "      <td>NaN</td>\n",
              "      <td>NaN</td>\n",
              "      <td>NaN</td>\n",
              "      <td>3.02613</td>\n",
              "      <td>1.96812</td>\n",
              "      <td>0.00000</td>\n",
              "      <td>2.07775</td>\n",
              "      <td>2.79200</td>\n",
              "      <td>3.75625</td>\n",
              "      <td>18.43400</td>\n",
              "    </tr>\n",
              "    <tr>\n",
              "      <th>last_activity</th>\n",
              "      <td>4612</td>\n",
              "      <td>3</td>\n",
              "      <td>Email Activity</td>\n",
              "      <td>2278</td>\n",
              "      <td>NaN</td>\n",
              "      <td>NaN</td>\n",
              "      <td>NaN</td>\n",
              "      <td>NaN</td>\n",
              "      <td>NaN</td>\n",
              "      <td>NaN</td>\n",
              "      <td>NaN</td>\n",
              "    </tr>\n",
              "    <tr>\n",
              "      <th>print_media_type1</th>\n",
              "      <td>4612</td>\n",
              "      <td>2</td>\n",
              "      <td>No</td>\n",
              "      <td>4115</td>\n",
              "      <td>NaN</td>\n",
              "      <td>NaN</td>\n",
              "      <td>NaN</td>\n",
              "      <td>NaN</td>\n",
              "      <td>NaN</td>\n",
              "      <td>NaN</td>\n",
              "      <td>NaN</td>\n",
              "    </tr>\n",
              "    <tr>\n",
              "      <th>print_media_type2</th>\n",
              "      <td>4612</td>\n",
              "      <td>2</td>\n",
              "      <td>No</td>\n",
              "      <td>4379</td>\n",
              "      <td>NaN</td>\n",
              "      <td>NaN</td>\n",
              "      <td>NaN</td>\n",
              "      <td>NaN</td>\n",
              "      <td>NaN</td>\n",
              "      <td>NaN</td>\n",
              "      <td>NaN</td>\n",
              "    </tr>\n",
              "    <tr>\n",
              "      <th>digital_media</th>\n",
              "      <td>4612</td>\n",
              "      <td>2</td>\n",
              "      <td>No</td>\n",
              "      <td>4085</td>\n",
              "      <td>NaN</td>\n",
              "      <td>NaN</td>\n",
              "      <td>NaN</td>\n",
              "      <td>NaN</td>\n",
              "      <td>NaN</td>\n",
              "      <td>NaN</td>\n",
              "      <td>NaN</td>\n",
              "    </tr>\n",
              "    <tr>\n",
              "      <th>educational_channels</th>\n",
              "      <td>4612</td>\n",
              "      <td>2</td>\n",
              "      <td>No</td>\n",
              "      <td>3907</td>\n",
              "      <td>NaN</td>\n",
              "      <td>NaN</td>\n",
              "      <td>NaN</td>\n",
              "      <td>NaN</td>\n",
              "      <td>NaN</td>\n",
              "      <td>NaN</td>\n",
              "      <td>NaN</td>\n",
              "    </tr>\n",
              "    <tr>\n",
              "      <th>referral</th>\n",
              "      <td>4612</td>\n",
              "      <td>2</td>\n",
              "      <td>No</td>\n",
              "      <td>4519</td>\n",
              "      <td>NaN</td>\n",
              "      <td>NaN</td>\n",
              "      <td>NaN</td>\n",
              "      <td>NaN</td>\n",
              "      <td>NaN</td>\n",
              "      <td>NaN</td>\n",
              "      <td>NaN</td>\n",
              "    </tr>\n",
              "    <tr>\n",
              "      <th>status</th>\n",
              "      <td>4612.00000</td>\n",
              "      <td>NaN</td>\n",
              "      <td>NaN</td>\n",
              "      <td>NaN</td>\n",
              "      <td>0.29857</td>\n",
              "      <td>0.45768</td>\n",
              "      <td>0.00000</td>\n",
              "      <td>0.00000</td>\n",
              "      <td>0.00000</td>\n",
              "      <td>1.00000</td>\n",
              "      <td>1.00000</td>\n",
              "    </tr>\n",
              "  </tbody>\n",
              "</table>\n",
              "</div>\n",
              "      <button class=\"colab-df-convert\" onclick=\"convertToInteractive('df-e59ca1db-129f-4ae3-8e80-68f452067305')\"\n",
              "              title=\"Convert this dataframe to an interactive table.\"\n",
              "              style=\"display:none;\">\n",
              "        \n",
              "  <svg xmlns=\"http://www.w3.org/2000/svg\" height=\"24px\"viewBox=\"0 0 24 24\"\n",
              "       width=\"24px\">\n",
              "    <path d=\"M0 0h24v24H0V0z\" fill=\"none\"/>\n",
              "    <path d=\"M18.56 5.44l.94 2.06.94-2.06 2.06-.94-2.06-.94-.94-2.06-.94 2.06-2.06.94zm-11 1L8.5 8.5l.94-2.06 2.06-.94-2.06-.94L8.5 2.5l-.94 2.06-2.06.94zm10 10l.94 2.06.94-2.06 2.06-.94-2.06-.94-.94-2.06-.94 2.06-2.06.94z\"/><path d=\"M17.41 7.96l-1.37-1.37c-.4-.4-.92-.59-1.43-.59-.52 0-1.04.2-1.43.59L10.3 9.45l-7.72 7.72c-.78.78-.78 2.05 0 2.83L4 21.41c.39.39.9.59 1.41.59.51 0 1.02-.2 1.41-.59l7.78-7.78 2.81-2.81c.8-.78.8-2.07 0-2.86zM5.41 20L4 18.59l7.72-7.72 1.47 1.35L5.41 20z\"/>\n",
              "  </svg>\n",
              "      </button>\n",
              "      \n",
              "  <style>\n",
              "    .colab-df-container {\n",
              "      display:flex;\n",
              "      flex-wrap:wrap;\n",
              "      gap: 12px;\n",
              "    }\n",
              "\n",
              "    .colab-df-convert {\n",
              "      background-color: #E8F0FE;\n",
              "      border: none;\n",
              "      border-radius: 50%;\n",
              "      cursor: pointer;\n",
              "      display: none;\n",
              "      fill: #1967D2;\n",
              "      height: 32px;\n",
              "      padding: 0 0 0 0;\n",
              "      width: 32px;\n",
              "    }\n",
              "\n",
              "    .colab-df-convert:hover {\n",
              "      background-color: #E2EBFA;\n",
              "      box-shadow: 0px 1px 2px rgba(60, 64, 67, 0.3), 0px 1px 3px 1px rgba(60, 64, 67, 0.15);\n",
              "      fill: #174EA6;\n",
              "    }\n",
              "\n",
              "    [theme=dark] .colab-df-convert {\n",
              "      background-color: #3B4455;\n",
              "      fill: #D2E3FC;\n",
              "    }\n",
              "\n",
              "    [theme=dark] .colab-df-convert:hover {\n",
              "      background-color: #434B5C;\n",
              "      box-shadow: 0px 1px 3px 1px rgba(0, 0, 0, 0.15);\n",
              "      filter: drop-shadow(0px 1px 2px rgba(0, 0, 0, 0.3));\n",
              "      fill: #FFFFFF;\n",
              "    }\n",
              "  </style>\n",
              "\n",
              "      <script>\n",
              "        const buttonEl =\n",
              "          document.querySelector('#df-e59ca1db-129f-4ae3-8e80-68f452067305 button.colab-df-convert');\n",
              "        buttonEl.style.display =\n",
              "          google.colab.kernel.accessAllowed ? 'block' : 'none';\n",
              "\n",
              "        async function convertToInteractive(key) {\n",
              "          const element = document.querySelector('#df-e59ca1db-129f-4ae3-8e80-68f452067305');\n",
              "          const dataTable =\n",
              "            await google.colab.kernel.invokeFunction('convertToInteractive',\n",
              "                                                     [key], {});\n",
              "          if (!dataTable) return;\n",
              "\n",
              "          const docLinkHtml = 'Like what you see? Visit the ' +\n",
              "            '<a target=\"_blank\" href=https://colab.research.google.com/notebooks/data_table.ipynb>data table notebook</a>'\n",
              "            + ' to learn more about interactive tables.';\n",
              "          element.innerHTML = '';\n",
              "          dataTable['output_type'] = 'display_data';\n",
              "          await google.colab.output.renderOutput(dataTable, element);\n",
              "          const docLink = document.createElement('div');\n",
              "          docLink.innerHTML = docLinkHtml;\n",
              "          element.appendChild(docLink);\n",
              "        }\n",
              "      </script>\n",
              "    </div>\n",
              "  </div>\n",
              "  "
            ]
          },
          "metadata": {},
          "execution_count": 26
        }
      ]
    },
    {
      "cell_type": "markdown",
      "source": [
        "##### Observations\n",
        "* The mean age of leads is 46 years old and median is 51.\n",
        "* Most leads are within the professional occupation.\n",
        "* Over half of leads' first interaction is through the website.\n",
        "* Almost half of leads complete 75-100% of their profile.\n",
        "* Median lead visit to website is 3 (conversion rate between 1,2, and 3?).\n",
        "* The median time spent on the website is 376.\n",
        "* The median page views per visit is 2.79 (engagement beyond initial landing page).\n",
        "* About half of leads' last interaction with ExtraaLearn is through email (How many of these were converted?).\n",
        "* 11.43% of leads saw our ad on a digital media platform, 10.77% of leads saw our ad in a newspaper, and 5.05% of leads saw our ad in a magazine. This suggests that leads likely became aware of ExtraaLearn from another source. \n",
        "* 15.29% of leads heard about ExtraaLearn through online education channels. There is still a major gap in understanding where the majority of leads became aware of ExtraaLearn. Peer to peer should be investigated. \n",
        "* Only 2.01% of leads were generated through referrals. \n",
        "* We may need to implement feature engineering for media type for modeling. \n"
      ],
      "metadata": {
        "id": "dZ3DDvKNzoYp"
      },
      "id": "dZ3DDvKNzoYp"
    },
    {
      "cell_type": "code",
      "source": [
        "# Count of leads that converted to paid customers\n",
        "converted = (data[\"status\"] == 1).sum()\n",
        "converted\n",
        "converted_leads = 1377\n",
        "total_leads = 4612"
      ],
      "metadata": {
        "id": "YCOj8LvazgUm"
      },
      "id": "YCOj8LvazgUm",
      "execution_count": null,
      "outputs": []
    },
    {
      "cell_type": "code",
      "source": [
        "# Calculate conversions\n",
        "print(\"The percentage of leads converted to paid customers is:\", (converted_leads/total_leads)*100)"
      ],
      "metadata": {
        "colab": {
          "base_uri": "https://localhost:8080/"
        },
        "id": "XEt44LcoD7cJ",
        "outputId": "7c9ae424-21ac-42fe-8bd5-f84fd9e64071"
      },
      "id": "XEt44LcoD7cJ",
      "execution_count": null,
      "outputs": [
        {
          "output_type": "stream",
          "name": "stdout",
          "text": [
            "The percentage of leads converted to paid customers is: 29.856895056374675\n"
          ]
        }
      ]
    },
    {
      "cell_type": "code",
      "source": [
        "# Review types of data\n",
        "data.info()"
      ],
      "metadata": {
        "colab": {
          "base_uri": "https://localhost:8080/"
        },
        "id": "HvNSAwtZvnFM",
        "outputId": "69b44c1d-4b81-4bb3-a862-8a3a1f76ff71"
      },
      "id": "HvNSAwtZvnFM",
      "execution_count": null,
      "outputs": [
        {
          "output_type": "stream",
          "name": "stdout",
          "text": [
            "<class 'pandas.core.frame.DataFrame'>\n",
            "RangeIndex: 4612 entries, 0 to 4611\n",
            "Data columns (total 14 columns):\n",
            " #   Column                 Non-Null Count  Dtype  \n",
            "---  ------                 --------------  -----  \n",
            " 0   age                    4612 non-null   int64  \n",
            " 1   current_occupation     4612 non-null   object \n",
            " 2   first_interaction      4612 non-null   object \n",
            " 3   profile_completed      4612 non-null   object \n",
            " 4   website_visits         4612 non-null   int64  \n",
            " 5   time_spent_on_website  4612 non-null   int64  \n",
            " 6   page_views_per_visit   4612 non-null   float64\n",
            " 7   last_activity          4612 non-null   object \n",
            " 8   print_media_type1      4612 non-null   object \n",
            " 9   print_media_type2      4612 non-null   object \n",
            " 10  digital_media          4612 non-null   object \n",
            " 11  educational_channels   4612 non-null   object \n",
            " 12  referral               4612 non-null   object \n",
            " 13  status                 4612 non-null   int64  \n",
            "dtypes: float64(1), int64(4), object(9)\n",
            "memory usage: 504.6+ KB\n"
          ]
        }
      ]
    },
    {
      "cell_type": "markdown",
      "metadata": {
        "id": "approved-brother"
      },
      "source": [
        "**Questions**\n",
        "1. Leads will have different expectations from the outcome of the course and the current occupation may play a key role in getting them to participate in the program. Find out how current occupation affects lead status.\n",
        "2. The company's first impression on the customer must have an impact. Do the first channels of interaction have an impact on the lead status? \n",
        "3. The company uses multiple modes to interact with prospects. Which way of interaction works best? \n",
        "4. The company gets leads from various channels such as print media, digital media, referrals, etc. Which of these channels have the highest lead conversion rate?\n",
        "5. People browsing the website or mobile application are generally required to create a profile by sharing their personal data before they can access additional information. Does having more details about a prospect increase the chances of conversion?"
      ],
      "id": "approved-brother"
    },
    {
      "cell_type": "markdown",
      "source": [
        "## Univariate Analysis"
      ],
      "metadata": {
        "id": "XhOaCBn_FtN4"
      },
      "id": "XhOaCBn_FtN4"
    },
    {
      "cell_type": "code",
      "source": [
        "# Function for labeled barplots\n",
        "\n",
        "def labeled_barplot(data, feature, perc=False, n=None):\n",
        "    \"\"\"\n",
        "    Barplot with percentage at the top\n",
        "\n",
        "    data: dataframe\n",
        "    feature: dataframe column\n",
        "    perc: whether to display percentages instead of count (default is False)\n",
        "    n: displays the top n category levels (default is None, i.e., display all levels)\n",
        "    \"\"\"\n",
        "\n",
        "    total = len(data[feature])  # length of the column\n",
        "    count = data[feature].nunique()\n",
        "    if n is None:\n",
        "        plt.figure(figsize=(count + 2, 6))\n",
        "    else:\n",
        "        plt.figure(figsize=(n + 2, 6))\n",
        "\n",
        "    plt.xticks(rotation=90, fontsize=15)\n",
        "    ax = sns.countplot(\n",
        "        data=data,\n",
        "        x=feature,\n",
        "        palette=\"Paired\",\n",
        "        order=data[feature].value_counts().index[:n].sort_values(),\n",
        "    )\n",
        "\n",
        "    for p in ax.patches:\n",
        "        if perc == True:\n",
        "            label = \"{:.1f}%\".format(\n",
        "                100 * p.get_height() / total\n",
        "            )  # percentage of each class of the category\n",
        "        else:\n",
        "            label = p.get_height()  # count of each level of the category\n",
        "\n",
        "        x = p.get_x() + p.get_width() / 2  # width of the plot\n",
        "        y = p.get_height()  # height of the plot\n",
        "\n",
        "        ax.annotate(\n",
        "            label,\n",
        "            (x, y),\n",
        "            ha=\"center\",\n",
        "            va=\"center\",\n",
        "            size=12,\n",
        "            xytext=(0, 5),\n",
        "            textcoords=\"offset points\",\n",
        "        )  # annotate the percentage\n",
        "\n",
        "    plt.show()  # show the plot"
      ],
      "metadata": {
        "id": "ZndYhq7sFsCc"
      },
      "id": "ZndYhq7sFsCc",
      "execution_count": null,
      "outputs": []
    },
    {
      "cell_type": "code",
      "source": [
        "# Barplot of conversions\n",
        "labeled_barplot(data, \"status\", perc=True)"
      ],
      "metadata": {
        "colab": {
          "base_uri": "https://localhost:8080/",
          "height": 388
        },
        "id": "8vlXAgyGJdci",
        "outputId": "6faaf9fd-a13a-49e5-94bb-1b33e61adf7e"
      },
      "id": "8vlXAgyGJdci",
      "execution_count": null,
      "outputs": [
        {
          "output_type": "display_data",
          "data": {
            "text/plain": [
              "<Figure size 288x432 with 1 Axes>"
            ],
            "image/png": "[encoded data removed]"
          },
          "metadata": {
            "needs_background": "light"
          }
        }
      ]
    },
    {
      "cell_type": "markdown",
      "source": [
        "##### Observations\n",
        "* 29.9% of leads converted to paid customers."
      ],
      "metadata": {
        "id": "UefsXKehK1Wc"
      },
      "id": "UefsXKehK1Wc"
    },
    {
      "cell_type": "code",
      "source": [
        "# Barplot of occupation\n",
        "\n",
        "labeled_barplot(data, \"current_occupation\", perc=True)"
      ],
      "metadata": {
        "colab": {
          "base_uri": "https://localhost:8080/",
          "height": 474
        },
        "id": "BrFq3Px5K7WA",
        "outputId": "46981245-95f9-4ebb-f1f4-60f9eb8e490f"
      },
      "id": "BrFq3Px5K7WA",
      "execution_count": null,
      "outputs": [
        {
          "output_type": "display_data",
          "data": {
            "text/plain": [
              "<Figure size 360x432 with 1 Axes>"
            ],
            "image/png": "[encoded data removed]"
          },
          "metadata": {
            "needs_background": "light"
          }
        }
      ]
    },
    {
      "cell_type": "markdown",
      "source": [
        "##### Observations\n",
        "* 56.7% of leads are in the profession field\n",
        "* 31.2% of leads are unemployed\n",
        "* 12.0% of leads are students\n"
      ],
      "metadata": {
        "id": "J0JNKJxOLRMt"
      },
      "id": "J0JNKJxOLRMt"
    },
    {
      "cell_type": "code",
      "source": [
        "# Barplot of first interactions\n",
        "labeled_barplot(data, \"first_interaction\", perc=True)"
      ],
      "metadata": {
        "colab": {
          "base_uri": "https://localhost:8080/",
          "height": 463
        },
        "id": "0QHSFDkEPGSZ",
        "outputId": "19805499-77de-4e46-f13f-cc524475a554"
      },
      "id": "0QHSFDkEPGSZ",
      "execution_count": null,
      "outputs": [
        {
          "output_type": "display_data",
          "data": {
            "text/plain": [
              "<Figure size 288x432 with 1 Axes>"
            ],
            "image/png": "[encoded data removed]"
          },
          "metadata": {
            "needs_background": "light"
          }
        }
      ]
    },
    {
      "cell_type": "markdown",
      "source": [
        "##### Observations\n",
        "* 55.1% of leads' first interaction was with our website.\n",
        "* Assumption is that leads typically view the website prior to downloading a mobile app. "
      ],
      "metadata": {
        "id": "_EVhrmuaPjrP"
      },
      "id": "_EVhrmuaPjrP"
    },
    {
      "cell_type": "code",
      "source": [
        "# Barplot on profiles completed\n",
        "labeled_barplot(data, \"profile_completed\", perc=True)"
      ],
      "metadata": {
        "colab": {
          "base_uri": "https://localhost:8080/",
          "height": 439
        },
        "id": "CwLJiEXPPVuH",
        "outputId": "a2030fbb-2aff-49be-f6dd-2682d0260716"
      },
      "id": "CwLJiEXPPVuH",
      "execution_count": null,
      "outputs": [
        {
          "output_type": "display_data",
          "data": {
            "text/plain": [
              "<Figure size 360x432 with 1 Axes>"
            ],
            "image/png": "[encoded data removed]"
          },
          "metadata": {
            "needs_background": "light"
          }
        }
      ]
    },
    {
      "cell_type": "markdown",
      "source": [
        "##### Observations\n",
        "* The majority of leads completed at least 50% of their profile. \n",
        "* We should explore conversation rates by each category.\n",
        "* We might need to convert to ordinal for classification modeling.  "
      ],
      "metadata": {
        "id": "m5-HVuIGQVoq"
      },
      "id": "m5-HVuIGQVoq"
    },
    {
      "cell_type": "code",
      "source": [
        "# Barplot of last activity\n",
        "labeled_barplot(data, \"last_activity\", perc=True)"
      ],
      "metadata": {
        "colab": {
          "base_uri": "https://localhost:8080/",
          "height": 500
        },
        "id": "DhfCnpOGQSI4",
        "outputId": "db65a279-bce6-4c1f-cba4-24dd737265e5"
      },
      "id": "DhfCnpOGQSI4",
      "execution_count": null,
      "outputs": [
        {
          "output_type": "display_data",
          "data": {
            "text/plain": [
              "<Figure size 360x432 with 1 Axes>"
            ],
            "image/png": "[encoded data removed]"
          },
          "metadata": {
            "needs_background": "light"
          }
        }
      ]
    },
    {
      "cell_type": "markdown",
      "source": [
        "##### Observations\n",
        "* About half of leads' last interaction was through email correspondance. "
      ],
      "metadata": {
        "id": "-MdxMKsnSKWY"
      },
      "id": "-MdxMKsnSKWY"
    },
    {
      "cell_type": "code",
      "source": [
        "# Barplot of media type 1 - newspaper\n",
        "labeled_barplot(data, \"print_media_type1\", perc=True)"
      ],
      "metadata": {
        "colab": {
          "base_uri": "https://localhost:8080/",
          "height": 403
        },
        "id": "yGWsU_gxJpJz",
        "outputId": "46a07bd3-9b81-456c-9a68-484c13afd323"
      },
      "id": "yGWsU_gxJpJz",
      "execution_count": null,
      "outputs": [
        {
          "output_type": "display_data",
          "data": {
            "text/plain": [
              "<Figure size 288x432 with 1 Axes>"
            ],
            "image/png": "[encoded data removed]"
          },
          "metadata": {
            "needs_background": "light"
          }
        }
      ]
    },
    {
      "cell_type": "markdown",
      "source": [
        "##### Observations\n",
        "* 10.8% of leads saw our ad through a newspaper"
      ],
      "metadata": {
        "id": "FnT4gjzFSeId"
      },
      "id": "FnT4gjzFSeId"
    },
    {
      "cell_type": "code",
      "source": [
        "# Barplot of media type 2 - magazine\n",
        "labeled_barplot(data, \"print_media_type2\", perc=True)"
      ],
      "metadata": {
        "colab": {
          "base_uri": "https://localhost:8080/",
          "height": 403
        },
        "id": "N4leMUqzW1Hf",
        "outputId": "be98e1d4-5024-4217-dd4a-f5e9175619d5"
      },
      "id": "N4leMUqzW1Hf",
      "execution_count": null,
      "outputs": [
        {
          "output_type": "display_data",
          "data": {
            "text/plain": [
              "<Figure size 288x432 with 1 Axes>"
            ],
            "image/png": "[encoded data removed]"
          },
          "metadata": {
            "needs_background": "light"
          }
        }
      ]
    },
    {
      "cell_type": "markdown",
      "source": [
        "##### Observations\n",
        "* 5.1% of leads saw our ad through a magazine"
      ],
      "metadata": {
        "id": "JLuV8abzXoc9"
      },
      "id": "JLuV8abzXoc9"
    },
    {
      "cell_type": "code",
      "source": [
        "# Barplot of digital media type\n",
        "labeled_barplot(data, \"digital_media\", perc=True)"
      ],
      "metadata": {
        "colab": {
          "base_uri": "https://localhost:8080/",
          "height": 403
        },
        "id": "ae-IecErYXKq",
        "outputId": "f584644c-7a94-4246-f7e2-4c4e52d813d8"
      },
      "id": "ae-IecErYXKq",
      "execution_count": null,
      "outputs": [
        {
          "output_type": "display_data",
          "data": {
            "text/plain": [
              "<Figure size 288x432 with 1 Axes>"
            ],
            "image/png": "[encoded data removed]"
          },
          "metadata": {
            "needs_background": "light"
          }
        }
      ]
    },
    {
      "cell_type": "markdown",
      "source": [
        "##### Observations\n",
        "* 11.4% of leads saw our ad through digital media"
      ],
      "metadata": {
        "id": "w2XEEPANYhrd"
      },
      "id": "w2XEEPANYhrd"
    },
    {
      "cell_type": "code",
      "source": [
        "# Barplot on awareness through an education channel\n",
        "labeled_barplot(data, \"educational_channels\", perc=True)"
      ],
      "metadata": {
        "colab": {
          "base_uri": "https://localhost:8080/",
          "height": 403
        },
        "id": "P5DbXFWsYgzj",
        "outputId": "89c9a686-4a8d-410c-e6e9-dadaac2aa07e"
      },
      "id": "P5DbXFWsYgzj",
      "execution_count": null,
      "outputs": [
        {
          "output_type": "display_data",
          "data": {
            "text/plain": [
              "<Figure size 288x432 with 1 Axes>"
            ],
            "image/png": "[encoded data removed]"
          },
          "metadata": {
            "needs_background": "light"
          }
        }
      ]
    },
    {
      "cell_type": "markdown",
      "source": [
        "##### Observations \n",
        "* 15.3% of leads heard about our service through an educataional channel such as online forums,discussion threads, or educational websites. "
      ],
      "metadata": {
        "id": "kdzrZ-QrZCY0"
      },
      "id": "kdzrZ-QrZCY0"
    },
    {
      "cell_type": "code",
      "source": [
        "# Barplot on referalls to our service\n",
        "labeled_barplot(data, \"referral\", perc=True)"
      ],
      "metadata": {
        "colab": {
          "base_uri": "https://localhost:8080/",
          "height": 402
        },
        "id": "n7cYz-jSZQCv",
        "outputId": "f217bca7-3b76-4e79-acb8-6f5f5c3a93f3"
      },
      "id": "n7cYz-jSZQCv",
      "execution_count": null,
      "outputs": [
        {
          "output_type": "display_data",
          "data": {
            "text/plain": [
              "<Figure size 288x432 with 1 Axes>"
            ],
            "image/png": "[encoded data removed]"
          },
          "metadata": {
            "needs_background": "light"
          }
        }
      ]
    },
    {
      "cell_type": "markdown",
      "source": [
        "##### Observations\n",
        "* 2.0% of leads heard about our service through a reference"
      ],
      "metadata": {
        "id": "UchvOpelZXi3"
      },
      "id": "UchvOpelZXi3"
    },
    {
      "cell_type": "code",
      "source": [
        "# Barplot of conversion status\n",
        "labeled_barplot(data, \"status\", perc=True)"
      ],
      "metadata": {
        "colab": {
          "base_uri": "https://localhost:8080/",
          "height": 388
        },
        "id": "rUAgBKf9ZpQY",
        "outputId": "1db7f6c5-4fc5-4782-f528-c491397b0bce"
      },
      "id": "rUAgBKf9ZpQY",
      "execution_count": null,
      "outputs": [
        {
          "output_type": "display_data",
          "data": {
            "text/plain": [
              "<Figure size 288x432 with 1 Axes>"
            ],
            "image/png": "[encoded data removed]"
          },
          "metadata": {
            "needs_background": "light"
          }
        }
      ]
    },
    {
      "cell_type": "markdown",
      "source": [
        "##### Observations\n",
        "* 29.9% of leads converted to paid customers"
      ],
      "metadata": {
        "id": "N5JCrZ6IaAIm"
      },
      "id": "N5JCrZ6IaAIm"
    },
    {
      "cell_type": "code",
      "source": [
        "# function to plot a boxplot and a histogram along the same scale.\n",
        "\n",
        "\n",
        "def histogram_boxplot(data, feature, figsize=(12, 7), kde=False, bins=None):\n",
        "    \"\"\"\n",
        "    Boxplot and histogram combined\n",
        "\n",
        "    data: dataframe\n",
        "    feature: dataframe column\n",
        "    figsize: size of figure (default (12,7))\n",
        "    kde: whether to the show density curve (default False)\n",
        "    bins: number of bins for histogram (default None)\n",
        "    \"\"\"\n",
        "    f2, (ax_box2, ax_hist2) = plt.subplots(\n",
        "        nrows=2,  # Number of rows of the subplot grid= 2\n",
        "        sharex=True,  # x-axis will be shared among all subplots\n",
        "        gridspec_kw={\"height_ratios\": (0.25, 0.75)},\n",
        "        figsize=figsize,\n",
        "    )  # creating the 2 subplots\n",
        "    sns.boxplot(\n",
        "        data=data, x=feature, ax=ax_box2, showmeans=True, color=\"violet\"\n",
        "    )  # boxplot will be created and a star will indicate the mean value of the column\n",
        "    sns.histplot(\n",
        "        data=data, x=feature, kde=kde, ax=ax_hist2, bins=bins, palette=\"winter\"\n",
        "    ) if bins else sns.histplot(\n",
        "        data=data, x=feature, kde=kde, ax=ax_hist2\n",
        "    )  # For histogram\n",
        "    ax_hist2.axvline(\n",
        "        data[feature].mean(), color=\"green\", linestyle=\"--\"\n",
        "    )  # Add mean to the histogram\n",
        "    ax_hist2.axvline(\n",
        "        data[feature].median(), color=\"black\", linestyle=\"-\"\n",
        "    )  # Add median to the histogram"
      ],
      "metadata": {
        "id": "qS6U_4WyaJJ6"
      },
      "id": "qS6U_4WyaJJ6",
      "execution_count": null,
      "outputs": []
    },
    {
      "cell_type": "code",
      "source": [
        "# Boxplot of age for leads\n",
        "histogram_boxplot(data, \"age\")"
      ],
      "metadata": {
        "colab": {
          "base_uri": "https://localhost:8080/",
          "height": 442
        },
        "id": "Mbxb6FjuaTRY",
        "outputId": "3f8571c4-831d-4897-ba31-bd887262debf"
      },
      "id": "Mbxb6FjuaTRY",
      "execution_count": null,
      "outputs": [
        {
          "output_type": "display_data",
          "data": {
            "text/plain": [
              "<Figure size 864x504 with 2 Axes>"
            ],
            "image/png": "[encoded data removed]"
          },
          "metadata": {
            "needs_background": "light"
          }
        }
      ]
    },
    {
      "cell_type": "markdown",
      "source": [
        "##### Observations\n",
        "* The media age of leads is 51 and mean 46.\n",
        "* Age distribution is left skewed with many observations above 50 years of age. "
      ],
      "metadata": {
        "id": "vh85pF7Rd9q3"
      },
      "id": "vh85pF7Rd9q3"
    },
    {
      "cell_type": "code",
      "source": [
        "# Boxplot on website visits\n",
        "histogram_boxplot(data, \"website_visits\")"
      ],
      "metadata": {
        "colab": {
          "base_uri": "https://localhost:8080/",
          "height": 443
        },
        "id": "nXWO3KycelvW",
        "outputId": "925c6ac9-aa6f-4bd6-b502-82d172098aa8"
      },
      "id": "nXWO3KycelvW",
      "execution_count": null,
      "outputs": [
        {
          "output_type": "display_data",
          "data": {
            "text/plain": [
              "<Figure size 864x504 with 2 Axes>"
            ],
            "image/png": "[encoded data removed]"
          },
          "metadata": {
            "needs_background": "light"
          }
        }
      ]
    },
    {
      "cell_type": "markdown",
      "source": [
        "##### Observations\n",
        "* The median number of times a lead visited a website is 3 and mean is 3.6.\n",
        "* Distribution is right skewed with a few outliers above 5. "
      ],
      "metadata": {
        "id": "_aN2d4Dge7I1"
      },
      "id": "_aN2d4Dge7I1"
    },
    {
      "cell_type": "code",
      "source": [
        "# Boxplot on time spent on the website\n",
        "histogram_boxplot(data, \"time_spent_on_website\")"
      ],
      "metadata": {
        "colab": {
          "base_uri": "https://localhost:8080/",
          "height": 443
        },
        "id": "TF56RKvQk0Qr",
        "outputId": "ec02f79b-f9e3-4043-d568-70dedb01c11b"
      },
      "id": "TF56RKvQk0Qr",
      "execution_count": null,
      "outputs": [
        {
          "output_type": "display_data",
          "data": {
            "text/plain": [
              "<Figure size 864x504 with 2 Axes>"
            ],
            "image/png": "[encoded data removed]"
          },
          "metadata": {
            "needs_background": "light"
          }
        }
      ]
    },
    {
      "cell_type": "markdown",
      "source": [
        "##### Observations\n",
        "* The median time spent is 376 and mean is 742.\n",
        "* Distribution is highly right skewed with extreme outliers. "
      ],
      "metadata": {
        "id": "4qxPsPW4lKa5"
      },
      "id": "4qxPsPW4lKa5"
    },
    {
      "cell_type": "code",
      "source": [
        "# Boxplot of page views per visit\n",
        "histogram_boxplot(data, \"page_views_per_visit\")"
      ],
      "metadata": {
        "colab": {
          "base_uri": "https://localhost:8080/",
          "height": 443
        },
        "id": "ARSaCn2Bl75m",
        "outputId": "c871cfb4-d9f5-470e-c8c2-1eff510c89c1"
      },
      "id": "ARSaCn2Bl75m",
      "execution_count": null,
      "outputs": [
        {
          "output_type": "display_data",
          "data": {
            "text/plain": [
              "<Figure size 864x504 with 2 Axes>"
            ],
            "image/png": "[encoded data removed]"
          },
          "metadata": {
            "needs_background": "light"
          }
        }
      ]
    },
    {
      "cell_type": "markdown",
      "source": [
        "##### Observations\n",
        "* The median page view per visit is 2.79 and mean is 3.02.\n",
        "* Multimodal distribution.\n",
        "* Many outliers outside of 75% IQR."
      ],
      "metadata": {
        "id": "N9c8zrFImP93"
      },
      "id": "N9c8zrFImP93"
    },
    {
      "cell_type": "markdown",
      "source": [
        "## Bivariate Analysis"
      ],
      "metadata": {
        "id": "UnsuWX5Imyoq"
      },
      "id": "UnsuWX5Imyoq"
    },
    {
      "cell_type": "code",
      "source": [
        "cols_list = data.select_dtypes(include=np.number).columns.tolist()\n",
        "\n",
        "plt.figure(figsize=(12, 7))\n",
        "sns.heatmap(\n",
        "    data[cols_list].corr(), annot=True, vmin=-1, vmax=1, fmt=\".2f\", cmap=\"Spectral\"\n",
        ")\n",
        "plt.show()"
      ],
      "metadata": {
        "colab": {
          "base_uri": "https://localhost:8080/",
          "height": 539
        },
        "id": "Gta8g4LXm0cU",
        "outputId": "db9b4044-c857-4136-ffa1-796753c94890"
      },
      "id": "Gta8g4LXm0cU",
      "execution_count": null,
      "outputs": [
        {
          "output_type": "display_data",
          "data": {
            "text/plain": [
              "<Figure size 864x504 with 2 Axes>"
            ],
            "image/png": "[encoded data removed]"
          },
          "metadata": {
            "needs_background": "light"
          }
        }
      ]
    },
    {
      "cell_type": "markdown",
      "source": [
        "##### Observations\n",
        "* There is a positive correlation between time spent on the website and conversion status. "
      ],
      "metadata": {
        "id": "Wf-9Iy17nTQn"
      },
      "id": "Wf-9Iy17nTQn"
    },
    {
      "cell_type": "code",
      "source": [
        "# Function to print the category counts and a stacked bar chart\n",
        "\n",
        "def stacked_barplot(data, predictor, target):\n",
        "    \"\"\"\n",
        "    Print the category counts and plot a stacked bar chart\n",
        "\n",
        "    data: dataframe\n",
        "    predictor: independent variable\n",
        "    target: target variable\n",
        "    \"\"\"\n",
        "    count = data[predictor].nunique()\n",
        "    sorter = data[target].value_counts().index[-1]\n",
        "    tab1 = pd.crosstab(data[predictor], data[target], margins=True).sort_values(\n",
        "        by=sorter, ascending=False\n",
        "    )\n",
        "    print(tab1)\n",
        "    print(\"-\" * 120)\n",
        "    tab = pd.crosstab(data[predictor], data[target], normalize=\"index\").sort_values(\n",
        "        by=sorter, ascending=False\n",
        "    )\n",
        "    tab.plot(kind=\"bar\", stacked=True, figsize=(count + 5, 5))\n",
        "    plt.legend(\n",
        "        loc=\"lower left\", frameon=False,\n",
        "    )\n",
        "    plt.legend(loc=\"upper left\", bbox_to_anchor=(1, 1))\n",
        "    plt.show()\n",
        "\n",
        "# Function to plot distributions wrt target\n",
        "\n",
        "\n",
        "def distribution_plot_wrt_target(data, predictor, target):\n",
        "\n",
        "    fig, axs = plt.subplots(2, 2, figsize=(12, 10))\n",
        "\n",
        "    target_uniq = data[target].unique()\n",
        "\n",
        "    axs[0, 0].set_title(\"Distribution of target for target=\" + str(target_uniq[0]))\n",
        "    sns.histplot(\n",
        "        data=data[data[target] == target_uniq[0]],\n",
        "        x=predictor,\n",
        "        kde=True,\n",
        "        ax=axs[0, 0],\n",
        "        color=\"teal\",\n",
        "        stat=\"density\",\n",
        "    )\n",
        "\n",
        "    axs[0, 1].set_title(\"Distribution of target for target=\" + str(target_uniq[1]))\n",
        "    sns.histplot(\n",
        "        data=data[data[target] == target_uniq[1]],\n",
        "        x=predictor,\n",
        "        kde=True,\n",
        "        ax=axs[0, 1],\n",
        "        color=\"orange\",\n",
        "        stat=\"density\",\n",
        "    )\n",
        "\n",
        "    axs[1, 0].set_title(\"Boxplot w.r.t target\")\n",
        "    sns.boxplot(data=data, x=target, y=predictor, ax=axs[1, 0], palette=\"gist_rainbow\")\n",
        "\n",
        "    axs[1, 1].set_title(\"Boxplot (without outliers) w.r.t target\")\n",
        "    sns.boxplot(\n",
        "        data=data,\n",
        "        x=target,\n",
        "        y=predictor,\n",
        "        ax=axs[1, 1],\n",
        "        showfliers=False,\n",
        "        palette=\"gist_rainbow\",\n",
        "    )\n",
        "\n",
        "    plt.tight_layout()\n",
        "    plt.show()\n",
        "\n"
      ],
      "metadata": {
        "id": "ep0jRn39ppMX"
      },
      "id": "ep0jRn39ppMX",
      "execution_count": null,
      "outputs": []
    },
    {
      "cell_type": "code",
      "source": [
        "# Observing conversion status across the different occupations\n",
        "stacked_barplot(data, \"current_occupation\", \"status\")"
      ],
      "metadata": {
        "colab": {
          "base_uri": "https://localhost:8080/",
          "height": 510
        },
        "id": "BItcs0qZsmYx",
        "outputId": "53de533b-b73a-4ab2-a185-bacffe1f961f"
      },
      "id": "BItcs0qZsmYx",
      "execution_count": null,
      "outputs": [
        {
          "output_type": "stream",
          "name": "stdout",
          "text": [
            "status                 0     1   All\n",
            "current_occupation                  \n",
            "All                 3235  1377  4612\n",
            "Professional        1687   929  2616\n",
            "Unemployed          1058   383  1441\n",
            "Student              490    65   555\n",
            "------------------------------------------------------------------------------------------------------------------------\n"
          ]
        },
        {
          "output_type": "display_data",
          "data": {
            "text/plain": [
              "<Figure size 576x360 with 1 Axes>"
            ],
            "image/png": "[encoded data removed]"
          },
          "metadata": {
            "needs_background": "light"
          }
        }
      ]
    },
    {
      "cell_type": "markdown",
      "source": [
        "##### Observations\n",
        "* Professionals accounted for 67.5% of all conversions. \n",
        "* Unemployed individuals accounted for 27.8% of all conversions.\n",
        "* Students accounted for 4.7% of all conversions.\n",
        "* Professional are a key market segment followed by the unemployed. \n",
        "* There is an opportunity to understand the specific needs for professionals and the unemployed. Each customer segment will likely have different needs and goals. "
      ],
      "metadata": {
        "id": "f5Ubd3CbrV0f"
      },
      "id": "f5Ubd3CbrV0f"
    },
    {
      "cell_type": "code",
      "source": [
        "# Observing age and occupation\n",
        "plt.figure(figsize=(10, 5))\n",
        "sns.boxplot(data[\"current_occupation\"], data[\"age\"])\n",
        "plt.show()"
      ],
      "metadata": {
        "colab": {
          "base_uri": "https://localhost:8080/",
          "height": 335
        },
        "id": "yJ9Fz8gPsibS",
        "outputId": "d082b3b1-e875-495a-bbd6-adb3b13bbcdb"
      },
      "id": "yJ9Fz8gPsibS",
      "execution_count": null,
      "outputs": [
        {
          "output_type": "display_data",
          "data": {
            "text/plain": [
              "<Figure size 720x360 with 1 Axes>"
            ],
            "image/png": "[encoded data removed]"
          },
          "metadata": {
            "needs_background": "light"
          }
        }
      ]
    },
    {
      "cell_type": "markdown",
      "source": [
        "##### Observations\n",
        "* Age appears to be a factor in determining conversion status of leads."
      ],
      "metadata": {
        "id": "RcCqgri-tRR3"
      },
      "id": "RcCqgri-tRR3"
    },
    {
      "cell_type": "code",
      "source": [
        "# Observing age by occupation status\n",
        "data.groupby([\"current_occupation\"])[\"age\"].describe()"
      ],
      "metadata": {
        "colab": {
          "base_uri": "https://localhost:8080/",
          "height": 174
        },
        "id": "tw3kOixutvBf",
        "outputId": "11aba301-14c7-4691-ce7d-696bb6a563a9"
      },
      "id": "tw3kOixutvBf",
      "execution_count": null,
      "outputs": [
        {
          "output_type": "execute_result",
          "data": {
            "text/plain": [
              "                        count     mean     std      min      25%      50%  \\\n",
              "current_occupation                                                          \n",
              "Professional       2616.00000 49.34748 9.89074 25.00000 42.00000 54.00000   \n",
              "Student             555.00000 21.14414 2.00111 18.00000 19.00000 21.00000   \n",
              "Unemployed         1441.00000 50.14018 9.99950 32.00000 42.00000 54.00000   \n",
              "\n",
              "                        75%      max  \n",
              "current_occupation                    \n",
              "Professional       57.00000 60.00000  \n",
              "Student            23.00000 25.00000  \n",
              "Unemployed         58.00000 63.00000  "
            ],
            "text/html": [
              "\n",
              "  <div id=\"df-612764f4-ba2f-4a2f-87d3-83b93f276b3b\">\n",
              "    <div class=\"colab-df-container\">\n",
              "      <div>\n",
              "<style scoped>\n",
              "    .dataframe tbody tr th:only-of-type {\n",
              "        vertical-align: middle;\n",
              "    }\n",
              "\n",
              "    .dataframe tbody tr th {\n",
              "        vertical-align: top;\n",
              "    }\n",
              "\n",
              "    .dataframe thead th {\n",
              "        text-align: right;\n",
              "    }\n",
              "</style>\n",
              "<table border=\"1\" class=\"dataframe\">\n",
              "  <thead>\n",
              "    <tr style=\"text-align: right;\">\n",
              "      <th></th>\n",
              "      <th>count</th>\n",
              "      <th>mean</th>\n",
              "      <th>std</th>\n",
              "      <th>min</th>\n",
              "      <th>25%</th>\n",
              "      <th>50%</th>\n",
              "      <th>75%</th>\n",
              "      <th>max</th>\n",
              "    </tr>\n",
              "    <tr>\n",
              "      <th>current_occupation</th>\n",
              "      <th></th>\n",
              "      <th></th>\n",
              "      <th></th>\n",
              "      <th></th>\n",
              "      <th></th>\n",
              "      <th></th>\n",
              "      <th></th>\n",
              "      <th></th>\n",
              "    </tr>\n",
              "  </thead>\n",
              "  <tbody>\n",
              "    <tr>\n",
              "      <th>Professional</th>\n",
              "      <td>2616.00000</td>\n",
              "      <td>49.34748</td>\n",
              "      <td>9.89074</td>\n",
              "      <td>25.00000</td>\n",
              "      <td>42.00000</td>\n",
              "      <td>54.00000</td>\n",
              "      <td>57.00000</td>\n",
              "      <td>60.00000</td>\n",
              "    </tr>\n",
              "    <tr>\n",
              "      <th>Student</th>\n",
              "      <td>555.00000</td>\n",
              "      <td>21.14414</td>\n",
              "      <td>2.00111</td>\n",
              "      <td>18.00000</td>\n",
              "      <td>19.00000</td>\n",
              "      <td>21.00000</td>\n",
              "      <td>23.00000</td>\n",
              "      <td>25.00000</td>\n",
              "    </tr>\n",
              "    <tr>\n",
              "      <th>Unemployed</th>\n",
              "      <td>1441.00000</td>\n",
              "      <td>50.14018</td>\n",
              "      <td>9.99950</td>\n",
              "      <td>32.00000</td>\n",
              "      <td>42.00000</td>\n",
              "      <td>54.00000</td>\n",
              "      <td>58.00000</td>\n",
              "      <td>63.00000</td>\n",
              "    </tr>\n",
              "  </tbody>\n",
              "</table>\n",
              "</div>\n",
              "      <button class=\"colab-df-convert\" onclick=\"convertToInteractive('df-612764f4-ba2f-4a2f-87d3-83b93f276b3b')\"\n",
              "              title=\"Convert this dataframe to an interactive table.\"\n",
              "              style=\"display:none;\">\n",
              "        \n",
              "  <svg xmlns=\"http://www.w3.org/2000/svg\" height=\"24px\"viewBox=\"0 0 24 24\"\n",
              "       width=\"24px\">\n",
              "    <path d=\"M0 0h24v24H0V0z\" fill=\"none\"/>\n",
              "    <path d=\"M18.56 5.44l.94 2.06.94-2.06 2.06-.94-2.06-.94-.94-2.06-.94 2.06-2.06.94zm-11 1L8.5 8.5l.94-2.06 2.06-.94-2.06-.94L8.5 2.5l-.94 2.06-2.06.94zm10 10l.94 2.06.94-2.06 2.06-.94-2.06-.94-.94-2.06-.94 2.06-2.06.94z\"/><path d=\"M17.41 7.96l-1.37-1.37c-.4-.4-.92-.59-1.43-.59-.52 0-1.04.2-1.43.59L10.3 9.45l-7.72 7.72c-.78.78-.78 2.05 0 2.83L4 21.41c.39.39.9.59 1.41.59.51 0 1.02-.2 1.41-.59l7.78-7.78 2.81-2.81c.8-.78.8-2.07 0-2.86zM5.41 20L4 18.59l7.72-7.72 1.47 1.35L5.41 20z\"/>\n",
              "  </svg>\n",
              "      </button>\n",
              "      \n",
              "  <style>\n",
              "    .colab-df-container {\n",
              "      display:flex;\n",
              "      flex-wrap:wrap;\n",
              "      gap: 12px;\n",
              "    }\n",
              "\n",
              "    .colab-df-convert {\n",
              "      background-color: #E8F0FE;\n",
              "      border: none;\n",
              "      border-radius: 50%;\n",
              "      cursor: pointer;\n",
              "      display: none;\n",
              "      fill: #1967D2;\n",
              "      height: 32px;\n",
              "      padding: 0 0 0 0;\n",
              "      width: 32px;\n",
              "    }\n",
              "\n",
              "    .colab-df-convert:hover {\n",
              "      background-color: #E2EBFA;\n",
              "      box-shadow: 0px 1px 2px rgba(60, 64, 67, 0.3), 0px 1px 3px 1px rgba(60, 64, 67, 0.15);\n",
              "      fill: #174EA6;\n",
              "    }\n",
              "\n",
              "    [theme=dark] .colab-df-convert {\n",
              "      background-color: #3B4455;\n",
              "      fill: #D2E3FC;\n",
              "    }\n",
              "\n",
              "    [theme=dark] .colab-df-convert:hover {\n",
              "      background-color: #434B5C;\n",
              "      box-shadow: 0px 1px 3px 1px rgba(0, 0, 0, 0.15);\n",
              "      filter: drop-shadow(0px 1px 2px rgba(0, 0, 0, 0.3));\n",
              "      fill: #FFFFFF;\n",
              "    }\n",
              "  </style>\n",
              "\n",
              "      <script>\n",
              "        const buttonEl =\n",
              "          document.querySelector('#df-612764f4-ba2f-4a2f-87d3-83b93f276b3b button.colab-df-convert');\n",
              "        buttonEl.style.display =\n",
              "          google.colab.kernel.accessAllowed ? 'block' : 'none';\n",
              "\n",
              "        async function convertToInteractive(key) {\n",
              "          const element = document.querySelector('#df-612764f4-ba2f-4a2f-87d3-83b93f276b3b');\n",
              "          const dataTable =\n",
              "            await google.colab.kernel.invokeFunction('convertToInteractive',\n",
              "                                                     [key], {});\n",
              "          if (!dataTable) return;\n",
              "\n",
              "          const docLinkHtml = 'Like what you see? Visit the ' +\n",
              "            '<a target=\"_blank\" href=https://colab.research.google.com/notebooks/data_table.ipynb>data table notebook</a>'\n",
              "            + ' to learn more about interactive tables.';\n",
              "          element.innerHTML = '';\n",
              "          dataTable['output_type'] = 'display_data';\n",
              "          await google.colab.output.renderOutput(dataTable, element);\n",
              "          const docLink = document.createElement('div');\n",
              "          docLink.innerHTML = docLinkHtml;\n",
              "          element.appendChild(docLink);\n",
              "        }\n",
              "      </script>\n",
              "    </div>\n",
              "  </div>\n",
              "  "
            ]
          },
          "metadata": {},
          "execution_count": 54
        }
      ]
    },
    {
      "cell_type": "markdown",
      "source": [
        "##### Observations\n",
        "* The mean and median age for both professionals and the unemployed are about the same. \n",
        "* Age will likely have a higher influence on predicting conversion status when developing our classification model. "
      ],
      "metadata": {
        "id": "eTAuVeTFuGLz"
      },
      "id": "eTAuVeTFuGLz"
    },
    {
      "cell_type": "markdown",
      "metadata": {
        "id": "alleged-spirituality"
      },
      "source": [
        "## Data Preprocessing\n",
        "\n",
        "- Missing value treatment (if needed)\n",
        "- Feature engineering (if needed)\n",
        "- Outlier detection and treatment (if needed)\n",
        "- Preparing data for modeling \n",
        "- Any other preprocessing steps (if needed)"
      ],
      "id": "alleged-spirituality"
    },
    {
      "cell_type": "markdown",
      "metadata": {
        "id": "difficult-union"
      },
      "source": [
        "## EDA\n",
        "\n",
        "- It is a good idea to explore the data once again after manipulating it."
      ],
      "id": "difficult-union"
    },
    {
      "cell_type": "code",
      "metadata": {
        "id": "interested-talent"
      },
      "source": [
        ""
      ],
      "id": "interested-talent",
      "execution_count": null,
      "outputs": []
    },
    {
      "cell_type": "markdown",
      "metadata": {
        "id": "third-projection"
      },
      "source": [
        "## Checking Multicollinearity\n",
        "\n",
        "- In order to make statistical inferences from a logistic regression model, it is important to ensure that there is no multicollinearity present in the data."
      ],
      "id": "third-projection"
    },
    {
      "cell_type": "code",
      "metadata": {
        "id": "antique-payroll"
      },
      "source": [
        ""
      ],
      "id": "antique-payroll",
      "execution_count": null,
      "outputs": []
    },
    {
      "cell_type": "markdown",
      "metadata": {
        "id": "domestic-iceland"
      },
      "source": [
        "## Building a Logistic Regression model"
      ],
      "id": "domestic-iceland"
    },
    {
      "cell_type": "code",
      "metadata": {
        "id": "unknown-institution"
      },
      "source": [
        ""
      ],
      "id": "unknown-institution",
      "execution_count": null,
      "outputs": []
    },
    {
      "cell_type": "markdown",
      "metadata": {
        "id": "historic-season"
      },
      "source": [
        "## Model performance evaluation"
      ],
      "id": "historic-season"
    },
    {
      "cell_type": "code",
      "metadata": {
        "id": "integral-conservation"
      },
      "source": [
        ""
      ],
      "id": "integral-conservation",
      "execution_count": null,
      "outputs": []
    },
    {
      "cell_type": "markdown",
      "metadata": {
        "id": "stylish-collaboration"
      },
      "source": [
        "## Final Model Summary"
      ],
      "id": "stylish-collaboration"
    },
    {
      "cell_type": "code",
      "metadata": {
        "id": "related-breathing"
      },
      "source": [
        ""
      ],
      "id": "related-breathing",
      "execution_count": null,
      "outputs": []
    },
    {
      "cell_type": "markdown",
      "metadata": {
        "id": "amazing-fluid"
      },
      "source": [
        "## Building a Decision Tree model"
      ],
      "id": "amazing-fluid"
    },
    {
      "cell_type": "code",
      "metadata": {
        "id": "neither-hydrogen"
      },
      "source": [
        ""
      ],
      "id": "neither-hydrogen",
      "execution_count": null,
      "outputs": []
    },
    {
      "cell_type": "markdown",
      "metadata": {
        "id": "limited-strengthening"
      },
      "source": [
        "## Do we need to prune the tree?"
      ],
      "id": "limited-strengthening"
    },
    {
      "cell_type": "code",
      "metadata": {
        "id": "ambient-elements"
      },
      "source": [
        ""
      ],
      "id": "ambient-elements",
      "execution_count": null,
      "outputs": []
    },
    {
      "cell_type": "markdown",
      "metadata": {
        "id": "obvious-maine"
      },
      "source": [
        "## Model Performance Comparison and Conclusions"
      ],
      "id": "obvious-maine"
    },
    {
      "cell_type": "code",
      "metadata": {
        "id": "everyday-kinase"
      },
      "source": [
        ""
      ],
      "id": "everyday-kinase",
      "execution_count": null,
      "outputs": []
    },
    {
      "cell_type": "markdown",
      "metadata": {
        "id": "nasty-retailer"
      },
      "source": [
        "## Actionable Insights and Recommendations"
      ],
      "id": "nasty-retailer"
    },
    {
      "cell_type": "code",
      "metadata": {
        "id": "amino-prediction"
      },
      "source": [
        ""
      ],
      "id": "amino-prediction",
      "execution_count": null,
      "outputs": []
    }
  ]
}