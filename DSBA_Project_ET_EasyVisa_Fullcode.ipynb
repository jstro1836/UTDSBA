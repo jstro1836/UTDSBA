{
  "cells": [
    {
      "cell_type": "markdown",
      "metadata": {
        "id": "view-in-github",
        "colab_type": "text"
      },
      "source": [
        "<a href=\"https://colab.research.google.com/github/jstro1836/UTDSBA/blob/main/DSBA_Project_ET_EasyVisa_Fullcode.ipynb\" target=\"_parent\"><img src=\"https://colab.research.google.com/assets/colab-badge.svg\" alt=\"Open In Colab\"/></a>"
      ]
    },
    {
      "cell_type": "markdown",
      "id": "AT5OogJVFbwu",
      "metadata": {
        "id": "AT5OogJVFbwu"
      },
      "source": [
        "# EasyVisa Project\n",
        "\n",
        "## Context:\n",
        "\n",
        "Business communities in the United States are facing high demand for human resources, but one of the constant challenges is identifying and attracting the right talent, which is perhaps the most important element in remaining competitive. Companies in the United States look for hard-working, talented, and qualified individuals both locally as well as abroad.\n",
        "\n",
        "The Immigration and Nationality Act (INA) of the US permits foreign workers to come to the United States to work on either a temporary or permanent basis. The act also protects US workers against adverse impacts on their wages or working conditions by ensuring US employers' compliance with statutory requirements when they hire foreign workers to fill workforce shortages. The immigration programs are administered by the Office of Foreign Labor Certification (OFLC).\n",
        "\n",
        "OFLC processes job certification applications for employers seeking to bring foreign workers into the United States and grants certifications in those cases where employers can demonstrate that there are not sufficient US workers available to perform the work at wages that meet or exceed the wage paid for the occupation in the area of intended employment.\n",
        "\n",
        "## Objective:\n",
        "\n",
        "In FY 2016, the OFLC processed 775,979 employer applications for 1,699,957 positions for temporary and permanent labor certifications. This was a nine percent increase in the overall number of processed applications from the previous year. The process of reviewing every case is becoming a tedious task as the number of applicants is increasing every year.\n",
        "\n",
        "The increasing number of applicants every year calls for a Machine Learning based solution that can help in shortlisting the candidates having higher chances of VISA approval. OFLC has hired your firm EasyVisa for data-driven solutions. You as a data scientist have to analyze the data provided and, with the help of a classification model:\n",
        "\n",
        "* Facilitate the process of visa approvals.\n",
        "* Recommend a suitable profile for the applicants for whom the visa should be certified or denied based on the drivers that significantly influence the case status. \n",
        "\n",
        "\n",
        "## Data Description\n",
        "\n",
        "The data contains the different attributes of the employee and the employer. The detailed data dictionary is given below.\n",
        "\n",
        "* case_id: ID of each visa application\n",
        "* continent: Information of continent the employee\n",
        "* education_of_employee: Information of education of the employee\n",
        "* has_job_experience: Does the employee has any job experience? Y= Yes; N = No\n",
        "* requires_job_training: Does the employee require any job training? Y = Yes; N = No \n",
        "* no_of_employees: Number of employees in the employer's company\n",
        "* yr_of_estab: Year in which the employer's company was established\n",
        "* region_of_employment: Information of foreign worker's intended region of employment in the US.\n",
        "* prevailing_wage:  Average wage paid to similarly employed workers in a specific occupation in the area of intended employment. The purpose of the prevailing wage is to ensure that the foreign worker is not underpaid compared to other workers offering the same or similar service in the same area of employment. \n",
        "* unit_of_wage: Unit of prevailing wage. Values include Hourly, Weekly, Monthly, and Yearly.\n",
        "* full_time_position: Is the position of work full-time? Y = Full Time Position; N = Part Time Position\n",
        "* case_status:  Flag indicating if the Visa was certified or denied"
      ]
    },
    {
      "cell_type": "markdown",
      "id": "dirty-island",
      "metadata": {
        "id": "dirty-island"
      },
      "source": [
        "## Importing necessary libraries and data"
      ]
    },
    {
      "cell_type": "code",
      "execution_count": null,
      "id": "statewide-still",
      "metadata": {
        "id": "statewide-still",
        "colab": {
          "base_uri": "https://localhost:8080/"
        },
        "outputId": "84b065ef-475a-4e23-b508-e72c3f1e7dbb"
      },
      "outputs": [
        {
          "output_type": "stream",
          "name": "stdout",
          "text": [
            "Collecting nb_black\n",
            "  Downloading nb_black-1.0.7.tar.gz (4.8 kB)\n",
            "Requirement already satisfied: ipython in /usr/local/lib/python3.7/dist-packages (from nb_black) (5.5.0)\n",
            "Collecting black>='19.3'\n",
            "  Downloading black-22.3.0-cp37-cp37m-manylinux_2_17_x86_64.manylinux2014_x86_64.whl (1.4 MB)\n",
            "\u001b[K     |████████████████████████████████| 1.4 MB 7.5 MB/s \n",
            "\u001b[?25hCollecting typed-ast>=1.4.2\n",
            "  Downloading typed_ast-1.5.3-cp37-cp37m-manylinux_2_5_x86_64.manylinux1_x86_64.manylinux_2_12_x86_64.manylinux2010_x86_64.whl (843 kB)\n",
            "\u001b[K     |████████████████████████████████| 843 kB 41.8 MB/s \n",
            "\u001b[?25hCollecting pathspec>=0.9.0\n",
            "  Downloading pathspec-0.9.0-py2.py3-none-any.whl (31 kB)\n",
            "Requirement already satisfied: typing-extensions>=3.10.0.0 in /usr/local/lib/python3.7/dist-packages (from black>='19.3'->nb_black) (4.1.1)\n",
            "Collecting click>=8.0.0\n",
            "  Downloading click-8.1.2-py3-none-any.whl (96 kB)\n",
            "\u001b[K     |████████████████████████████████| 96 kB 5.1 MB/s \n",
            "\u001b[?25hCollecting platformdirs>=2\n",
            "  Downloading platformdirs-2.5.2-py3-none-any.whl (14 kB)\n",
            "Requirement already satisfied: tomli>=1.1.0 in /usr/local/lib/python3.7/dist-packages (from black>='19.3'->nb_black) (2.0.1)\n",
            "Collecting mypy-extensions>=0.4.3\n",
            "  Downloading mypy_extensions-0.4.3-py2.py3-none-any.whl (4.5 kB)\n",
            "Requirement already satisfied: importlib-metadata in /usr/local/lib/python3.7/dist-packages (from click>=8.0.0->black>='19.3'->nb_black) (4.11.3)\n",
            "Requirement already satisfied: zipp>=0.5 in /usr/local/lib/python3.7/dist-packages (from importlib-metadata->click>=8.0.0->black>='19.3'->nb_black) (3.8.0)\n",
            "Requirement already satisfied: setuptools>=18.5 in /usr/local/lib/python3.7/dist-packages (from ipython->nb_black) (57.4.0)\n",
            "Requirement already satisfied: decorator in /usr/local/lib/python3.7/dist-packages (from ipython->nb_black) (4.4.2)\n",
            "Requirement already satisfied: simplegeneric>0.8 in /usr/local/lib/python3.7/dist-packages (from ipython->nb_black) (0.8.1)\n",
            "Requirement already satisfied: prompt-toolkit<2.0.0,>=1.0.4 in /usr/local/lib/python3.7/dist-packages (from ipython->nb_black) (1.0.18)\n",
            "Requirement already satisfied: traitlets>=4.2 in /usr/local/lib/python3.7/dist-packages (from ipython->nb_black) (5.1.1)\n",
            "Requirement already satisfied: pickleshare in /usr/local/lib/python3.7/dist-packages (from ipython->nb_black) (0.7.5)\n",
            "Requirement already satisfied: pexpect in /usr/local/lib/python3.7/dist-packages (from ipython->nb_black) (4.8.0)\n",
            "Requirement already satisfied: pygments in /usr/local/lib/python3.7/dist-packages (from ipython->nb_black) (2.6.1)\n",
            "Requirement already satisfied: six>=1.9.0 in /usr/local/lib/python3.7/dist-packages (from prompt-toolkit<2.0.0,>=1.0.4->ipython->nb_black) (1.15.0)\n",
            "Requirement already satisfied: wcwidth in /usr/local/lib/python3.7/dist-packages (from prompt-toolkit<2.0.0,>=1.0.4->ipython->nb_black) (0.2.5)\n",
            "Requirement already satisfied: ptyprocess>=0.5 in /usr/local/lib/python3.7/dist-packages (from pexpect->ipython->nb_black) (0.7.0)\n",
            "Building wheels for collected packages: nb-black\n",
            "  Building wheel for nb-black (setup.py) ... \u001b[?25l\u001b[?25hdone\n",
            "  Created wheel for nb-black: filename=nb_black-1.0.7-py3-none-any.whl size=5297 sha256=e609a8137a95b1d76bff44d355c6f45e8024a4fc7be13b84d6e52daa5adcd1d8\n",
            "  Stored in directory: /root/.cache/pip/wheels/1e/b2/88/51c66d23ea5fd0d40ed50997555e15d981d92671376a9a412a\n",
            "Successfully built nb-black\n",
            "Installing collected packages: typed-ast, platformdirs, pathspec, mypy-extensions, click, black, nb-black\n",
            "  Attempting uninstall: click\n",
            "    Found existing installation: click 7.1.2\n",
            "    Uninstalling click-7.1.2:\n",
            "      Successfully uninstalled click-7.1.2\n",
            "\u001b[31mERROR: pip's dependency resolver does not currently take into account all the packages that are installed. This behaviour is the source of the following dependency conflicts.\n",
            "flask 1.1.4 requires click<8.0,>=5.1, but you have click 8.1.2 which is incompatible.\u001b[0m\n",
            "Successfully installed black-22.3.0 click-8.1.2 mypy-extensions-0.4.3 nb-black-1.0.7 pathspec-0.9.0 platformdirs-2.5.2 typed-ast-1.5.3\n"
          ]
        }
      ],
      "source": [
        "# this will help in making the Python code more structured automatically (good coding practice)\n",
        "!pip install nb_black\n",
        "\n",
        "import warnings\n",
        "\n",
        "warnings.filterwarnings(\"ignore\")\n",
        "\n",
        "# Libraries to help with reading and manipulating data\n",
        "import numpy as np\n",
        "import pandas as pd\n",
        "\n",
        "# Library to split data\n",
        "from sklearn.model_selection import train_test_split\n",
        "\n",
        "# libaries to help with data visualization\n",
        "import matplotlib.pyplot as plt\n",
        "import seaborn as sns\n",
        "\n",
        "# Removes the limit for the number of displayed columns\n",
        "pd.set_option(\"display.max_columns\", None)\n",
        "# Sets the limit for the number of displayed rows\n",
        "pd.set_option(\"display.max_rows\", 100)\n",
        "\n",
        "\n",
        "# Libraries different ensemble classifiers\n",
        "from sklearn.ensemble import (\n",
        "    BaggingClassifier,\n",
        "    RandomForestClassifier,\n",
        "    AdaBoostClassifier,\n",
        "    GradientBoostingClassifier,\n",
        "    StackingClassifier,\n",
        ")\n",
        "\n",
        "from xgboost import XGBClassifier\n",
        "from sklearn.tree import DecisionTreeClassifier\n",
        "\n",
        "# Libraries to get different metric scores\n",
        "from sklearn import metrics\n",
        "from sklearn.metrics import (\n",
        "    confusion_matrix,\n",
        "    accuracy_score,\n",
        "    precision_score,\n",
        "    recall_score,\n",
        "    f1_score,\n",
        ")\n",
        "\n",
        "# To tune different models\n",
        "from sklearn.model_selection import GridSearchCV\n",
        "\n",
        "import numpy as np   \n",
        "import pandas as pd    \n",
        "import seaborn as sns\n",
        "import matplotlib.pyplot as plt\n",
        "from sklearn.tree import DecisionTreeRegressor\n",
        "from sklearn.ensemble import BaggingRegressor,RandomForestRegressor, GradientBoostingRegressor, AdaBoostRegressor, StackingRegressor\n",
        "from xgboost import XGBRegressor\n",
        "from sklearn import metrics\n",
        "from sklearn.model_selection import GridSearchCV, train_test_split"
      ]
    },
    {
      "cell_type": "markdown",
      "source": [
        "## Import Dataset"
      ],
      "metadata": {
        "id": "JoLGPv-aa-IL"
      },
      "id": "JoLGPv-aa-IL"
    },
    {
      "cell_type": "code",
      "source": [
        "#Load the dataset\n",
        "from google.colab import files\n",
        "uploaded = files.upload()"
      ],
      "metadata": {
        "colab": {
          "resources": {
            "http://localhost:8080/nbextensions/google.colab/files.js": {
              "data": "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",
              "ok": true,
              "headers": [
                [
                  "content-type",
                  "application/javascript"
                ]
              ],
              "status": 200,
              "status_text": ""
            }
          },
          "base_uri": "https://localhost:8080/",
          "height": 74
        },
        "id": "jtYBj5rrbeRB",
        "outputId": "589f0044-6877-4c65-86e9-6b4ab24dfcce"
      },
      "id": "jtYBj5rrbeRB",
      "execution_count": null,
      "outputs": [
        {
          "output_type": "display_data",
          "data": {
            "text/plain": [
              "<IPython.core.display.HTML object>"
            ],
            "text/html": [
              "\n",
              "     <input type=\"file\" id=\"files-2357e654-dcb8-4c64-86f0-4f004edeb55d\" name=\"files[]\" multiple disabled\n",
              "        style=\"border:none\" />\n",
              "     <output id=\"result-2357e654-dcb8-4c64-86f0-4f004edeb55d\">\n",
              "      Upload widget is only available when the cell has been executed in the\n",
              "      current browser session. Please rerun this cell to enable.\n",
              "      </output>\n",
              "      <script src=\"/nbextensions/google.colab/files.js\"></script> "
            ]
          },
          "metadata": {}
        },
        {
          "output_type": "stream",
          "name": "stdout",
          "text": [
            "Saving EasyVisa.csv to EasyVisa.csv\n"
          ]
        }
      ]
    },
    {
      "cell_type": "markdown",
      "source": [
        "## Check that the data has been uploaded\n"
      ],
      "metadata": {
        "id": "4n72aMQVb6NG"
      },
      "id": "4n72aMQVb6NG"
    },
    {
      "cell_type": "code",
      "source": [
        "# Read the dataset\n",
        "visa = pd.read_csv(\"EasyVisa.csv\")"
      ],
      "metadata": {
        "id": "rlq1IRDDb2O7"
      },
      "id": "rlq1IRDDb2O7",
      "execution_count": null,
      "outputs": []
    },
    {
      "cell_type": "code",
      "source": [
        "# copy the data to maintain integrity of original data\n",
        "data = visa.copy()"
      ],
      "metadata": {
        "id": "lC-auoRBceB-"
      },
      "id": "lC-auoRBceB-",
      "execution_count": null,
      "outputs": []
    },
    {
      "cell_type": "code",
      "source": [
        "# View first and last five rows\n",
        "data.head()"
      ],
      "metadata": {
        "colab": {
          "base_uri": "https://localhost:8080/",
          "height": 270
        },
        "id": "VPTEqLd8cpXT",
        "outputId": "f16c58a2-7168-4dec-e621-61237ef04bcf"
      },
      "id": "VPTEqLd8cpXT",
      "execution_count": null,
      "outputs": [
        {
          "output_type": "execute_result",
          "data": {
            "text/plain": [
              "  case_id continent education_of_employee has_job_experience  \\\n",
              "0  EZYV01      Asia           High School                  N   \n",
              "1  EZYV02      Asia              Master's                  Y   \n",
              "2  EZYV03      Asia            Bachelor's                  N   \n",
              "3  EZYV04      Asia            Bachelor's                  N   \n",
              "4  EZYV05    Africa              Master's                  Y   \n",
              "\n",
              "  requires_job_training  no_of_employees  yr_of_estab region_of_employment  \\\n",
              "0                     N            14513         2007                 West   \n",
              "1                     N             2412         2002            Northeast   \n",
              "2                     Y            44444         2008                 West   \n",
              "3                     N               98         1897                 West   \n",
              "4                     N             1082         2005                South   \n",
              "\n",
              "   prevailing_wage unit_of_wage full_time_position case_status  \n",
              "0         592.2029         Hour                  Y      Denied  \n",
              "1       83425.6500         Year                  Y   Certified  \n",
              "2      122996.8600         Year                  Y      Denied  \n",
              "3       83434.0300         Year                  Y      Denied  \n",
              "4      149907.3900         Year                  Y   Certified  "
            ],
            "text/html": [
              "\n",
              "  <div id=\"df-65035dda-a00d-473f-a6b0-ca1255ec5121\">\n",
              "    <div class=\"colab-df-container\">\n",
              "      <div>\n",
              "<style scoped>\n",
              "    .dataframe tbody tr th:only-of-type {\n",
              "        vertical-align: middle;\n",
              "    }\n",
              "\n",
              "    .dataframe tbody tr th {\n",
              "        vertical-align: top;\n",
              "    }\n",
              "\n",
              "    .dataframe thead th {\n",
              "        text-align: right;\n",
              "    }\n",
              "</style>\n",
              "<table border=\"1\" class=\"dataframe\">\n",
              "  <thead>\n",
              "    <tr style=\"text-align: right;\">\n",
              "      <th></th>\n",
              "      <th>case_id</th>\n",
              "      <th>continent</th>\n",
              "      <th>education_of_employee</th>\n",
              "      <th>has_job_experience</th>\n",
              "      <th>requires_job_training</th>\n",
              "      <th>no_of_employees</th>\n",
              "      <th>yr_of_estab</th>\n",
              "      <th>region_of_employment</th>\n",
              "      <th>prevailing_wage</th>\n",
              "      <th>unit_of_wage</th>\n",
              "      <th>full_time_position</th>\n",
              "      <th>case_status</th>\n",
              "    </tr>\n",
              "  </thead>\n",
              "  <tbody>\n",
              "    <tr>\n",
              "      <th>0</th>\n",
              "      <td>EZYV01</td>\n",
              "      <td>Asia</td>\n",
              "      <td>High School</td>\n",
              "      <td>N</td>\n",
              "      <td>N</td>\n",
              "      <td>14513</td>\n",
              "      <td>2007</td>\n",
              "      <td>West</td>\n",
              "      <td>592.2029</td>\n",
              "      <td>Hour</td>\n",
              "      <td>Y</td>\n",
              "      <td>Denied</td>\n",
              "    </tr>\n",
              "    <tr>\n",
              "      <th>1</th>\n",
              "      <td>EZYV02</td>\n",
              "      <td>Asia</td>\n",
              "      <td>Master's</td>\n",
              "      <td>Y</td>\n",
              "      <td>N</td>\n",
              "      <td>2412</td>\n",
              "      <td>2002</td>\n",
              "      <td>Northeast</td>\n",
              "      <td>83425.6500</td>\n",
              "      <td>Year</td>\n",
              "      <td>Y</td>\n",
              "      <td>Certified</td>\n",
              "    </tr>\n",
              "    <tr>\n",
              "      <th>2</th>\n",
              "      <td>EZYV03</td>\n",
              "      <td>Asia</td>\n",
              "      <td>Bachelor's</td>\n",
              "      <td>N</td>\n",
              "      <td>Y</td>\n",
              "      <td>44444</td>\n",
              "      <td>2008</td>\n",
              "      <td>West</td>\n",
              "      <td>122996.8600</td>\n",
              "      <td>Year</td>\n",
              "      <td>Y</td>\n",
              "      <td>Denied</td>\n",
              "    </tr>\n",
              "    <tr>\n",
              "      <th>3</th>\n",
              "      <td>EZYV04</td>\n",
              "      <td>Asia</td>\n",
              "      <td>Bachelor's</td>\n",
              "      <td>N</td>\n",
              "      <td>N</td>\n",
              "      <td>98</td>\n",
              "      <td>1897</td>\n",
              "      <td>West</td>\n",
              "      <td>83434.0300</td>\n",
              "      <td>Year</td>\n",
              "      <td>Y</td>\n",
              "      <td>Denied</td>\n",
              "    </tr>\n",
              "    <tr>\n",
              "      <th>4</th>\n",
              "      <td>EZYV05</td>\n",
              "      <td>Africa</td>\n",
              "      <td>Master's</td>\n",
              "      <td>Y</td>\n",
              "      <td>N</td>\n",
              "      <td>1082</td>\n",
              "      <td>2005</td>\n",
              "      <td>South</td>\n",
              "      <td>149907.3900</td>\n",
              "      <td>Year</td>\n",
              "      <td>Y</td>\n",
              "      <td>Certified</td>\n",
              "    </tr>\n",
              "  </tbody>\n",
              "</table>\n",
              "</div>\n",
              "      <button class=\"colab-df-convert\" onclick=\"convertToInteractive('df-65035dda-a00d-473f-a6b0-ca1255ec5121')\"\n",
              "              title=\"Convert this dataframe to an interactive table.\"\n",
              "              style=\"display:none;\">\n",
              "        \n",
              "  <svg xmlns=\"http://www.w3.org/2000/svg\" height=\"24px\"viewBox=\"0 0 24 24\"\n",
              "       width=\"24px\">\n",
              "    <path d=\"M0 0h24v24H0V0z\" fill=\"none\"/>\n",
              "    <path d=\"M18.56 5.44l.94 2.06.94-2.06 2.06-.94-2.06-.94-.94-2.06-.94 2.06-2.06.94zm-11 1L8.5 8.5l.94-2.06 2.06-.94-2.06-.94L8.5 2.5l-.94 2.06-2.06.94zm10 10l.94 2.06.94-2.06 2.06-.94-2.06-.94-.94-2.06-.94 2.06-2.06.94z\"/><path d=\"M17.41 7.96l-1.37-1.37c-.4-.4-.92-.59-1.43-.59-.52 0-1.04.2-1.43.59L10.3 9.45l-7.72 7.72c-.78.78-.78 2.05 0 2.83L4 21.41c.39.39.9.59 1.41.59.51 0 1.02-.2 1.41-.59l7.78-7.78 2.81-2.81c.8-.78.8-2.07 0-2.86zM5.41 20L4 18.59l7.72-7.72 1.47 1.35L5.41 20z\"/>\n",
              "  </svg>\n",
              "      </button>\n",
              "      \n",
              "  <style>\n",
              "    .colab-df-container {\n",
              "      display:flex;\n",
              "      flex-wrap:wrap;\n",
              "      gap: 12px;\n",
              "    }\n",
              "\n",
              "    .colab-df-convert {\n",
              "      background-color: #E8F0FE;\n",
              "      border: none;\n",
              "      border-radius: 50%;\n",
              "      cursor: pointer;\n",
              "      display: none;\n",
              "      fill: #1967D2;\n",
              "      height: 32px;\n",
              "      padding: 0 0 0 0;\n",
              "      width: 32px;\n",
              "    }\n",
              "\n",
              "    .colab-df-convert:hover {\n",
              "      background-color: #E2EBFA;\n",
              "      box-shadow: 0px 1px 2px rgba(60, 64, 67, 0.3), 0px 1px 3px 1px rgba(60, 64, 67, 0.15);\n",
              "      fill: #174EA6;\n",
              "    }\n",
              "\n",
              "    [theme=dark] .colab-df-convert {\n",
              "      background-color: #3B4455;\n",
              "      fill: #D2E3FC;\n",
              "    }\n",
              "\n",
              "    [theme=dark] .colab-df-convert:hover {\n",
              "      background-color: #434B5C;\n",
              "      box-shadow: 0px 1px 3px 1px rgba(0, 0, 0, 0.15);\n",
              "      filter: drop-shadow(0px 1px 2px rgba(0, 0, 0, 0.3));\n",
              "      fill: #FFFFFF;\n",
              "    }\n",
              "  </style>\n",
              "\n",
              "      <script>\n",
              "        const buttonEl =\n",
              "          document.querySelector('#df-65035dda-a00d-473f-a6b0-ca1255ec5121 button.colab-df-convert');\n",
              "        buttonEl.style.display =\n",
              "          google.colab.kernel.accessAllowed ? 'block' : 'none';\n",
              "\n",
              "        async function convertToInteractive(key) {\n",
              "          const element = document.querySelector('#df-65035dda-a00d-473f-a6b0-ca1255ec5121');\n",
              "          const dataTable =\n",
              "            await google.colab.kernel.invokeFunction('convertToInteractive',\n",
              "                                                     [key], {});\n",
              "          if (!dataTable) return;\n",
              "\n",
              "          const docLinkHtml = 'Like what you see? Visit the ' +\n",
              "            '<a target=\"_blank\" href=https://colab.research.google.com/notebooks/data_table.ipynb>data table notebook</a>'\n",
              "            + ' to learn more about interactive tables.';\n",
              "          element.innerHTML = '';\n",
              "          dataTable['output_type'] = 'display_data';\n",
              "          await google.colab.output.renderOutput(dataTable, element);\n",
              "          const docLink = document.createElement('div');\n",
              "          docLink.innerHTML = docLinkHtml;\n",
              "          element.appendChild(docLink);\n",
              "        }\n",
              "      </script>\n",
              "    </div>\n",
              "  </div>\n",
              "  "
            ]
          },
          "metadata": {},
          "execution_count": 5
        }
      ]
    },
    {
      "cell_type": "code",
      "source": [
        "data.tail()"
      ],
      "metadata": {
        "colab": {
          "base_uri": "https://localhost:8080/",
          "height": 270
        },
        "id": "-I4IHV9-cvZn",
        "outputId": "e072925c-c731-4382-9101-73c6f87af400"
      },
      "id": "-I4IHV9-cvZn",
      "execution_count": null,
      "outputs": [
        {
          "output_type": "execute_result",
          "data": {
            "text/plain": [
              "         case_id continent education_of_employee has_job_experience  \\\n",
              "25475  EZYV25476      Asia            Bachelor's                  Y   \n",
              "25476  EZYV25477      Asia           High School                  Y   \n",
              "25477  EZYV25478      Asia              Master's                  Y   \n",
              "25478  EZYV25479      Asia              Master's                  Y   \n",
              "25479  EZYV25480      Asia            Bachelor's                  Y   \n",
              "\n",
              "      requires_job_training  no_of_employees  yr_of_estab  \\\n",
              "25475                     Y             2601         2008   \n",
              "25476                     N             3274         2006   \n",
              "25477                     N             1121         1910   \n",
              "25478                     Y             1918         1887   \n",
              "25479                     N             3195         1960   \n",
              "\n",
              "      region_of_employment  prevailing_wage unit_of_wage full_time_position  \\\n",
              "25475                South         77092.57         Year                  Y   \n",
              "25476            Northeast        279174.79         Year                  Y   \n",
              "25477                South        146298.85         Year                  N   \n",
              "25478                 West         86154.77         Year                  Y   \n",
              "25479              Midwest         70876.91         Year                  Y   \n",
              "\n",
              "      case_status  \n",
              "25475   Certified  \n",
              "25476   Certified  \n",
              "25477   Certified  \n",
              "25478   Certified  \n",
              "25479   Certified  "
            ],
            "text/html": [
              "\n",
              "  <div id=\"df-d3735903-63ee-40d2-992b-e85dfe982f5b\">\n",
              "    <div class=\"colab-df-container\">\n",
              "      <div>\n",
              "<style scoped>\n",
              "    .dataframe tbody tr th:only-of-type {\n",
              "        vertical-align: middle;\n",
              "    }\n",
              "\n",
              "    .dataframe tbody tr th {\n",
              "        vertical-align: top;\n",
              "    }\n",
              "\n",
              "    .dataframe thead th {\n",
              "        text-align: right;\n",
              "    }\n",
              "</style>\n",
              "<table border=\"1\" class=\"dataframe\">\n",
              "  <thead>\n",
              "    <tr style=\"text-align: right;\">\n",
              "      <th></th>\n",
              "      <th>case_id</th>\n",
              "      <th>continent</th>\n",
              "      <th>education_of_employee</th>\n",
              "      <th>has_job_experience</th>\n",
              "      <th>requires_job_training</th>\n",
              "      <th>no_of_employees</th>\n",
              "      <th>yr_of_estab</th>\n",
              "      <th>region_of_employment</th>\n",
              "      <th>prevailing_wage</th>\n",
              "      <th>unit_of_wage</th>\n",
              "      <th>full_time_position</th>\n",
              "      <th>case_status</th>\n",
              "    </tr>\n",
              "  </thead>\n",
              "  <tbody>\n",
              "    <tr>\n",
              "      <th>25475</th>\n",
              "      <td>EZYV25476</td>\n",
              "      <td>Asia</td>\n",
              "      <td>Bachelor's</td>\n",
              "      <td>Y</td>\n",
              "      <td>Y</td>\n",
              "      <td>2601</td>\n",
              "      <td>2008</td>\n",
              "      <td>South</td>\n",
              "      <td>77092.57</td>\n",
              "      <td>Year</td>\n",
              "      <td>Y</td>\n",
              "      <td>Certified</td>\n",
              "    </tr>\n",
              "    <tr>\n",
              "      <th>25476</th>\n",
              "      <td>EZYV25477</td>\n",
              "      <td>Asia</td>\n",
              "      <td>High School</td>\n",
              "      <td>Y</td>\n",
              "      <td>N</td>\n",
              "      <td>3274</td>\n",
              "      <td>2006</td>\n",
              "      <td>Northeast</td>\n",
              "      <td>279174.79</td>\n",
              "      <td>Year</td>\n",
              "      <td>Y</td>\n",
              "      <td>Certified</td>\n",
              "    </tr>\n",
              "    <tr>\n",
              "      <th>25477</th>\n",
              "      <td>EZYV25478</td>\n",
              "      <td>Asia</td>\n",
              "      <td>Master's</td>\n",
              "      <td>Y</td>\n",
              "      <td>N</td>\n",
              "      <td>1121</td>\n",
              "      <td>1910</td>\n",
              "      <td>South</td>\n",
              "      <td>146298.85</td>\n",
              "      <td>Year</td>\n",
              "      <td>N</td>\n",
              "      <td>Certified</td>\n",
              "    </tr>\n",
              "    <tr>\n",
              "      <th>25478</th>\n",
              "      <td>EZYV25479</td>\n",
              "      <td>Asia</td>\n",
              "      <td>Master's</td>\n",
              "      <td>Y</td>\n",
              "      <td>Y</td>\n",
              "      <td>1918</td>\n",
              "      <td>1887</td>\n",
              "      <td>West</td>\n",
              "      <td>86154.77</td>\n",
              "      <td>Year</td>\n",
              "      <td>Y</td>\n",
              "      <td>Certified</td>\n",
              "    </tr>\n",
              "    <tr>\n",
              "      <th>25479</th>\n",
              "      <td>EZYV25480</td>\n",
              "      <td>Asia</td>\n",
              "      <td>Bachelor's</td>\n",
              "      <td>Y</td>\n",
              "      <td>N</td>\n",
              "      <td>3195</td>\n",
              "      <td>1960</td>\n",
              "      <td>Midwest</td>\n",
              "      <td>70876.91</td>\n",
              "      <td>Year</td>\n",
              "      <td>Y</td>\n",
              "      <td>Certified</td>\n",
              "    </tr>\n",
              "  </tbody>\n",
              "</table>\n",
              "</div>\n",
              "      <button class=\"colab-df-convert\" onclick=\"convertToInteractive('df-d3735903-63ee-40d2-992b-e85dfe982f5b')\"\n",
              "              title=\"Convert this dataframe to an interactive table.\"\n",
              "              style=\"display:none;\">\n",
              "        \n",
              "  <svg xmlns=\"http://www.w3.org/2000/svg\" height=\"24px\"viewBox=\"0 0 24 24\"\n",
              "       width=\"24px\">\n",
              "    <path d=\"M0 0h24v24H0V0z\" fill=\"none\"/>\n",
              "    <path d=\"M18.56 5.44l.94 2.06.94-2.06 2.06-.94-2.06-.94-.94-2.06-.94 2.06-2.06.94zm-11 1L8.5 8.5l.94-2.06 2.06-.94-2.06-.94L8.5 2.5l-.94 2.06-2.06.94zm10 10l.94 2.06.94-2.06 2.06-.94-2.06-.94-.94-2.06-.94 2.06-2.06.94z\"/><path d=\"M17.41 7.96l-1.37-1.37c-.4-.4-.92-.59-1.43-.59-.52 0-1.04.2-1.43.59L10.3 9.45l-7.72 7.72c-.78.78-.78 2.05 0 2.83L4 21.41c.39.39.9.59 1.41.59.51 0 1.02-.2 1.41-.59l7.78-7.78 2.81-2.81c.8-.78.8-2.07 0-2.86zM5.41 20L4 18.59l7.72-7.72 1.47 1.35L5.41 20z\"/>\n",
              "  </svg>\n",
              "      </button>\n",
              "      \n",
              "  <style>\n",
              "    .colab-df-container {\n",
              "      display:flex;\n",
              "      flex-wrap:wrap;\n",
              "      gap: 12px;\n",
              "    }\n",
              "\n",
              "    .colab-df-convert {\n",
              "      background-color: #E8F0FE;\n",
              "      border: none;\n",
              "      border-radius: 50%;\n",
              "      cursor: pointer;\n",
              "      display: none;\n",
              "      fill: #1967D2;\n",
              "      height: 32px;\n",
              "      padding: 0 0 0 0;\n",
              "      width: 32px;\n",
              "    }\n",
              "\n",
              "    .colab-df-convert:hover {\n",
              "      background-color: #E2EBFA;\n",
              "      box-shadow: 0px 1px 2px rgba(60, 64, 67, 0.3), 0px 1px 3px 1px rgba(60, 64, 67, 0.15);\n",
              "      fill: #174EA6;\n",
              "    }\n",
              "\n",
              "    [theme=dark] .colab-df-convert {\n",
              "      background-color: #3B4455;\n",
              "      fill: #D2E3FC;\n",
              "    }\n",
              "\n",
              "    [theme=dark] .colab-df-convert:hover {\n",
              "      background-color: #434B5C;\n",
              "      box-shadow: 0px 1px 3px 1px rgba(0, 0, 0, 0.15);\n",
              "      filter: drop-shadow(0px 1px 2px rgba(0, 0, 0, 0.3));\n",
              "      fill: #FFFFFF;\n",
              "    }\n",
              "  </style>\n",
              "\n",
              "      <script>\n",
              "        const buttonEl =\n",
              "          document.querySelector('#df-d3735903-63ee-40d2-992b-e85dfe982f5b button.colab-df-convert');\n",
              "        buttonEl.style.display =\n",
              "          google.colab.kernel.accessAllowed ? 'block' : 'none';\n",
              "\n",
              "        async function convertToInteractive(key) {\n",
              "          const element = document.querySelector('#df-d3735903-63ee-40d2-992b-e85dfe982f5b');\n",
              "          const dataTable =\n",
              "            await google.colab.kernel.invokeFunction('convertToInteractive',\n",
              "                                                     [key], {});\n",
              "          if (!dataTable) return;\n",
              "\n",
              "          const docLinkHtml = 'Like what you see? Visit the ' +\n",
              "            '<a target=\"_blank\" href=https://colab.research.google.com/notebooks/data_table.ipynb>data table notebook</a>'\n",
              "            + ' to learn more about interactive tables.';\n",
              "          element.innerHTML = '';\n",
              "          dataTable['output_type'] = 'display_data';\n",
              "          await google.colab.output.renderOutput(dataTable, element);\n",
              "          const docLink = document.createElement('div');\n",
              "          docLink.innerHTML = docLinkHtml;\n",
              "          element.appendChild(docLink);\n",
              "        }\n",
              "      </script>\n",
              "    </div>\n",
              "  </div>\n",
              "  "
            ]
          },
          "metadata": {},
          "execution_count": 6
        }
      ]
    },
    {
      "cell_type": "markdown",
      "source": [
        "## Check the shape of the data"
      ],
      "metadata": {
        "id": "q25j5OaRlVaB"
      },
      "id": "q25j5OaRlVaB"
    },
    {
      "cell_type": "code",
      "source": [
        "data.shape"
      ],
      "metadata": {
        "colab": {
          "base_uri": "https://localhost:8080/"
        },
        "id": "qh8B8C2AlZCw",
        "outputId": "1740a163-5cab-478a-fb02-e2c0aa2928d6"
      },
      "id": "qh8B8C2AlZCw",
      "execution_count": null,
      "outputs": [
        {
          "output_type": "execute_result",
          "data": {
            "text/plain": [
              "(25480, 12)"
            ]
          },
          "metadata": {},
          "execution_count": 7
        }
      ]
    },
    {
      "cell_type": "markdown",
      "source": [
        "## Check the data types for each column"
      ],
      "metadata": {
        "id": "C4k9L4Xfl7n4"
      },
      "id": "C4k9L4Xfl7n4"
    },
    {
      "cell_type": "code",
      "source": [
        "data.info()"
      ],
      "metadata": {
        "colab": {
          "base_uri": "https://localhost:8080/"
        },
        "id": "gcIWQzzPmATY",
        "outputId": "75d8bfad-f7c2-4f50-ddd1-71a8502ac253"
      },
      "id": "gcIWQzzPmATY",
      "execution_count": null,
      "outputs": [
        {
          "output_type": "stream",
          "name": "stdout",
          "text": [
            "<class 'pandas.core.frame.DataFrame'>\n",
            "RangeIndex: 25480 entries, 0 to 25479\n",
            "Data columns (total 12 columns):\n",
            " #   Column                 Non-Null Count  Dtype  \n",
            "---  ------                 --------------  -----  \n",
            " 0   case_id                25480 non-null  object \n",
            " 1   continent              25480 non-null  object \n",
            " 2   education_of_employee  25480 non-null  object \n",
            " 3   has_job_experience     25480 non-null  object \n",
            " 4   requires_job_training  25480 non-null  object \n",
            " 5   no_of_employees        25480 non-null  int64  \n",
            " 6   yr_of_estab            25480 non-null  int64  \n",
            " 7   region_of_employment   25480 non-null  object \n",
            " 8   prevailing_wage        25480 non-null  float64\n",
            " 9   unit_of_wage           25480 non-null  object \n",
            " 10  full_time_position     25480 non-null  object \n",
            " 11  case_status            25480 non-null  object \n",
            "dtypes: float64(1), int64(2), object(9)\n",
            "memory usage: 2.3+ MB\n"
          ]
        }
      ]
    },
    {
      "cell_type": "markdown",
      "source": [
        "### Observations\n",
        "* There twelve columns and 25,480 observations. \n",
        "* Most columns consist of object data types, with two integer and one float. "
      ],
      "metadata": {
        "id": "0e-m1ydQmvPj"
      },
      "id": "0e-m1ydQmvPj"
    },
    {
      "cell_type": "markdown",
      "source": [
        "## Check for null and duplicate values"
      ],
      "metadata": {
        "id": "1gLEVl40nw4I"
      },
      "id": "1gLEVl40nw4I"
    },
    {
      "cell_type": "code",
      "source": [
        "# Check for null values\n",
        "data.isna().sum()"
      ],
      "metadata": {
        "colab": {
          "base_uri": "https://localhost:8080/"
        },
        "id": "kCHNVEO5n0mb",
        "outputId": "15bda5e1-ecf4-4093-e680-3ef95e88a096"
      },
      "id": "kCHNVEO5n0mb",
      "execution_count": null,
      "outputs": [
        {
          "output_type": "execute_result",
          "data": {
            "text/plain": [
              "case_id                  0\n",
              "continent                0\n",
              "education_of_employee    0\n",
              "has_job_experience       0\n",
              "requires_job_training    0\n",
              "no_of_employees          0\n",
              "yr_of_estab              0\n",
              "region_of_employment     0\n",
              "prevailing_wage          0\n",
              "unit_of_wage             0\n",
              "full_time_position       0\n",
              "case_status              0\n",
              "dtype: int64"
            ]
          },
          "metadata": {},
          "execution_count": 9
        }
      ]
    },
    {
      "cell_type": "code",
      "source": [
        "# Check for duplicates\n",
        "data.duplicated().sum()"
      ],
      "metadata": {
        "colab": {
          "base_uri": "https://localhost:8080/"
        },
        "id": "zSnpNaLjmCsg",
        "outputId": "0ffc7d48-f38d-425a-88da-60910e7eb995"
      },
      "id": "zSnpNaLjmCsg",
      "execution_count": null,
      "outputs": [
        {
          "output_type": "execute_result",
          "data": {
            "text/plain": [
              "0"
            ]
          },
          "metadata": {},
          "execution_count": 10
        }
      ]
    },
    {
      "cell_type": "code",
      "source": [
        "# Convert object data types to categorical\n",
        "for feature in data.columns: # Loop through all columns in the dataframe\n",
        "    if data[feature].dtype == 'object': # Only apply for columns with categorical strings\n",
        "        data[feature] = pd.Categorical(data[feature])# Replace strings with an integer\n",
        "data.head(10)"
      ],
      "metadata": {
        "colab": {
          "base_uri": "https://localhost:8080/",
          "height": 444
        },
        "id": "KQO70ItPXe09",
        "outputId": "1e6d41e1-4924-492c-ff4c-62156bea9ce1"
      },
      "id": "KQO70ItPXe09",
      "execution_count": null,
      "outputs": [
        {
          "output_type": "execute_result",
          "data": {
            "text/plain": [
              "  case_id      continent education_of_employee has_job_experience  \\\n",
              "0  EZYV01           Asia           High School                  N   \n",
              "1  EZYV02           Asia              Master's                  Y   \n",
              "2  EZYV03           Asia            Bachelor's                  N   \n",
              "3  EZYV04           Asia            Bachelor's                  N   \n",
              "4  EZYV05         Africa              Master's                  Y   \n",
              "5  EZYV06           Asia              Master's                  Y   \n",
              "6  EZYV07           Asia            Bachelor's                  N   \n",
              "7  EZYV08  North America            Bachelor's                  Y   \n",
              "8  EZYV09           Asia            Bachelor's                  N   \n",
              "9  EZYV10         Europe             Doctorate                  Y   \n",
              "\n",
              "  requires_job_training  no_of_employees  yr_of_estab region_of_employment  \\\n",
              "0                     N            14513         2007                 West   \n",
              "1                     N             2412         2002            Northeast   \n",
              "2                     Y            44444         2008                 West   \n",
              "3                     N               98         1897                 West   \n",
              "4                     N             1082         2005                South   \n",
              "5                     N             2339         2012                South   \n",
              "6                     N             4985         1994                South   \n",
              "7                     N             3035         1924                 West   \n",
              "8                     N             4810         2012              Midwest   \n",
              "9                     N             2251         1995                South   \n",
              "\n",
              "   prevailing_wage unit_of_wage full_time_position case_status  \n",
              "0         592.2029         Hour                  Y      Denied  \n",
              "1       83425.6500         Year                  Y   Certified  \n",
              "2      122996.8600         Year                  Y      Denied  \n",
              "3       83434.0300         Year                  Y      Denied  \n",
              "4      149907.3900         Year                  Y   Certified  \n",
              "5       78252.1400         Year                  Y   Certified  \n",
              "6       53635.3900         Year                  Y   Certified  \n",
              "7         418.2298         Hour                  Y      Denied  \n",
              "8       74362.1900         Year                  Y   Certified  \n",
              "9       67514.7600         Year                  Y   Certified  "
            ],
            "text/html": [
              "\n",
              "  <div id=\"df-4559c507-d44e-4956-8a43-02dcfead2018\">\n",
              "    <div class=\"colab-df-container\">\n",
              "      <div>\n",
              "<style scoped>\n",
              "    .dataframe tbody tr th:only-of-type {\n",
              "        vertical-align: middle;\n",
              "    }\n",
              "\n",
              "    .dataframe tbody tr th {\n",
              "        vertical-align: top;\n",
              "    }\n",
              "\n",
              "    .dataframe thead th {\n",
              "        text-align: right;\n",
              "    }\n",
              "</style>\n",
              "<table border=\"1\" class=\"dataframe\">\n",
              "  <thead>\n",
              "    <tr style=\"text-align: right;\">\n",
              "      <th></th>\n",
              "      <th>case_id</th>\n",
              "      <th>continent</th>\n",
              "      <th>education_of_employee</th>\n",
              "      <th>has_job_experience</th>\n",
              "      <th>requires_job_training</th>\n",
              "      <th>no_of_employees</th>\n",
              "      <th>yr_of_estab</th>\n",
              "      <th>region_of_employment</th>\n",
              "      <th>prevailing_wage</th>\n",
              "      <th>unit_of_wage</th>\n",
              "      <th>full_time_position</th>\n",
              "      <th>case_status</th>\n",
              "    </tr>\n",
              "  </thead>\n",
              "  <tbody>\n",
              "    <tr>\n",
              "      <th>0</th>\n",
              "      <td>EZYV01</td>\n",
              "      <td>Asia</td>\n",
              "      <td>High School</td>\n",
              "      <td>N</td>\n",
              "      <td>N</td>\n",
              "      <td>14513</td>\n",
              "      <td>2007</td>\n",
              "      <td>West</td>\n",
              "      <td>592.2029</td>\n",
              "      <td>Hour</td>\n",
              "      <td>Y</td>\n",
              "      <td>Denied</td>\n",
              "    </tr>\n",
              "    <tr>\n",
              "      <th>1</th>\n",
              "      <td>EZYV02</td>\n",
              "      <td>Asia</td>\n",
              "      <td>Master's</td>\n",
              "      <td>Y</td>\n",
              "      <td>N</td>\n",
              "      <td>2412</td>\n",
              "      <td>2002</td>\n",
              "      <td>Northeast</td>\n",
              "      <td>83425.6500</td>\n",
              "      <td>Year</td>\n",
              "      <td>Y</td>\n",
              "      <td>Certified</td>\n",
              "    </tr>\n",
              "    <tr>\n",
              "      <th>2</th>\n",
              "      <td>EZYV03</td>\n",
              "      <td>Asia</td>\n",
              "      <td>Bachelor's</td>\n",
              "      <td>N</td>\n",
              "      <td>Y</td>\n",
              "      <td>44444</td>\n",
              "      <td>2008</td>\n",
              "      <td>West</td>\n",
              "      <td>122996.8600</td>\n",
              "      <td>Year</td>\n",
              "      <td>Y</td>\n",
              "      <td>Denied</td>\n",
              "    </tr>\n",
              "    <tr>\n",
              "      <th>3</th>\n",
              "      <td>EZYV04</td>\n",
              "      <td>Asia</td>\n",
              "      <td>Bachelor's</td>\n",
              "      <td>N</td>\n",
              "      <td>N</td>\n",
              "      <td>98</td>\n",
              "      <td>1897</td>\n",
              "      <td>West</td>\n",
              "      <td>83434.0300</td>\n",
              "      <td>Year</td>\n",
              "      <td>Y</td>\n",
              "      <td>Denied</td>\n",
              "    </tr>\n",
              "    <tr>\n",
              "      <th>4</th>\n",
              "      <td>EZYV05</td>\n",
              "      <td>Africa</td>\n",
              "      <td>Master's</td>\n",
              "      <td>Y</td>\n",
              "      <td>N</td>\n",
              "      <td>1082</td>\n",
              "      <td>2005</td>\n",
              "      <td>South</td>\n",
              "      <td>149907.3900</td>\n",
              "      <td>Year</td>\n",
              "      <td>Y</td>\n",
              "      <td>Certified</td>\n",
              "    </tr>\n",
              "    <tr>\n",
              "      <th>5</th>\n",
              "      <td>EZYV06</td>\n",
              "      <td>Asia</td>\n",
              "      <td>Master's</td>\n",
              "      <td>Y</td>\n",
              "      <td>N</td>\n",
              "      <td>2339</td>\n",
              "      <td>2012</td>\n",
              "      <td>South</td>\n",
              "      <td>78252.1400</td>\n",
              "      <td>Year</td>\n",
              "      <td>Y</td>\n",
              "      <td>Certified</td>\n",
              "    </tr>\n",
              "    <tr>\n",
              "      <th>6</th>\n",
              "      <td>EZYV07</td>\n",
              "      <td>Asia</td>\n",
              "      <td>Bachelor's</td>\n",
              "      <td>N</td>\n",
              "      <td>N</td>\n",
              "      <td>4985</td>\n",
              "      <td>1994</td>\n",
              "      <td>South</td>\n",
              "      <td>53635.3900</td>\n",
              "      <td>Year</td>\n",
              "      <td>Y</td>\n",
              "      <td>Certified</td>\n",
              "    </tr>\n",
              "    <tr>\n",
              "      <th>7</th>\n",
              "      <td>EZYV08</td>\n",
              "      <td>North America</td>\n",
              "      <td>Bachelor's</td>\n",
              "      <td>Y</td>\n",
              "      <td>N</td>\n",
              "      <td>3035</td>\n",
              "      <td>1924</td>\n",
              "      <td>West</td>\n",
              "      <td>418.2298</td>\n",
              "      <td>Hour</td>\n",
              "      <td>Y</td>\n",
              "      <td>Denied</td>\n",
              "    </tr>\n",
              "    <tr>\n",
              "      <th>8</th>\n",
              "      <td>EZYV09</td>\n",
              "      <td>Asia</td>\n",
              "      <td>Bachelor's</td>\n",
              "      <td>N</td>\n",
              "      <td>N</td>\n",
              "      <td>4810</td>\n",
              "      <td>2012</td>\n",
              "      <td>Midwest</td>\n",
              "      <td>74362.1900</td>\n",
              "      <td>Year</td>\n",
              "      <td>Y</td>\n",
              "      <td>Certified</td>\n",
              "    </tr>\n",
              "    <tr>\n",
              "      <th>9</th>\n",
              "      <td>EZYV10</td>\n",
              "      <td>Europe</td>\n",
              "      <td>Doctorate</td>\n",
              "      <td>Y</td>\n",
              "      <td>N</td>\n",
              "      <td>2251</td>\n",
              "      <td>1995</td>\n",
              "      <td>South</td>\n",
              "      <td>67514.7600</td>\n",
              "      <td>Year</td>\n",
              "      <td>Y</td>\n",
              "      <td>Certified</td>\n",
              "    </tr>\n",
              "  </tbody>\n",
              "</table>\n",
              "</div>\n",
              "      <button class=\"colab-df-convert\" onclick=\"convertToInteractive('df-4559c507-d44e-4956-8a43-02dcfead2018')\"\n",
              "              title=\"Convert this dataframe to an interactive table.\"\n",
              "              style=\"display:none;\">\n",
              "        \n",
              "  <svg xmlns=\"http://www.w3.org/2000/svg\" height=\"24px\"viewBox=\"0 0 24 24\"\n",
              "       width=\"24px\">\n",
              "    <path d=\"M0 0h24v24H0V0z\" fill=\"none\"/>\n",
              "    <path d=\"M18.56 5.44l.94 2.06.94-2.06 2.06-.94-2.06-.94-.94-2.06-.94 2.06-2.06.94zm-11 1L8.5 8.5l.94-2.06 2.06-.94-2.06-.94L8.5 2.5l-.94 2.06-2.06.94zm10 10l.94 2.06.94-2.06 2.06-.94-2.06-.94-.94-2.06-.94 2.06-2.06.94z\"/><path d=\"M17.41 7.96l-1.37-1.37c-.4-.4-.92-.59-1.43-.59-.52 0-1.04.2-1.43.59L10.3 9.45l-7.72 7.72c-.78.78-.78 2.05 0 2.83L4 21.41c.39.39.9.59 1.41.59.51 0 1.02-.2 1.41-.59l7.78-7.78 2.81-2.81c.8-.78.8-2.07 0-2.86zM5.41 20L4 18.59l7.72-7.72 1.47 1.35L5.41 20z\"/>\n",
              "  </svg>\n",
              "      </button>\n",
              "      \n",
              "  <style>\n",
              "    .colab-df-container {\n",
              "      display:flex;\n",
              "      flex-wrap:wrap;\n",
              "      gap: 12px;\n",
              "    }\n",
              "\n",
              "    .colab-df-convert {\n",
              "      background-color: #E8F0FE;\n",
              "      border: none;\n",
              "      border-radius: 50%;\n",
              "      cursor: pointer;\n",
              "      display: none;\n",
              "      fill: #1967D2;\n",
              "      height: 32px;\n",
              "      padding: 0 0 0 0;\n",
              "      width: 32px;\n",
              "    }\n",
              "\n",
              "    .colab-df-convert:hover {\n",
              "      background-color: #E2EBFA;\n",
              "      box-shadow: 0px 1px 2px rgba(60, 64, 67, 0.3), 0px 1px 3px 1px rgba(60, 64, 67, 0.15);\n",
              "      fill: #174EA6;\n",
              "    }\n",
              "\n",
              "    [theme=dark] .colab-df-convert {\n",
              "      background-color: #3B4455;\n",
              "      fill: #D2E3FC;\n",
              "    }\n",
              "\n",
              "    [theme=dark] .colab-df-convert:hover {\n",
              "      background-color: #434B5C;\n",
              "      box-shadow: 0px 1px 3px 1px rgba(0, 0, 0, 0.15);\n",
              "      filter: drop-shadow(0px 1px 2px rgba(0, 0, 0, 0.3));\n",
              "      fill: #FFFFFF;\n",
              "    }\n",
              "  </style>\n",
              "\n",
              "      <script>\n",
              "        const buttonEl =\n",
              "          document.querySelector('#df-4559c507-d44e-4956-8a43-02dcfead2018 button.colab-df-convert');\n",
              "        buttonEl.style.display =\n",
              "          google.colab.kernel.accessAllowed ? 'block' : 'none';\n",
              "\n",
              "        async function convertToInteractive(key) {\n",
              "          const element = document.querySelector('#df-4559c507-d44e-4956-8a43-02dcfead2018');\n",
              "          const dataTable =\n",
              "            await google.colab.kernel.invokeFunction('convertToInteractive',\n",
              "                                                     [key], {});\n",
              "          if (!dataTable) return;\n",
              "\n",
              "          const docLinkHtml = 'Like what you see? Visit the ' +\n",
              "            '<a target=\"_blank\" href=https://colab.research.google.com/notebooks/data_table.ipynb>data table notebook</a>'\n",
              "            + ' to learn more about interactive tables.';\n",
              "          element.innerHTML = '';\n",
              "          dataTable['output_type'] = 'display_data';\n",
              "          await google.colab.output.renderOutput(dataTable, element);\n",
              "          const docLink = document.createElement('div');\n",
              "          docLink.innerHTML = docLinkHtml;\n",
              "          element.appendChild(docLink);\n",
              "        }\n",
              "      </script>\n",
              "    </div>\n",
              "  </div>\n",
              "  "
            ]
          },
          "metadata": {},
          "execution_count": 11
        }
      ]
    },
    {
      "cell_type": "code",
      "source": [
        "data.info()"
      ],
      "metadata": {
        "colab": {
          "base_uri": "https://localhost:8080/"
        },
        "id": "R8pGFewsXwsr",
        "outputId": "e67f11d4-538c-46f0-f90a-03528d1ade77"
      },
      "id": "R8pGFewsXwsr",
      "execution_count": null,
      "outputs": [
        {
          "output_type": "stream",
          "name": "stdout",
          "text": [
            "<class 'pandas.core.frame.DataFrame'>\n",
            "RangeIndex: 25480 entries, 0 to 25479\n",
            "Data columns (total 12 columns):\n",
            " #   Column                 Non-Null Count  Dtype   \n",
            "---  ------                 --------------  -----   \n",
            " 0   case_id                25480 non-null  category\n",
            " 1   continent              25480 non-null  category\n",
            " 2   education_of_employee  25480 non-null  category\n",
            " 3   has_job_experience     25480 non-null  category\n",
            " 4   requires_job_training  25480 non-null  category\n",
            " 5   no_of_employees        25480 non-null  int64   \n",
            " 6   yr_of_estab            25480 non-null  int64   \n",
            " 7   region_of_employment   25480 non-null  category\n",
            " 8   prevailing_wage        25480 non-null  float64 \n",
            " 9   unit_of_wage           25480 non-null  category\n",
            " 10  full_time_position     25480 non-null  category\n",
            " 11  case_status            25480 non-null  category\n",
            "dtypes: category(9), float64(1), int64(2)\n",
            "memory usage: 2.0 MB\n"
          ]
        }
      ]
    },
    {
      "cell_type": "markdown",
      "source": [
        "### Observations\n",
        "* There no null values and 0 duplicates. "
      ],
      "metadata": {
        "id": "837oJLINo--n"
      },
      "id": "837oJLINo--n"
    },
    {
      "cell_type": "markdown",
      "id": "seasonal-calibration",
      "metadata": {
        "id": "seasonal-calibration"
      },
      "source": [
        "## Exploratory Data Analysis (EDA)\n",
        "\n",
        "- EDA is an important part of any project involving data.\n",
        "- It is important to investigate and understand the data better before building a model with it.\n",
        "- A few questions have been mentioned below which will help you approach the analysis in the right manner and generate insights from the data.\n",
        "- A thorough analysis of the data, in addition to the questions mentioned below, should be done."
      ]
    },
    {
      "cell_type": "code",
      "execution_count": null,
      "id": "right-permit",
      "metadata": {
        "id": "right-permit",
        "colab": {
          "base_uri": "https://localhost:8080/",
          "height": 112
        },
        "outputId": "39db9ed6-88da-493a-d0b0-8498dab29a6c"
      },
      "outputs": [
        {
          "output_type": "execute_result",
          "data": {
            "text/plain": [
              "                   count          mean           std      min       25%  \\\n",
              "no_of_employees  25480.0   5667.043210  22877.928848 -26.0000   1022.00   \n",
              "prevailing_wage  25480.0  74455.814592  52815.942327   2.1367  34015.48   \n",
              "\n",
              "                      50%          75%        max  \n",
              "no_of_employees   2109.00    3504.0000  602069.00  \n",
              "prevailing_wage  70308.21  107735.5125  319210.27  "
            ],
            "text/html": [
              "\n",
              "  <div id=\"df-75ebaecd-d77c-41dd-8a57-9de9dff9729a\">\n",
              "    <div class=\"colab-df-container\">\n",
              "      <div>\n",
              "<style scoped>\n",
              "    .dataframe tbody tr th:only-of-type {\n",
              "        vertical-align: middle;\n",
              "    }\n",
              "\n",
              "    .dataframe tbody tr th {\n",
              "        vertical-align: top;\n",
              "    }\n",
              "\n",
              "    .dataframe thead th {\n",
              "        text-align: right;\n",
              "    }\n",
              "</style>\n",
              "<table border=\"1\" class=\"dataframe\">\n",
              "  <thead>\n",
              "    <tr style=\"text-align: right;\">\n",
              "      <th></th>\n",
              "      <th>count</th>\n",
              "      <th>mean</th>\n",
              "      <th>std</th>\n",
              "      <th>min</th>\n",
              "      <th>25%</th>\n",
              "      <th>50%</th>\n",
              "      <th>75%</th>\n",
              "      <th>max</th>\n",
              "    </tr>\n",
              "  </thead>\n",
              "  <tbody>\n",
              "    <tr>\n",
              "      <th>no_of_employees</th>\n",
              "      <td>25480.0</td>\n",
              "      <td>5667.043210</td>\n",
              "      <td>22877.928848</td>\n",
              "      <td>-26.0000</td>\n",
              "      <td>1022.00</td>\n",
              "      <td>2109.00</td>\n",
              "      <td>3504.0000</td>\n",
              "      <td>602069.00</td>\n",
              "    </tr>\n",
              "    <tr>\n",
              "      <th>prevailing_wage</th>\n",
              "      <td>25480.0</td>\n",
              "      <td>74455.814592</td>\n",
              "      <td>52815.942327</td>\n",
              "      <td>2.1367</td>\n",
              "      <td>34015.48</td>\n",
              "      <td>70308.21</td>\n",
              "      <td>107735.5125</td>\n",
              "      <td>319210.27</td>\n",
              "    </tr>\n",
              "  </tbody>\n",
              "</table>\n",
              "</div>\n",
              "      <button class=\"colab-df-convert\" onclick=\"convertToInteractive('df-75ebaecd-d77c-41dd-8a57-9de9dff9729a')\"\n",
              "              title=\"Convert this dataframe to an interactive table.\"\n",
              "              style=\"display:none;\">\n",
              "        \n",
              "  <svg xmlns=\"http://www.w3.org/2000/svg\" height=\"24px\"viewBox=\"0 0 24 24\"\n",
              "       width=\"24px\">\n",
              "    <path d=\"M0 0h24v24H0V0z\" fill=\"none\"/>\n",
              "    <path d=\"M18.56 5.44l.94 2.06.94-2.06 2.06-.94-2.06-.94-.94-2.06-.94 2.06-2.06.94zm-11 1L8.5 8.5l.94-2.06 2.06-.94-2.06-.94L8.5 2.5l-.94 2.06-2.06.94zm10 10l.94 2.06.94-2.06 2.06-.94-2.06-.94-.94-2.06-.94 2.06-2.06.94z\"/><path d=\"M17.41 7.96l-1.37-1.37c-.4-.4-.92-.59-1.43-.59-.52 0-1.04.2-1.43.59L10.3 9.45l-7.72 7.72c-.78.78-.78 2.05 0 2.83L4 21.41c.39.39.9.59 1.41.59.51 0 1.02-.2 1.41-.59l7.78-7.78 2.81-2.81c.8-.78.8-2.07 0-2.86zM5.41 20L4 18.59l7.72-7.72 1.47 1.35L5.41 20z\"/>\n",
              "  </svg>\n",
              "      </button>\n",
              "      \n",
              "  <style>\n",
              "    .colab-df-container {\n",
              "      display:flex;\n",
              "      flex-wrap:wrap;\n",
              "      gap: 12px;\n",
              "    }\n",
              "\n",
              "    .colab-df-convert {\n",
              "      background-color: #E8F0FE;\n",
              "      border: none;\n",
              "      border-radius: 50%;\n",
              "      cursor: pointer;\n",
              "      display: none;\n",
              "      fill: #1967D2;\n",
              "      height: 32px;\n",
              "      padding: 0 0 0 0;\n",
              "      width: 32px;\n",
              "    }\n",
              "\n",
              "    .colab-df-convert:hover {\n",
              "      background-color: #E2EBFA;\n",
              "      box-shadow: 0px 1px 2px rgba(60, 64, 67, 0.3), 0px 1px 3px 1px rgba(60, 64, 67, 0.15);\n",
              "      fill: #174EA6;\n",
              "    }\n",
              "\n",
              "    [theme=dark] .colab-df-convert {\n",
              "      background-color: #3B4455;\n",
              "      fill: #D2E3FC;\n",
              "    }\n",
              "\n",
              "    [theme=dark] .colab-df-convert:hover {\n",
              "      background-color: #434B5C;\n",
              "      box-shadow: 0px 1px 3px 1px rgba(0, 0, 0, 0.15);\n",
              "      filter: drop-shadow(0px 1px 2px rgba(0, 0, 0, 0.3));\n",
              "      fill: #FFFFFF;\n",
              "    }\n",
              "  </style>\n",
              "\n",
              "      <script>\n",
              "        const buttonEl =\n",
              "          document.querySelector('#df-75ebaecd-d77c-41dd-8a57-9de9dff9729a button.colab-df-convert');\n",
              "        buttonEl.style.display =\n",
              "          google.colab.kernel.accessAllowed ? 'block' : 'none';\n",
              "\n",
              "        async function convertToInteractive(key) {\n",
              "          const element = document.querySelector('#df-75ebaecd-d77c-41dd-8a57-9de9dff9729a');\n",
              "          const dataTable =\n",
              "            await google.colab.kernel.invokeFunction('convertToInteractive',\n",
              "                                                     [key], {});\n",
              "          if (!dataTable) return;\n",
              "\n",
              "          const docLinkHtml = 'Like what you see? Visit the ' +\n",
              "            '<a target=\"_blank\" href=https://colab.research.google.com/notebooks/data_table.ipynb>data table notebook</a>'\n",
              "            + ' to learn more about interactive tables.';\n",
              "          element.innerHTML = '';\n",
              "          dataTable['output_type'] = 'display_data';\n",
              "          await google.colab.output.renderOutput(dataTable, element);\n",
              "          const docLink = document.createElement('div');\n",
              "          docLink.innerHTML = docLinkHtml;\n",
              "          element.appendChild(docLink);\n",
              "        }\n",
              "      </script>\n",
              "    </div>\n",
              "  </div>\n",
              "  "
            ]
          },
          "metadata": {},
          "execution_count": 13
        }
      ],
      "source": [
        "\n",
        "# Summary of continuous columns\n",
        "data[['no_of_employees','prevailing_wage']].describe().T"
      ]
    },
    {
      "cell_type": "markdown",
      "source": [
        "### Observations\n",
        "* Number of employees: The mean and median are signficantly different. This indicates outliers or skewness. \n",
        "* Prevailing wage: The mean and median are similar and there appears to be a few outliers above the 74th percentile. "
      ],
      "metadata": {
        "id": "EW8ZLEVS1QO3"
      },
      "id": "EW8ZLEVS1QO3"
    },
    {
      "cell_type": "code",
      "source": [
        "# Addressing negative values \n",
        "data.loc[data[\"no_of_employees\"] < 0].shape"
      ],
      "metadata": {
        "colab": {
          "base_uri": "https://localhost:8080/"
        },
        "id": "d-q9k0DB05_k",
        "outputId": "94d69a93-f694-47aa-edc2-343afaa33c40"
      },
      "id": "d-q9k0DB05_k",
      "execution_count": null,
      "outputs": [
        {
          "output_type": "execute_result",
          "data": {
            "text/plain": [
              "(33, 12)"
            ]
          },
          "metadata": {},
          "execution_count": 14
        }
      ]
    },
    {
      "cell_type": "code",
      "source": [
        "# Convert negative values to absolute\n",
        "data[\"no_of_employees\"] = abs(data[\"no_of_employees\"]) "
      ],
      "metadata": {
        "id": "UyUBBB-C7Mfe"
      },
      "id": "UyUBBB-C7Mfe",
      "execution_count": null,
      "outputs": []
    },
    {
      "cell_type": "code",
      "source": [
        "# Check to see if values were converted to absolute value\n",
        "data[['no_of_employees','prevailing_wage']].describe().T"
      ],
      "metadata": {
        "colab": {
          "base_uri": "https://localhost:8080/",
          "height": 112
        },
        "id": "id3b-EIH9ZFs",
        "outputId": "576e133f-ba52-44fb-bd40-1702ef8deac9"
      },
      "id": "id3b-EIH9ZFs",
      "execution_count": null,
      "outputs": [
        {
          "output_type": "execute_result",
          "data": {
            "text/plain": [
              "                   count          mean           std      min       25%  \\\n",
              "no_of_employees  25480.0   5667.089207  22877.917453  11.0000   1022.00   \n",
              "prevailing_wage  25480.0  74455.814592  52815.942327   2.1367  34015.48   \n",
              "\n",
              "                      50%          75%        max  \n",
              "no_of_employees   2109.00    3504.0000  602069.00  \n",
              "prevailing_wage  70308.21  107735.5125  319210.27  "
            ],
            "text/html": [
              "\n",
              "  <div id=\"df-d52edf9f-203a-4b84-aa63-08bded201e42\">\n",
              "    <div class=\"colab-df-container\">\n",
              "      <div>\n",
              "<style scoped>\n",
              "    .dataframe tbody tr th:only-of-type {\n",
              "        vertical-align: middle;\n",
              "    }\n",
              "\n",
              "    .dataframe tbody tr th {\n",
              "        vertical-align: top;\n",
              "    }\n",
              "\n",
              "    .dataframe thead th {\n",
              "        text-align: right;\n",
              "    }\n",
              "</style>\n",
              "<table border=\"1\" class=\"dataframe\">\n",
              "  <thead>\n",
              "    <tr style=\"text-align: right;\">\n",
              "      <th></th>\n",
              "      <th>count</th>\n",
              "      <th>mean</th>\n",
              "      <th>std</th>\n",
              "      <th>min</th>\n",
              "      <th>25%</th>\n",
              "      <th>50%</th>\n",
              "      <th>75%</th>\n",
              "      <th>max</th>\n",
              "    </tr>\n",
              "  </thead>\n",
              "  <tbody>\n",
              "    <tr>\n",
              "      <th>no_of_employees</th>\n",
              "      <td>25480.0</td>\n",
              "      <td>5667.089207</td>\n",
              "      <td>22877.917453</td>\n",
              "      <td>11.0000</td>\n",
              "      <td>1022.00</td>\n",
              "      <td>2109.00</td>\n",
              "      <td>3504.0000</td>\n",
              "      <td>602069.00</td>\n",
              "    </tr>\n",
              "    <tr>\n",
              "      <th>prevailing_wage</th>\n",
              "      <td>25480.0</td>\n",
              "      <td>74455.814592</td>\n",
              "      <td>52815.942327</td>\n",
              "      <td>2.1367</td>\n",
              "      <td>34015.48</td>\n",
              "      <td>70308.21</td>\n",
              "      <td>107735.5125</td>\n",
              "      <td>319210.27</td>\n",
              "    </tr>\n",
              "  </tbody>\n",
              "</table>\n",
              "</div>\n",
              "      <button class=\"colab-df-convert\" onclick=\"convertToInteractive('df-d52edf9f-203a-4b84-aa63-08bded201e42')\"\n",
              "              title=\"Convert this dataframe to an interactive table.\"\n",
              "              style=\"display:none;\">\n",
              "        \n",
              "  <svg xmlns=\"http://www.w3.org/2000/svg\" height=\"24px\"viewBox=\"0 0 24 24\"\n",
              "       width=\"24px\">\n",
              "    <path d=\"M0 0h24v24H0V0z\" fill=\"none\"/>\n",
              "    <path d=\"M18.56 5.44l.94 2.06.94-2.06 2.06-.94-2.06-.94-.94-2.06-.94 2.06-2.06.94zm-11 1L8.5 8.5l.94-2.06 2.06-.94-2.06-.94L8.5 2.5l-.94 2.06-2.06.94zm10 10l.94 2.06.94-2.06 2.06-.94-2.06-.94-.94-2.06-.94 2.06-2.06.94z\"/><path d=\"M17.41 7.96l-1.37-1.37c-.4-.4-.92-.59-1.43-.59-.52 0-1.04.2-1.43.59L10.3 9.45l-7.72 7.72c-.78.78-.78 2.05 0 2.83L4 21.41c.39.39.9.59 1.41.59.51 0 1.02-.2 1.41-.59l7.78-7.78 2.81-2.81c.8-.78.8-2.07 0-2.86zM5.41 20L4 18.59l7.72-7.72 1.47 1.35L5.41 20z\"/>\n",
              "  </svg>\n",
              "      </button>\n",
              "      \n",
              "  <style>\n",
              "    .colab-df-container {\n",
              "      display:flex;\n",
              "      flex-wrap:wrap;\n",
              "      gap: 12px;\n",
              "    }\n",
              "\n",
              "    .colab-df-convert {\n",
              "      background-color: #E8F0FE;\n",
              "      border: none;\n",
              "      border-radius: 50%;\n",
              "      cursor: pointer;\n",
              "      display: none;\n",
              "      fill: #1967D2;\n",
              "      height: 32px;\n",
              "      padding: 0 0 0 0;\n",
              "      width: 32px;\n",
              "    }\n",
              "\n",
              "    .colab-df-convert:hover {\n",
              "      background-color: #E2EBFA;\n",
              "      box-shadow: 0px 1px 2px rgba(60, 64, 67, 0.3), 0px 1px 3px 1px rgba(60, 64, 67, 0.15);\n",
              "      fill: #174EA6;\n",
              "    }\n",
              "\n",
              "    [theme=dark] .colab-df-convert {\n",
              "      background-color: #3B4455;\n",
              "      fill: #D2E3FC;\n",
              "    }\n",
              "\n",
              "    [theme=dark] .colab-df-convert:hover {\n",
              "      background-color: #434B5C;\n",
              "      box-shadow: 0px 1px 3px 1px rgba(0, 0, 0, 0.15);\n",
              "      filter: drop-shadow(0px 1px 2px rgba(0, 0, 0, 0.3));\n",
              "      fill: #FFFFFF;\n",
              "    }\n",
              "  </style>\n",
              "\n",
              "      <script>\n",
              "        const buttonEl =\n",
              "          document.querySelector('#df-d52edf9f-203a-4b84-aa63-08bded201e42 button.colab-df-convert');\n",
              "        buttonEl.style.display =\n",
              "          google.colab.kernel.accessAllowed ? 'block' : 'none';\n",
              "\n",
              "        async function convertToInteractive(key) {\n",
              "          const element = document.querySelector('#df-d52edf9f-203a-4b84-aa63-08bded201e42');\n",
              "          const dataTable =\n",
              "            await google.colab.kernel.invokeFunction('convertToInteractive',\n",
              "                                                     [key], {});\n",
              "          if (!dataTable) return;\n",
              "\n",
              "          const docLinkHtml = 'Like what you see? Visit the ' +\n",
              "            '<a target=\"_blank\" href=https://colab.research.google.com/notebooks/data_table.ipynb>data table notebook</a>'\n",
              "            + ' to learn more about interactive tables.';\n",
              "          element.innerHTML = '';\n",
              "          dataTable['output_type'] = 'display_data';\n",
              "          await google.colab.output.renderOutput(dataTable, element);\n",
              "          const docLink = document.createElement('div');\n",
              "          docLink.innerHTML = docLinkHtml;\n",
              "          element.appendChild(docLink);\n",
              "        }\n",
              "      </script>\n",
              "    </div>\n",
              "  </div>\n",
              "  "
            ]
          },
          "metadata": {},
          "execution_count": 16
        }
      ]
    },
    {
      "cell_type": "code",
      "source": [
        "# Drop the case id since it won't be of value to the prediction model\n",
        "data.drop(columns=[\"case_id\"], inplace=True)"
      ],
      "metadata": {
        "id": "VICWn2PoBlTU"
      },
      "id": "VICWn2PoBlTU",
      "execution_count": null,
      "outputs": []
    },
    {
      "cell_type": "code",
      "source": [
        "# checking the number of unique cases\n",
        "data.nunique()"
      ],
      "metadata": {
        "colab": {
          "base_uri": "https://localhost:8080/"
        },
        "id": "mACyncPoBNI7",
        "outputId": "b6b9b65b-f3d0-4170-bd60-e2695f6ad18d"
      },
      "id": "mACyncPoBNI7",
      "execution_count": null,
      "outputs": [
        {
          "output_type": "execute_result",
          "data": {
            "text/plain": [
              "continent                    6\n",
              "education_of_employee        4\n",
              "has_job_experience           2\n",
              "requires_job_training        2\n",
              "no_of_employees           7105\n",
              "yr_of_estab                199\n",
              "region_of_employment         5\n",
              "prevailing_wage          25454\n",
              "unit_of_wage                 4\n",
              "full_time_position           2\n",
              "case_status                  2\n",
              "dtype: int64"
            ]
          },
          "metadata": {},
          "execution_count": 18
        }
      ]
    },
    {
      "cell_type": "code",
      "source": [
        ""
      ],
      "metadata": {
        "id": "FZxYglz1Bh_7"
      },
      "id": "FZxYglz1Bh_7",
      "execution_count": null,
      "outputs": []
    },
    {
      "cell_type": "code",
      "source": [
        "# Check the count of each unique category\n",
        "\n",
        "cat_col = list(data.select_dtypes(\"object\").columns)\n",
        "\n",
        "# Printing number of count of each unique value in each column\n",
        "for column in cat_col:\n",
        "    print(data[column].value_counts())\n",
        "    print(\"-\" * 50)"
      ],
      "metadata": {
        "id": "bNRr4Nwq9ikT"
      },
      "id": "bNRr4Nwq9ikT",
      "execution_count": null,
      "outputs": []
    },
    {
      "cell_type": "markdown",
      "id": "classified-traveler",
      "metadata": {
        "id": "classified-traveler"
      },
      "source": [
        "**Leading Questions**:\n",
        "1. Those with higher education may want to travel abroad for a well-paid job. Does education play a role in Visa certification? \n",
        "\n",
        "2. How does the visa status vary across different continents? \n",
        " \n",
        "3. Experienced professionals might look abroad for opportunities to improve their lifestyles and career development. Does work experience influence visa status? \n",
        " \n",
        "4. In the United States, employees are paid at different intervals. Which pay unit is most likely to be certified for a visa? \n",
        " \n",
        "5. The US government has established a prevailing wage to protect local talent and foreign workers. How does the visa status change with the prevailing wage?"
      ]
    },
    {
      "cell_type": "markdown",
      "source": [
        "## Univariate Analysis"
      ],
      "metadata": {
        "id": "IgW3iFD8B0SK"
      },
      "id": "IgW3iFD8B0SK"
    },
    {
      "cell_type": "code",
      "source": [
        "# function to plot a boxplot and a histogram along the same scale.\n",
        "\n",
        "\n",
        "def histogram_boxplot(data, feature, figsize=(12, 7), kde=False, bins=None):\n",
        "    \"\"\"\n",
        "    Boxplot and histogram combined\n",
        "\n",
        "    data: dataframe\n",
        "    feature: dataframe column\n",
        "    figsize: size of figure (default (12,7))\n",
        "    kde: whether to the show density curve (default False)\n",
        "    bins: number of bins for histogram (default None)\n",
        "    \"\"\"\n",
        "    f2, (ax_box2, ax_hist2) = plt.subplots(\n",
        "        nrows=2,  # Number of rows of the subplot grid= 2\n",
        "        sharex=True,  # x-axis will be shared among all subplots\n",
        "        gridspec_kw={\"height_ratios\": (0.25, 0.75)},\n",
        "        figsize=figsize,\n",
        "    )  # creating the 2 subplots\n",
        "    sns.boxplot(\n",
        "        data=data, x=feature, ax=ax_box2, showmeans=True, color=\"violet\"\n",
        "    )  # boxplot will be created and a star will indicate the mean value of the column\n",
        "    sns.histplot(\n",
        "        data=data, x=feature, kde=kde, ax=ax_hist2, bins=bins, palette=\"winter\"\n",
        "    ) if bins else sns.histplot(\n",
        "        data=data, x=feature, kde=kde, ax=ax_hist2\n",
        "    )  # For histogram\n",
        "    ax_hist2.axvline(\n",
        "        data[feature].mean(), color=\"green\", linestyle=\"--\"\n",
        "    )  # Add mean to the histogram\n",
        "    ax_hist2.axvline(\n",
        "        data[feature].median(), color=\"black\", linestyle=\"-\"\n",
        "    )  # Add median to the histogram"
      ],
      "metadata": {
        "id": "eVX7eSIXB3M7"
      },
      "id": "eVX7eSIXB3M7",
      "execution_count": null,
      "outputs": []
    },
    {
      "cell_type": "markdown",
      "source": [
        "## Observations on number of employees\n"
      ],
      "metadata": {
        "id": "E0AjSWXpCDlU"
      },
      "id": "E0AjSWXpCDlU"
    },
    {
      "cell_type": "code",
      "source": [
        "histogram_boxplot(data, \"no_of_employees\")"
      ],
      "metadata": {
        "colab": {
          "base_uri": "https://localhost:8080/",
          "height": 443
        },
        "id": "8mOMt-cBB_I2",
        "outputId": "8af0af55-f6cb-418b-92b7-038092b182a9"
      },
      "id": "8mOMt-cBB_I2",
      "execution_count": null,
      "outputs": [
        {
          "output_type": "display_data",
          "data": {
            "text/plain": [
              "<Figure size 864x504 with 2 Axes>"
            ],
            "image/png": "[encoded data removed]"
          },
          "metadata": {
            "needs_background": "light"
          }
        }
      ]
    },
    {
      "cell_type": "markdown",
      "source": [
        "* The distribution is highly skewed to the right. \n",
        "* There are many outliers in this distribution. \n"
      ],
      "metadata": {
        "id": "ch9NEkJdCjJq"
      },
      "id": "ch9NEkJdCjJq"
    },
    {
      "cell_type": "markdown",
      "source": [
        "## Observations on prevailing wage"
      ],
      "metadata": {
        "id": "nEf-Rss9DaxI"
      },
      "id": "nEf-Rss9DaxI"
    },
    {
      "cell_type": "code",
      "source": [
        "histogram_boxplot(data, \"prevailing_wage\")"
      ],
      "metadata": {
        "colab": {
          "base_uri": "https://localhost:8080/",
          "height": 443
        },
        "id": "Fg0T2y9iDn5r",
        "outputId": "d757b69b-7136-4e5d-bc8d-d957f6a4cf75"
      },
      "id": "Fg0T2y9iDn5r",
      "execution_count": null,
      "outputs": [
        {
          "output_type": "display_data",
          "data": {
            "text/plain": [
              "<Figure size 864x504 with 2 Axes>"
            ],
            "image/png": "[encoded data removed]"
          },
          "metadata": {
            "needs_background": "light"
          }
        }
      ]
    },
    {
      "cell_type": "markdown",
      "source": [
        "* The distribution is right skewed and wide tailed.\n",
        "* Most values appear to be concentrated around 75,000.\n",
        "* The highest count is closest to zero and significantly more than other values. This could signify a cohort such as recent college graduates. Further analysis is needed. "
      ],
      "metadata": {
        "id": "LylPPqxMD1ZS"
      },
      "id": "LylPPqxMD1ZS"
    },
    {
      "cell_type": "code",
      "source": [
        "# Check to see how many observations have less than 100 of prevailing wage.\n",
        "data.loc[data[\"prevailing_wage\"] < 50].shape"
      ],
      "metadata": {
        "colab": {
          "base_uri": "https://localhost:8080/"
        },
        "id": "4O5fFPDXFAzb",
        "outputId": "e9c9a447-4cea-4d9f-9649-cb8c62d18b74"
      },
      "id": "4O5fFPDXFAzb",
      "execution_count": null,
      "outputs": [
        {
          "output_type": "execute_result",
          "data": {
            "text/plain": [
              "(90, 11)"
            ]
          },
          "metadata": {},
          "execution_count": 23
        }
      ]
    },
    {
      "cell_type": "markdown",
      "source": [
        "## Observations on continent"
      ],
      "metadata": {
        "id": "hd0IkJ7cEmBV"
      },
      "id": "hd0IkJ7cEmBV"
    },
    {
      "cell_type": "code",
      "source": [
        "# function to create labeled barplots\n",
        "\n",
        "\n",
        "def labeled_barplot(data, feature, perc=False, n=None):\n",
        "    \"\"\"\n",
        "    Barplot with percentage at the top\n",
        "\n",
        "    data: dataframe\n",
        "    feature: dataframe column\n",
        "    perc: whether to display percentages instead of count (default is False)\n",
        "    n: displays the top n category levels (default is None, i.e., display all levels)\n",
        "    \"\"\"\n",
        "\n",
        "    total = len(data[feature])  # length of the column\n",
        "    count = data[feature].nunique()\n",
        "    if n is None:\n",
        "        plt.figure(figsize=(count + 1, 5))\n",
        "    else:\n",
        "        plt.figure(figsize=(n + 1, 5))\n",
        "\n",
        "    plt.xticks(rotation=90, fontsize=15)\n",
        "    ax = sns.countplot(\n",
        "        data=data,\n",
        "        x=feature,\n",
        "        palette=\"Paired\",\n",
        "        order=data[feature].value_counts().index[:n].sort_values(),\n",
        "    )\n",
        "\n",
        "    for p in ax.patches:\n",
        "        if perc == True:\n",
        "            label = \"{:.1f}%\".format(\n",
        "                100 * p.get_height() / total\n",
        "            )  # percentage of each class of the category\n",
        "        else:\n",
        "            label = p.get_height()  # count of each level of the category\n",
        "\n",
        "        x = p.get_x() + p.get_width() / 2  # width of the plot\n",
        "        y = p.get_height()  # height of the plot\n",
        "\n",
        "        ax.annotate(\n",
        "            label,\n",
        "            (x, y),\n",
        "            ha=\"center\",\n",
        "            va=\"center\",\n",
        "            size=12,\n",
        "            xytext=(0, 5),\n",
        "            textcoords=\"offset points\",\n",
        "        )  # annotate the percentage\n",
        "\n",
        "    plt.show()  # show the plot"
      ],
      "metadata": {
        "id": "Ve63bG7YElLI"
      },
      "id": "Ve63bG7YElLI",
      "execution_count": null,
      "outputs": []
    },
    {
      "cell_type": "code",
      "source": [
        "labeled_barplot(data, \"continent\", perc=True)"
      ],
      "metadata": {
        "colab": {
          "base_uri": "https://localhost:8080/",
          "height": 434
        },
        "id": "OOAaopFeXh1b",
        "outputId": "646abc43-a130-4f4a-a592-6393261a3f32"
      },
      "id": "OOAaopFeXh1b",
      "execution_count": null,
      "outputs": [
        {
          "output_type": "display_data",
          "data": {
            "text/plain": [
              "<Figure size 504x360 with 1 Axes>"
            ],
            "image/png": "[encoded data removed]"
          },
          "metadata": {
            "needs_background": "light"
          }
        }
      ]
    },
    {
      "cell_type": "markdown",
      "source": [
        "* The large majority of people are from Asia."
      ],
      "metadata": {
        "id": "HGeMEiwRXy8h"
      },
      "id": "HGeMEiwRXy8h"
    },
    {
      "cell_type": "markdown",
      "source": [
        "## Observations of education of employee"
      ],
      "metadata": {
        "id": "Ggx6GCakYHvx"
      },
      "id": "Ggx6GCakYHvx"
    },
    {
      "cell_type": "code",
      "source": [
        "labeled_barplot(data, \"education_of_employee\", perc=True)"
      ],
      "metadata": {
        "colab": {
          "base_uri": "https://localhost:8080/",
          "height": 414
        },
        "id": "1iAZh0iwYMbS",
        "outputId": "e32981c5-8d25-4b62-e284-ec859aa3454e"
      },
      "id": "1iAZh0iwYMbS",
      "execution_count": null,
      "outputs": [
        {
          "output_type": "display_data",
          "data": {
            "text/plain": [
              "<Figure size 360x360 with 1 Axes>"
            ],
            "image/png": "[encoded data removed]"
          },
          "metadata": {
            "needs_background": "light"
          }
        }
      ]
    },
    {
      "cell_type": "markdown",
      "source": [
        "* 78 percent of people have at least a bachelor's degree. This indicates that people with higher education are looking for careers where demand is high and pay is competitive. \n",
        "* Does education play a role in visa approval?"
      ],
      "metadata": {
        "id": "khEeErV9YbND"
      },
      "id": "khEeErV9YbND"
    },
    {
      "cell_type": "markdown",
      "source": [
        "## Observations on job experience"
      ],
      "metadata": {
        "id": "gOnoK0FiYv00"
      },
      "id": "gOnoK0FiYv00"
    },
    {
      "cell_type": "code",
      "source": [
        "labeled_barplot(data, \"has_job_experience\", perc=True)"
      ],
      "metadata": {
        "colab": {
          "base_uri": "https://localhost:8080/",
          "height": 336
        },
        "id": "_2uko-6EZWAY",
        "outputId": "e9e15414-b334-4743-a860-de83da439efa"
      },
      "id": "_2uko-6EZWAY",
      "execution_count": null,
      "outputs": [
        {
          "output_type": "display_data",
          "data": {
            "text/plain": [
              "<Figure size 216x360 with 1 Axes>"
            ],
            "image/png": "[encoded data removed]"
          },
          "metadata": {
            "needs_background": "light"
          }
        }
      ]
    },
    {
      "cell_type": "markdown",
      "source": [
        "* ~42 percent of applicants do not have job experience while ~58 percent does. \n",
        "* It appears that both new graduates and experienced professionals see opportunity working abroad in the U.S. \n",
        "* Qualitative feedback would help understand why each cohort is seeking employment in the U.S. "
      ],
      "metadata": {
        "id": "A7rMgfccZmi9"
      },
      "id": "A7rMgfccZmi9"
    },
    {
      "cell_type": "markdown",
      "source": [
        "## Observations on job training"
      ],
      "metadata": {
        "id": "HEnX88XiamaV"
      },
      "id": "HEnX88XiamaV"
    },
    {
      "cell_type": "code",
      "source": [
        "labeled_barplot(data, \"requires_job_training\", perc=True)"
      ],
      "metadata": {
        "colab": {
          "base_uri": "https://localhost:8080/",
          "height": 336
        },
        "id": "5h3IuLkVX6jm",
        "outputId": "b49e8755-02ff-415e-96ad-7f99ff542555"
      },
      "id": "5h3IuLkVX6jm",
      "execution_count": null,
      "outputs": [
        {
          "output_type": "display_data",
          "data": {
            "text/plain": [
              "<Figure size 216x360 with 1 Axes>"
            ],
            "image/png": "[encoded data removed]"
          },
          "metadata": {
            "needs_background": "light"
          }
        }
      ]
    },
    {
      "cell_type": "markdown",
      "source": [
        "* Most employees do not need job training. "
      ],
      "metadata": {
        "id": "NdSIJgpja9tc"
      },
      "id": "NdSIJgpja9tc"
    },
    {
      "cell_type": "markdown",
      "source": [
        "## Observations on region of employment\n"
      ],
      "metadata": {
        "id": "QU0IgD0abQfC"
      },
      "id": "QU0IgD0abQfC"
    },
    {
      "cell_type": "code",
      "source": [
        "labeled_barplot(data, \"region_of_employment\", perc=True)"
      ],
      "metadata": {
        "colab": {
          "base_uri": "https://localhost:8080/",
          "height": 399
        },
        "id": "GzXZeg2UbPir",
        "outputId": "89185546-05e4-46e6-ed66-15b4fddbb21f"
      },
      "id": "GzXZeg2UbPir",
      "execution_count": null,
      "outputs": [
        {
          "output_type": "display_data",
          "data": {
            "text/plain": [
              "<Figure size 432x360 with 1 Axes>"
            ],
            "image/png": "[encoded data removed]"
          },
          "metadata": {
            "needs_background": "light"
          }
        }
      ]
    },
    {
      "cell_type": "markdown",
      "source": [
        "* Most applicants intend on working in regions that have higher economic output. "
      ],
      "metadata": {
        "id": "3zzITQTebnyG"
      },
      "id": "3zzITQTebnyG"
    },
    {
      "cell_type": "markdown",
      "source": [
        "## Observations on unit of wage"
      ],
      "metadata": {
        "id": "5REObFpobzvQ"
      },
      "id": "5REObFpobzvQ"
    },
    {
      "cell_type": "code",
      "source": [
        "labeled_barplot(data, \"unit_of_wage\", perc=True)"
      ],
      "metadata": {
        "colab": {
          "base_uri": "https://localhost:8080/",
          "height": 372
        },
        "id": "mC5dIQ1db6Sm",
        "outputId": "024cac69-4fcf-470c-8e9a-d12de5df5828"
      },
      "id": "mC5dIQ1db6Sm",
      "execution_count": null,
      "outputs": [
        {
          "output_type": "display_data",
          "data": {
            "text/plain": [
              "<Figure size 360x360 with 1 Axes>"
            ],
            "image/png": "[encoded data removed]"
          },
          "metadata": {
            "needs_background": "light"
          }
        }
      ]
    },
    {
      "cell_type": "markdown",
      "source": [
        "* Most applicant wages are measured by year followed by hour. \n",
        "* This indicates that most applicants are salary based and work in professional rather than service roles that are paid hourly. "
      ],
      "metadata": {
        "id": "F_gnJ95CcU1l"
      },
      "id": "F_gnJ95CcU1l"
    },
    {
      "cell_type": "markdown",
      "source": [
        "## Observation on case status"
      ],
      "metadata": {
        "id": "5NyRBtsXc1Qg"
      },
      "id": "5NyRBtsXc1Qg"
    },
    {
      "cell_type": "code",
      "source": [
        "labeled_barplot(data, \"case_status\", perc=True)"
      ],
      "metadata": {
        "colab": {
          "base_uri": "https://localhost:8080/",
          "height": 389
        },
        "id": "spWH1m6vcs0w",
        "outputId": "d98f1565-5dff-4138-daf3-40d07a1fafa4"
      },
      "id": "spWH1m6vcs0w",
      "execution_count": null,
      "outputs": [
        {
          "output_type": "display_data",
          "data": {
            "text/plain": [
              "<Figure size 216x360 with 1 Axes>"
            ],
            "image/png": "[encoded data removed]"
          },
          "metadata": {
            "needs_background": "light"
          }
        }
      ]
    },
    {
      "cell_type": "markdown",
      "source": [
        "* About one-third of applicants are certified. "
      ],
      "metadata": {
        "id": "yEIjw7sMdCPu"
      },
      "id": "yEIjw7sMdCPu"
    },
    {
      "cell_type": "markdown",
      "source": [
        "## Bivariate Analysis"
      ],
      "metadata": {
        "id": "PilAmpCwd74w"
      },
      "id": "PilAmpCwd74w"
    },
    {
      "cell_type": "code",
      "source": [
        "# Heatmap to show correlation between variables\n",
        "cols_list = data.select_dtypes(include=np.number).columns.tolist()\n",
        "\n",
        "plt.figure(figsize=(10, 5))\n",
        "sns.heatmap(\n",
        "    data[cols_list].corr(), annot=True, vmin=-1, vmax=1, fmt=\".2f\", cmap=\"Spectral\"\n",
        ") \n",
        "plt.show()"
      ],
      "metadata": {
        "colab": {
          "base_uri": "https://localhost:8080/",
          "height": 325
        },
        "id": "CvDDvYhvbxWJ",
        "outputId": "31be5dcc-3b7b-4286-911b-c4d598a70fab"
      },
      "id": "CvDDvYhvbxWJ",
      "execution_count": null,
      "outputs": [
        {
          "output_type": "display_data",
          "data": {
            "text/plain": [
              "<Figure size 720x360 with 2 Axes>"
            ],
            "image/png": "[encoded data removed]"
          },
          "metadata": {
            "needs_background": "light"
          }
        }
      ]
    },
    {
      "cell_type": "markdown",
      "id": "alleged-spirituality",
      "metadata": {
        "id": "alleged-spirituality"
      },
      "source": [
        "## Data Preprocessing\n",
        "\n",
        "- Missing value treatment (if needed)\n",
        "- Feature engineering \n",
        "- Outlier detection and treatment (if needed)\n",
        "- Preparing data for modeling \n",
        "- Any other preprocessing steps (if needed)"
      ]
    },
    {
      "cell_type": "code",
      "execution_count": null,
      "id": "increasing-louisiana",
      "metadata": {
        "id": "increasing-louisiana"
      },
      "outputs": [],
      "source": [
        "### function to plot distributions wrt target\n",
        "\n",
        "\n",
        "def distribution_plot_wrt_target(data, predictor, target):\n",
        "\n",
        "    fig, axs = plt.subplots(2, 2, figsize=(12, 10))\n",
        "\n",
        "    target_uniq = data[target].unique()\n",
        "\n",
        "    axs[0, 0].set_title(\"Distribution of target for target=\" + str(target_uniq[0]))\n",
        "    sns.histplot(\n",
        "        data=data[data[target] == target_uniq[0]],\n",
        "        x=predictor,\n",
        "        kde=True,\n",
        "        ax=axs[0, 0],\n",
        "        color=\"teal\",\n",
        "        stat=\"density\",\n",
        "    )\n",
        "\n",
        "    axs[0, 1].set_title(\"Distribution of target for target=\" + str(target_uniq[1]))\n",
        "    sns.histplot(\n",
        "        data=data[data[target] == target_uniq[1]],\n",
        "        x=predictor,\n",
        "        kde=True,\n",
        "        ax=axs[0, 1],\n",
        "        color=\"orange\",\n",
        "        stat=\"density\",\n",
        "    )\n",
        "\n",
        "    axs[1, 0].set_title(\"Boxplot w.r.t target\")\n",
        "    sns.boxplot(data=data, x=target, y=predictor, ax=axs[1, 0], palette=\"gist_rainbow\")\n",
        "\n",
        "    axs[1, 1].set_title(\"Boxplot (without outliers) w.r.t target\")\n",
        "    sns.boxplot(\n",
        "        data=data,\n",
        "        x=target,\n",
        "        y=predictor,\n",
        "        ax=axs[1, 1],\n",
        "        showfliers=False,\n",
        "        palette=\"gist_rainbow\",\n",
        "    )\n",
        "\n",
        "    plt.tight_layout()\n",
        "    plt.show()"
      ]
    },
    {
      "cell_type": "code",
      "source": [
        "def stacked_barplot(data, predictor, target):\n",
        "    \"\"\"\n",
        "    Print the category counts and plot a stacked bar chart\n",
        "\n",
        "    data: dataframe\n",
        "    predictor: independent variable\n",
        "    target: target variable\n",
        "    \"\"\"\n",
        "    count = data[predictor].nunique()\n",
        "    sorter = data[target].value_counts().index[-1]\n",
        "    tab1 = pd.crosstab(data[predictor], data[target], margins=True).sort_values(\n",
        "        by=sorter, ascending=False\n",
        "    )\n",
        "    print(tab1)\n",
        "    print(\"-\" * 120)\n",
        "    tab = pd.crosstab(data[predictor], data[target], normalize=\"index\").sort_values(\n",
        "        by=sorter, ascending=False\n",
        "    )\n",
        "    tab.plot(kind=\"bar\", stacked=True, figsize=(count + 5, 5))\n",
        "    plt.legend(\n",
        "        loc=\"lower left\", frameon=False,\n",
        "    )\n",
        "    plt.legend(loc=\"upper left\", bbox_to_anchor=(1, 1))\n",
        "    plt.show()"
      ],
      "metadata": {
        "id": "h1MYyyMIfp4H"
      },
      "id": "h1MYyyMIfp4H",
      "execution_count": null,
      "outputs": []
    },
    {
      "cell_type": "code",
      "source": [
        "## Understanding education impact on visa certification"
      ],
      "metadata": {
        "id": "jQsjQN23frxj"
      },
      "id": "jQsjQN23frxj",
      "execution_count": null,
      "outputs": []
    },
    {
      "cell_type": "code",
      "source": [
        "stacked_barplot( data, \"education_of_employee\", \"case_status\")"
      ],
      "metadata": {
        "colab": {
          "base_uri": "https://localhost:8080/",
          "height": 523
        },
        "id": "SpddIPqGf1lh",
        "outputId": "b670c108-85e2-4699-c68d-2d53928e8881"
      },
      "id": "SpddIPqGf1lh",
      "execution_count": null,
      "outputs": [
        {
          "output_type": "stream",
          "name": "stdout",
          "text": [
            "case_status            Certified  Denied    All\n",
            "education_of_employee                          \n",
            "All                        17018    8462  25480\n",
            "Bachelor's                  6367    3867  10234\n",
            "High School                 1164    2256   3420\n",
            "Master's                    7575    2059   9634\n",
            "Doctorate                   1912     280   2192\n",
            "------------------------------------------------------------------------------------------------------------------------\n"
          ]
        },
        {
          "output_type": "display_data",
          "data": {
            "text/plain": [
              "<Figure size 648x360 with 1 Axes>"
            ],
            "image/png": "[encoded data removed]"
          },
          "metadata": {
            "needs_background": "light"
          }
        }
      ]
    },
    {
      "cell_type": "markdown",
      "source": [
        "* It appears that applicants with higher education have a higher probability of visa certification. "
      ],
      "metadata": {
        "id": "0Xuh0Z-YgD1F"
      },
      "id": "0Xuh0Z-YgD1F"
    },
    {
      "cell_type": "markdown",
      "source": [
        "## Understanding impact of job experience on visa certification"
      ],
      "metadata": {
        "id": "cxUJ904njUq3"
      },
      "id": "cxUJ904njUq3"
    },
    {
      "cell_type": "code",
      "source": [
        "stacked_barplot(data, \"has_job_experience\", \"case_status\")"
      ],
      "metadata": {
        "colab": {
          "base_uri": "https://localhost:8080/",
          "height": 436
        },
        "id": "JJBJ1S7-je8K",
        "outputId": "611ecdf7-b8bb-471a-e3cc-48f6c5198ee3"
      },
      "id": "JJBJ1S7-je8K",
      "execution_count": null,
      "outputs": [
        {
          "output_type": "stream",
          "name": "stdout",
          "text": [
            "case_status         Certified  Denied    All\n",
            "has_job_experience                          \n",
            "All                     17018    8462  25480\n",
            "N                        5994    4684  10678\n",
            "Y                       11024    3778  14802\n",
            "------------------------------------------------------------------------------------------------------------------------\n"
          ]
        },
        {
          "output_type": "display_data",
          "data": {
            "text/plain": [
              "<Figure size 504x360 with 1 Axes>"
            ],
            "image/png": "[encoded data removed]"
          },
          "metadata": {
            "needs_background": "light"
          }
        }
      ]
    },
    {
      "cell_type": "markdown",
      "source": [
        "* Applicants who have job experience appear to be more likely to have their visa certified. "
      ],
      "metadata": {
        "id": "psgdfDURj6tO"
      },
      "id": "psgdfDURj6tO"
    },
    {
      "cell_type": "markdown",
      "source": [
        "## Understanding visa certifications by region"
      ],
      "metadata": {
        "id": "FngzDkLCneQc"
      },
      "id": "FngzDkLCneQc"
    },
    {
      "cell_type": "code",
      "source": [
        "stacked_barplot(data, \"region_of_employment\", \"case_status\")"
      ],
      "metadata": {
        "colab": {
          "base_uri": "https://localhost:8080/",
          "height": 530
        },
        "id": "0YJT32HcnY9T",
        "outputId": "f407a11e-1735-4ead-aa16-45368145ed4d"
      },
      "id": "0YJT32HcnY9T",
      "execution_count": null,
      "outputs": [
        {
          "output_type": "stream",
          "name": "stdout",
          "text": [
            "case_status           Certified  Denied    All\n",
            "region_of_employment                          \n",
            "All                       17018    8462  25480\n",
            "Northeast                  4526    2669   7195\n",
            "West                       4100    2486   6586\n",
            "South                      4913    2104   7017\n",
            "Midwest                    3253    1054   4307\n",
            "Island                      226     149    375\n",
            "------------------------------------------------------------------------------------------------------------------------\n"
          ]
        },
        {
          "output_type": "display_data",
          "data": {
            "text/plain": [
              "<Figure size 720x360 with 1 Axes>"
            ],
            "image/png": "[encoded data removed]"
          },
          "metadata": {
            "needs_background": "light"
          }
        }
      ]
    },
    {
      "cell_type": "markdown",
      "source": [
        "* It looks like applicants for the South and Midwest are more likely to have visas certified. This could be because demand is higher in those specific locations.\n",
        "* Other factors should be considered in addition to the region an applicant is applying for. "
      ],
      "metadata": {
        "id": "bIML1pk8oGOL"
      },
      "id": "bIML1pk8oGOL"
    },
    {
      "cell_type": "markdown",
      "source": [
        "## Understanding visa certifications by continent\n"
      ],
      "metadata": {
        "id": "zPL6OatZoaVu"
      },
      "id": "zPL6OatZoaVu"
    },
    {
      "cell_type": "code",
      "source": [
        "stacked_barplot(data, \"continent\", \"case_status\")"
      ],
      "metadata": {
        "colab": {
          "base_uri": "https://localhost:8080/",
          "height": 570
        },
        "id": "s5wBHmX1oWmY",
        "outputId": "bd4c1a13-3b99-424b-babc-d673a2b7be11"
      },
      "id": "s5wBHmX1oWmY",
      "execution_count": null,
      "outputs": [
        {
          "output_type": "stream",
          "name": "stdout",
          "text": [
            "case_status    Certified  Denied    All\n",
            "continent                              \n",
            "All                17018    8462  25480\n",
            "Asia               11012    5849  16861\n",
            "North America       2037    1255   3292\n",
            "Europe              2957     775   3732\n",
            "South America        493     359    852\n",
            "Africa               397     154    551\n",
            "Oceania              122      70    192\n",
            "------------------------------------------------------------------------------------------------------------------------\n"
          ]
        },
        {
          "output_type": "display_data",
          "data": {
            "text/plain": [
              "<Figure size 792x360 with 1 Axes>"
            ],
            "image/png": "[encoded data removed]"
          },
          "metadata": {
            "needs_background": "light"
          }
        }
      ]
    },
    {
      "cell_type": "markdown",
      "source": [
        "* Europe, Africa, and Asia have slightly higher acceptance rates than Oceania, North America, and South America. \n",
        "* Europe has a relatively high acceptance rate, but the majority of applicants come from Asia. "
      ],
      "metadata": {
        "id": "3dBxwUDHpiDx"
      },
      "id": "3dBxwUDHpiDx"
    },
    {
      "cell_type": "markdown",
      "source": [
        "## Understanding education across each region\n"
      ],
      "metadata": {
        "id": "uxZQLVq_iJ_O"
      },
      "id": "uxZQLVq_iJ_O"
    },
    {
      "cell_type": "code",
      "source": [
        "plt.figure(figsize=(10, 5))\n",
        "sns.heatmap(pd.crosstab(data[\"education_of_employee\"], data[\"region_of_employment\"]),\n",
        "    annot=True,\n",
        "    fmt=\"g\",\n",
        "    cmap=\"viridis\"\n",
        ") \n",
        "\n",
        "plt.ylabel(\"Education\")\n",
        "plt.xlabel(\"Region\")\n",
        "plt.show()"
      ],
      "metadata": {
        "colab": {
          "base_uri": "https://localhost:8080/",
          "height": 334
        },
        "id": "hFa9AebAin5a",
        "outputId": "452b5107-152e-40f1-f7e9-27669d67ac91"
      },
      "id": "hFa9AebAin5a",
      "execution_count": null,
      "outputs": [
        {
          "output_type": "display_data",
          "data": {
            "text/plain": [
              "<Figure size 720x360 with 2 Axes>"
            ],
            "image/png": "[encoded data removed]"
          },
          "metadata": {
            "needs_background": "light"
          }
        }
      ]
    },
    {
      "cell_type": "markdown",
      "source": [
        "* More applicants with doctorates applied to the Northeast, South, and West. \n",
        "* The Midwest and Island saw fewer applicants with Bachelor degrees. \n",
        "* More master's and bachelor's applied to the islands compared to other education categories. "
      ],
      "metadata": {
        "id": "mAtdLYNDrhwH"
      },
      "id": "mAtdLYNDrhwH"
    },
    {
      "cell_type": "markdown",
      "source": [
        "## Understanding relationship between prevailing wage and case status\n"
      ],
      "metadata": {
        "id": "mEU7TCN-sqFN"
      },
      "id": "mEU7TCN-sqFN"
    },
    {
      "cell_type": "code",
      "source": [
        "distribution_plot_wrt_target(data, \"prevailing_wage\", \"case_status\")"
      ],
      "metadata": {
        "colab": {
          "base_uri": "https://localhost:8080/",
          "height": 729
        },
        "id": "qVZHuF0ExRo-",
        "outputId": "e027a4da-82b5-42eb-abf7-222a4b55aca8"
      },
      "id": "qVZHuF0ExRo-",
      "execution_count": null,
      "outputs": [
        {
          "output_type": "display_data",
          "data": {
            "text/plain": [
              "<Figure size 864x720 with 4 Axes>"
            ],
            "image/png": "[encoded data removed]"
          },
          "metadata": {
            "needs_background": "light"
          }
        }
      ]
    },
    {
      "cell_type": "markdown",
      "source": [
        "* It appears that the prevailing wage distributions are similar for both denied and certified"
      ],
      "metadata": {
        "id": "b7khkKwVyjJK"
      },
      "id": "b7khkKwVyjJK"
    },
    {
      "cell_type": "markdown",
      "source": [
        "## Understanding prevailing wages by applicant regions"
      ],
      "metadata": {
        "id": "FZ9BLEkSzZQL"
      },
      "id": "FZ9BLEkSzZQL"
    },
    {
      "cell_type": "code",
      "source": [
        "sns.pairplot(\n",
        "    data,\n",
        "    x_vars=[\"region_of_employment\"],\n",
        "    y_vars=[\"prevailing_wage\"],\n",
        "    height=4,\n",
        "    aspect=1\n",
        "    );"
      ],
      "metadata": {
        "colab": {
          "base_uri": "https://localhost:8080/",
          "height": 303
        },
        "id": "l9cPcFSyzfTw",
        "outputId": "21aab201-8fec-4a37-e1ac-d6c82a040f1c"
      },
      "id": "l9cPcFSyzfTw",
      "execution_count": null,
      "outputs": [
        {
          "output_type": "display_data",
          "data": {
            "text/plain": [
              "<Figure size 288x288 with 1 Axes>"
            ],
            "image/png": "[encoded data removed]"
          },
          "metadata": {
            "needs_background": "light"
          }
        }
      ]
    },
    {
      "cell_type": "markdown",
      "source": [
        "* Prevailing wages seem about even across each region."
      ],
      "metadata": {
        "id": "STMryLnT11Cs"
      },
      "id": "STMryLnT11Cs"
    },
    {
      "cell_type": "markdown",
      "source": [
        "## Understanding the impact of unit wage on certification\n",
        "\n",
        "---\n",
        "\n"
      ],
      "metadata": {
        "id": "i7AEdYvU2Yo0"
      },
      "id": "i7AEdYvU2Yo0"
    },
    {
      "cell_type": "code",
      "source": [
        "stacked_barplot(data, \"unit_of_wage\", \"case_status\")"
      ],
      "metadata": {
        "colab": {
          "base_uri": "https://localhost:8080/",
          "height": 495
        },
        "id": "uwr-_6kv2iNY",
        "outputId": "38a5711f-1d8e-4b5d-d686-bff775e5dd20"
      },
      "id": "uwr-_6kv2iNY",
      "execution_count": null,
      "outputs": [
        {
          "output_type": "stream",
          "name": "stdout",
          "text": [
            "case_status   Certified  Denied    All\n",
            "unit_of_wage                          \n",
            "All               17018    8462  25480\n",
            "Year              16047    6915  22962\n",
            "Hour                747    1410   2157\n",
            "Week                169     103    272\n",
            "Month                55      34     89\n",
            "------------------------------------------------------------------------------------------------------------------------\n"
          ]
        },
        {
          "output_type": "display_data",
          "data": {
            "text/plain": [
              "<Figure size 648x360 with 1 Axes>"
            ],
            "image/png": "[encoded data removed]"
          },
          "metadata": {
            "needs_background": "light"
          }
        }
      ]
    },
    {
      "cell_type": "markdown",
      "source": [
        "* Annual salaries have the highest rate of certification, while the hourly rate has the lowest. \n",
        "* This suggests that yearly unit of wages are more likely to receive certification considering other factors. \n",
        "\n"
      ],
      "metadata": {
        "id": "VnSYOhsA249E"
      },
      "id": "VnSYOhsA249E"
    },
    {
      "cell_type": "markdown",
      "source": [
        "## Checking for outliers"
      ],
      "metadata": {
        "id": "QY-ddQ1K3V8T"
      },
      "id": "QY-ddQ1K3V8T"
    },
    {
      "cell_type": "code",
      "source": [
        "cols_1 = data[['no_of_employees', 'prevailing_wage']].columns.tolist()\n",
        "plt.figure(figsize=(50,10))\n",
        "\n",
        "for i, variable in enumerate(cols_1):\n",
        "                     plt.subplot(1,3,i+1)\n",
        "                     sns.boxplot(data['continent'],data[variable],palette=\"PuBu\")\n",
        "                     plt.tight_layout()\n",
        "                     plt.title(variable)\n",
        "plt.show()"
      ],
      "metadata": {
        "colab": {
          "base_uri": "https://localhost:8080/",
          "height": 438
        },
        "id": "00QZXj2u3S_u",
        "outputId": "5c5fbc59-db8a-4093-8089-7ea236679f30"
      },
      "id": "00QZXj2u3S_u",
      "execution_count": null,
      "outputs": [
        {
          "output_type": "display_data",
          "data": {
            "text/plain": [
              "<Figure size 3600x720 with 2 Axes>"
            ],
            "image/png": "[encoded data removed]"
          },
          "metadata": {
            "needs_background": "light"
          }
        }
      ]
    },
    {
      "cell_type": "markdown",
      "source": [
        "* There are a significant amount of outliers for each numeric column. "
      ],
      "metadata": {
        "id": "hWRab64m7Nab"
      },
      "id": "hWRab64m7Nab"
    },
    {
      "cell_type": "markdown",
      "source": [
        "## Data preparation for modeling"
      ],
      "metadata": {
        "id": "mHjHKFODZ4xx"
      },
      "id": "mHjHKFODZ4xx"
    },
    {
      "cell_type": "code",
      "source": [
        "# Convert objects to categorical"
      ],
      "metadata": {
        "id": "WEQzwhZXXD2a"
      },
      "id": "WEQzwhZXXD2a",
      "execution_count": null,
      "outputs": []
    },
    {
      "cell_type": "code",
      "source": [
        "data[\"case_status\"] = data[\"case_status\"].apply(lambda x: 1 if x == \"Certified\" else 0)\n",
        "\n",
        "X = data.drop(\"case_status\", axis=1) ## Complete the code to drop case status from the data\n",
        "Y = data[\"case_status\"]\n",
        "\n",
        "\n",
        "X = pd.get_dummies(X,drop_first=True)  ## Complete the code to create dummies for X \n",
        "\n",
        "# Splitting data in train and test sets\n",
        "X_train, X_test, y_train, y_test =train_test_split(X, Y, test_size=0.3, random_state=1,stratify=Y)\n",
        "print(X_train.shape, X_test.shape)"
      ],
      "metadata": {
        "colab": {
          "base_uri": "https://localhost:8080/"
        },
        "id": "-TF3cksPzMJe",
        "outputId": "b98953f7-322d-4e3d-ea54-492249047df9"
      },
      "id": "-TF3cksPzMJe",
      "execution_count": null,
      "outputs": [
        {
          "output_type": "stream",
          "name": "stdout",
          "text": [
            "(17836, 21) (7644, 21)\n"
          ]
        }
      ]
    },
    {
      "cell_type": "code",
      "source": [
        "X.head(15)"
      ],
      "metadata": {
        "colab": {
          "base_uri": "https://localhost:8080/",
          "height": 601
        },
        "id": "qCLyHNgq1-18",
        "outputId": "65f22f67-9d28-4647-832a-23789f3ee1ca"
      },
      "id": "qCLyHNgq1-18",
      "execution_count": null,
      "outputs": [
        {
          "output_type": "execute_result",
          "data": {
            "text/plain": [
              "    no_of_employees  yr_of_estab  prevailing_wage  continent_Asia  \\\n",
              "0             14513         2007         592.2029               1   \n",
              "1              2412         2002       83425.6500               1   \n",
              "2             44444         2008      122996.8600               1   \n",
              "3                98         1897       83434.0300               1   \n",
              "4              1082         2005      149907.3900               0   \n",
              "5              2339         2012       78252.1400               1   \n",
              "6              4985         1994       53635.3900               1   \n",
              "7              3035         1924         418.2298               0   \n",
              "8              4810         2012       74362.1900               1   \n",
              "9              2251         1995       67514.7600               0   \n",
              "10             2465         2004       83588.5600               1   \n",
              "11             4069         2005       70813.0900               1   \n",
              "12           123876         1963       28663.0500               1   \n",
              "13             1652         2007      107196.0300               1   \n",
              "14            15756         2006      220081.7300               1   \n",
              "\n",
              "    continent_Europe  continent_North America  continent_Oceania  \\\n",
              "0                  0                        0                  0   \n",
              "1                  0                        0                  0   \n",
              "2                  0                        0                  0   \n",
              "3                  0                        0                  0   \n",
              "4                  0                        0                  0   \n",
              "5                  0                        0                  0   \n",
              "6                  0                        0                  0   \n",
              "7                  0                        1                  0   \n",
              "8                  0                        0                  0   \n",
              "9                  1                        0                  0   \n",
              "10                 0                        0                  0   \n",
              "11                 0                        0                  0   \n",
              "12                 0                        0                  0   \n",
              "13                 0                        0                  0   \n",
              "14                 0                        0                  0   \n",
              "\n",
              "    continent_South America  education_of_employee_Doctorate  \\\n",
              "0                         0                                0   \n",
              "1                         0                                0   \n",
              "2                         0                                0   \n",
              "3                         0                                0   \n",
              "4                         0                                0   \n",
              "5                         0                                0   \n",
              "6                         0                                0   \n",
              "7                         0                                0   \n",
              "8                         0                                0   \n",
              "9                         0                                1   \n",
              "10                        0                                0   \n",
              "11                        0                                0   \n",
              "12                        0                                0   \n",
              "13                        0                                0   \n",
              "14                        0                                0   \n",
              "\n",
              "    education_of_employee_High School  education_of_employee_Master's  \\\n",
              "0                                   1                               0   \n",
              "1                                   0                               1   \n",
              "2                                   0                               0   \n",
              "3                                   0                               0   \n",
              "4                                   0                               1   \n",
              "5                                   0                               1   \n",
              "6                                   0                               0   \n",
              "7                                   0                               0   \n",
              "8                                   0                               0   \n",
              "9                                   0                               0   \n",
              "10                                  0                               1   \n",
              "11                                  1                               0   \n",
              "12                                  0                               0   \n",
              "13                                  0                               0   \n",
              "14                                  0                               1   \n",
              "\n",
              "    has_job_experience_Y  requires_job_training_Y  \\\n",
              "0                      0                        0   \n",
              "1                      1                        0   \n",
              "2                      0                        1   \n",
              "3                      0                        0   \n",
              "4                      1                        0   \n",
              "5                      1                        0   \n",
              "6                      0                        0   \n",
              "7                      1                        0   \n",
              "8                      0                        0   \n",
              "9                      1                        0   \n",
              "10                     0                        0   \n",
              "11                     1                        0   \n",
              "12                     1                        0   \n",
              "13                     1                        0   \n",
              "14                     1                        1   \n",
              "\n",
              "    region_of_employment_Midwest  region_of_employment_Northeast  \\\n",
              "0                              0                               0   \n",
              "1                              0                               1   \n",
              "2                              0                               0   \n",
              "3                              0                               0   \n",
              "4                              0                               0   \n",
              "5                              0                               0   \n",
              "6                              0                               0   \n",
              "7                              0                               0   \n",
              "8                              1                               0   \n",
              "9                              0                               0   \n",
              "10                             1                               0   \n",
              "11                             0                               1   \n",
              "12                             0                               1   \n",
              "13                             1                               0   \n",
              "14                             0                               0   \n",
              "\n",
              "    region_of_employment_South  region_of_employment_West  unit_of_wage_Month  \\\n",
              "0                            0                          1                   0   \n",
              "1                            0                          0                   0   \n",
              "2                            0                          1                   0   \n",
              "3                            0                          1                   0   \n",
              "4                            1                          0                   0   \n",
              "5                            1                          0                   0   \n",
              "6                            1                          0                   0   \n",
              "7                            0                          1                   0   \n",
              "8                            0                          0                   0   \n",
              "9                            1                          0                   0   \n",
              "10                           0                          0                   0   \n",
              "11                           0                          0                   0   \n",
              "12                           0                          0                   0   \n",
              "13                           0                          0                   0   \n",
              "14                           1                          0                   0   \n",
              "\n",
              "    unit_of_wage_Week  unit_of_wage_Year  full_time_position_Y  \n",
              "0                   0                  0                     1  \n",
              "1                   0                  1                     1  \n",
              "2                   0                  1                     1  \n",
              "3                   0                  1                     1  \n",
              "4                   0                  1                     1  \n",
              "5                   0                  1                     1  \n",
              "6                   0                  1                     1  \n",
              "7                   0                  0                     1  \n",
              "8                   0                  1                     1  \n",
              "9                   0                  1                     1  \n",
              "10                  0                  1                     1  \n",
              "11                  0                  1                     1  \n",
              "12                  0                  1                     1  \n",
              "13                  0                  1                     1  \n",
              "14                  0                  1                     1  "
            ],
            "text/html": [
              "\n",
              "  <div id=\"df-0745807b-0b79-4a23-9574-45210fb30366\">\n",
              "    <div class=\"colab-df-container\">\n",
              "      <div>\n",
              "<style scoped>\n",
              "    .dataframe tbody tr th:only-of-type {\n",
              "        vertical-align: middle;\n",
              "    }\n",
              "\n",
              "    .dataframe tbody tr th {\n",
              "        vertical-align: top;\n",
              "    }\n",
              "\n",
              "    .dataframe thead th {\n",
              "        text-align: right;\n",
              "    }\n",
              "</style>\n",
              "<table border=\"1\" class=\"dataframe\">\n",
              "  <thead>\n",
              "    <tr style=\"text-align: right;\">\n",
              "      <th></th>\n",
              "      <th>no_of_employees</th>\n",
              "      <th>yr_of_estab</th>\n",
              "      <th>prevailing_wage</th>\n",
              "      <th>continent_Asia</th>\n",
              "      <th>continent_Europe</th>\n",
              "      <th>continent_North America</th>\n",
              "      <th>continent_Oceania</th>\n",
              "      <th>continent_South America</th>\n",
              "      <th>education_of_employee_Doctorate</th>\n",
              "      <th>education_of_employee_High School</th>\n",
              "      <th>education_of_employee_Master's</th>\n",
              "      <th>has_job_experience_Y</th>\n",
              "      <th>requires_job_training_Y</th>\n",
              "      <th>region_of_employment_Midwest</th>\n",
              "      <th>region_of_employment_Northeast</th>\n",
              "      <th>region_of_employment_South</th>\n",
              "      <th>region_of_employment_West</th>\n",
              "      <th>unit_of_wage_Month</th>\n",
              "      <th>unit_of_wage_Week</th>\n",
              "      <th>unit_of_wage_Year</th>\n",
              "      <th>full_time_position_Y</th>\n",
              "    </tr>\n",
              "  </thead>\n",
              "  <tbody>\n",
              "    <tr>\n",
              "      <th>0</th>\n",
              "      <td>14513</td>\n",
              "      <td>2007</td>\n",
              "      <td>592.2029</td>\n",
              "      <td>1</td>\n",
              "      <td>0</td>\n",
              "      <td>0</td>\n",
              "      <td>0</td>\n",
              "      <td>0</td>\n",
              "      <td>0</td>\n",
              "      <td>1</td>\n",
              "      <td>0</td>\n",
              "      <td>0</td>\n",
              "      <td>0</td>\n",
              "      <td>0</td>\n",
              "      <td>0</td>\n",
              "      <td>0</td>\n",
              "      <td>1</td>\n",
              "      <td>0</td>\n",
              "      <td>0</td>\n",
              "      <td>0</td>\n",
              "      <td>1</td>\n",
              "    </tr>\n",
              "    <tr>\n",
              "      <th>1</th>\n",
              "      <td>2412</td>\n",
              "      <td>2002</td>\n",
              "      <td>83425.6500</td>\n",
              "      <td>1</td>\n",
              "      <td>0</td>\n",
              "      <td>0</td>\n",
              "      <td>0</td>\n",
              "      <td>0</td>\n",
              "      <td>0</td>\n",
              "      <td>0</td>\n",
              "      <td>1</td>\n",
              "      <td>1</td>\n",
              "      <td>0</td>\n",
              "      <td>0</td>\n",
              "      <td>1</td>\n",
              "      <td>0</td>\n",
              "      <td>0</td>\n",
              "      <td>0</td>\n",
              "      <td>0</td>\n",
              "      <td>1</td>\n",
              "      <td>1</td>\n",
              "    </tr>\n",
              "    <tr>\n",
              "      <th>2</th>\n",
              "      <td>44444</td>\n",
              "      <td>2008</td>\n",
              "      <td>122996.8600</td>\n",
              "      <td>1</td>\n",
              "      <td>0</td>\n",
              "      <td>0</td>\n",
              "      <td>0</td>\n",
              "      <td>0</td>\n",
              "      <td>0</td>\n",
              "      <td>0</td>\n",
              "      <td>0</td>\n",
              "      <td>0</td>\n",
              "      <td>1</td>\n",
              "      <td>0</td>\n",
              "      <td>0</td>\n",
              "      <td>0</td>\n",
              "      <td>1</td>\n",
              "      <td>0</td>\n",
              "      <td>0</td>\n",
              "      <td>1</td>\n",
              "      <td>1</td>\n",
              "    </tr>\n",
              "    <tr>\n",
              "      <th>3</th>\n",
              "      <td>98</td>\n",
              "      <td>1897</td>\n",
              "      <td>83434.0300</td>\n",
              "      <td>1</td>\n",
              "      <td>0</td>\n",
              "      <td>0</td>\n",
              "      <td>0</td>\n",
              "      <td>0</td>\n",
              "      <td>0</td>\n",
              "      <td>0</td>\n",
              "      <td>0</td>\n",
              "      <td>0</td>\n",
              "      <td>0</td>\n",
              "      <td>0</td>\n",
              "      <td>0</td>\n",
              "      <td>0</td>\n",
              "      <td>1</td>\n",
              "      <td>0</td>\n",
              "      <td>0</td>\n",
              "      <td>1</td>\n",
              "      <td>1</td>\n",
              "    </tr>\n",
              "    <tr>\n",
              "      <th>4</th>\n",
              "      <td>1082</td>\n",
              "      <td>2005</td>\n",
              "      <td>149907.3900</td>\n",
              "      <td>0</td>\n",
              "      <td>0</td>\n",
              "      <td>0</td>\n",
              "      <td>0</td>\n",
              "      <td>0</td>\n",
              "      <td>0</td>\n",
              "      <td>0</td>\n",
              "      <td>1</td>\n",
              "      <td>1</td>\n",
              "      <td>0</td>\n",
              "      <td>0</td>\n",
              "      <td>0</td>\n",
              "      <td>1</td>\n",
              "      <td>0</td>\n",
              "      <td>0</td>\n",
              "      <td>0</td>\n",
              "      <td>1</td>\n",
              "      <td>1</td>\n",
              "    </tr>\n",
              "    <tr>\n",
              "      <th>5</th>\n",
              "      <td>2339</td>\n",
              "      <td>2012</td>\n",
              "      <td>78252.1400</td>\n",
              "      <td>1</td>\n",
              "      <td>0</td>\n",
              "      <td>0</td>\n",
              "      <td>0</td>\n",
              "      <td>0</td>\n",
              "      <td>0</td>\n",
              "      <td>0</td>\n",
              "      <td>1</td>\n",
              "      <td>1</td>\n",
              "      <td>0</td>\n",
              "      <td>0</td>\n",
              "      <td>0</td>\n",
              "      <td>1</td>\n",
              "      <td>0</td>\n",
              "      <td>0</td>\n",
              "      <td>0</td>\n",
              "      <td>1</td>\n",
              "      <td>1</td>\n",
              "    </tr>\n",
              "    <tr>\n",
              "      <th>6</th>\n",
              "      <td>4985</td>\n",
              "      <td>1994</td>\n",
              "      <td>53635.3900</td>\n",
              "      <td>1</td>\n",
              "      <td>0</td>\n",
              "      <td>0</td>\n",
              "      <td>0</td>\n",
              "      <td>0</td>\n",
              "      <td>0</td>\n",
              "      <td>0</td>\n",
              "      <td>0</td>\n",
              "      <td>0</td>\n",
              "      <td>0</td>\n",
              "      <td>0</td>\n",
              "      <td>0</td>\n",
              "      <td>1</td>\n",
              "      <td>0</td>\n",
              "      <td>0</td>\n",
              "      <td>0</td>\n",
              "      <td>1</td>\n",
              "      <td>1</td>\n",
              "    </tr>\n",
              "    <tr>\n",
              "      <th>7</th>\n",
              "      <td>3035</td>\n",
              "      <td>1924</td>\n",
              "      <td>418.2298</td>\n",
              "      <td>0</td>\n",
              "      <td>0</td>\n",
              "      <td>1</td>\n",
              "      <td>0</td>\n",
              "      <td>0</td>\n",
              "      <td>0</td>\n",
              "      <td>0</td>\n",
              "      <td>0</td>\n",
              "      <td>1</td>\n",
              "      <td>0</td>\n",
              "      <td>0</td>\n",
              "      <td>0</td>\n",
              "      <td>0</td>\n",
              "      <td>1</td>\n",
              "      <td>0</td>\n",
              "      <td>0</td>\n",
              "      <td>0</td>\n",
              "      <td>1</td>\n",
              "    </tr>\n",
              "    <tr>\n",
              "      <th>8</th>\n",
              "      <td>4810</td>\n",
              "      <td>2012</td>\n",
              "      <td>74362.1900</td>\n",
              "      <td>1</td>\n",
              "      <td>0</td>\n",
              "      <td>0</td>\n",
              "      <td>0</td>\n",
              "      <td>0</td>\n",
              "      <td>0</td>\n",
              "      <td>0</td>\n",
              "      <td>0</td>\n",
              "      <td>0</td>\n",
              "      <td>0</td>\n",
              "      <td>1</td>\n",
              "      <td>0</td>\n",
              "      <td>0</td>\n",
              "      <td>0</td>\n",
              "      <td>0</td>\n",
              "      <td>0</td>\n",
              "      <td>1</td>\n",
              "      <td>1</td>\n",
              "    </tr>\n",
              "    <tr>\n",
              "      <th>9</th>\n",
              "      <td>2251</td>\n",
              "      <td>1995</td>\n",
              "      <td>67514.7600</td>\n",
              "      <td>0</td>\n",
              "      <td>1</td>\n",
              "      <td>0</td>\n",
              "      <td>0</td>\n",
              "      <td>0</td>\n",
              "      <td>1</td>\n",
              "      <td>0</td>\n",
              "      <td>0</td>\n",
              "      <td>1</td>\n",
              "      <td>0</td>\n",
              "      <td>0</td>\n",
              "      <td>0</td>\n",
              "      <td>1</td>\n",
              "      <td>0</td>\n",
              "      <td>0</td>\n",
              "      <td>0</td>\n",
              "      <td>1</td>\n",
              "      <td>1</td>\n",
              "    </tr>\n",
              "    <tr>\n",
              "      <th>10</th>\n",
              "      <td>2465</td>\n",
              "      <td>2004</td>\n",
              "      <td>83588.5600</td>\n",
              "      <td>1</td>\n",
              "      <td>0</td>\n",
              "      <td>0</td>\n",
              "      <td>0</td>\n",
              "      <td>0</td>\n",
              "      <td>0</td>\n",
              "      <td>0</td>\n",
              "      <td>1</td>\n",
              "      <td>0</td>\n",
              "      <td>0</td>\n",
              "      <td>1</td>\n",
              "      <td>0</td>\n",
              "      <td>0</td>\n",
              "      <td>0</td>\n",
              "      <td>0</td>\n",
              "      <td>0</td>\n",
              "      <td>1</td>\n",
              "      <td>1</td>\n",
              "    </tr>\n",
              "    <tr>\n",
              "      <th>11</th>\n",
              "      <td>4069</td>\n",
              "      <td>2005</td>\n",
              "      <td>70813.0900</td>\n",
              "      <td>1</td>\n",
              "      <td>0</td>\n",
              "      <td>0</td>\n",
              "      <td>0</td>\n",
              "      <td>0</td>\n",
              "      <td>0</td>\n",
              "      <td>1</td>\n",
              "      <td>0</td>\n",
              "      <td>1</td>\n",
              "      <td>0</td>\n",
              "      <td>0</td>\n",
              "      <td>1</td>\n",
              "      <td>0</td>\n",
              "      <td>0</td>\n",
              "      <td>0</td>\n",
              "      <td>0</td>\n",
              "      <td>1</td>\n",
              "      <td>1</td>\n",
              "    </tr>\n",
              "    <tr>\n",
              "      <th>12</th>\n",
              "      <td>123876</td>\n",
              "      <td>1963</td>\n",
              "      <td>28663.0500</td>\n",
              "      <td>1</td>\n",
              "      <td>0</td>\n",
              "      <td>0</td>\n",
              "      <td>0</td>\n",
              "      <td>0</td>\n",
              "      <td>0</td>\n",
              "      <td>0</td>\n",
              "      <td>0</td>\n",
              "      <td>1</td>\n",
              "      <td>0</td>\n",
              "      <td>0</td>\n",
              "      <td>1</td>\n",
              "      <td>0</td>\n",
              "      <td>0</td>\n",
              "      <td>0</td>\n",
              "      <td>0</td>\n",
              "      <td>1</td>\n",
              "      <td>1</td>\n",
              "    </tr>\n",
              "    <tr>\n",
              "      <th>13</th>\n",
              "      <td>1652</td>\n",
              "      <td>2007</td>\n",
              "      <td>107196.0300</td>\n",
              "      <td>1</td>\n",
              "      <td>0</td>\n",
              "      <td>0</td>\n",
              "      <td>0</td>\n",
              "      <td>0</td>\n",
              "      <td>0</td>\n",
              "      <td>0</td>\n",
              "      <td>0</td>\n",
              "      <td>1</td>\n",
              "      <td>0</td>\n",
              "      <td>1</td>\n",
              "      <td>0</td>\n",
              "      <td>0</td>\n",
              "      <td>0</td>\n",
              "      <td>0</td>\n",
              "      <td>0</td>\n",
              "      <td>1</td>\n",
              "      <td>1</td>\n",
              "    </tr>\n",
              "    <tr>\n",
              "      <th>14</th>\n",
              "      <td>15756</td>\n",
              "      <td>2006</td>\n",
              "      <td>220081.7300</td>\n",
              "      <td>1</td>\n",
              "      <td>0</td>\n",
              "      <td>0</td>\n",
              "      <td>0</td>\n",
              "      <td>0</td>\n",
              "      <td>0</td>\n",
              "      <td>0</td>\n",
              "      <td>1</td>\n",
              "      <td>1</td>\n",
              "      <td>1</td>\n",
              "      <td>0</td>\n",
              "      <td>0</td>\n",
              "      <td>1</td>\n",
              "      <td>0</td>\n",
              "      <td>0</td>\n",
              "      <td>0</td>\n",
              "      <td>1</td>\n",
              "      <td>1</td>\n",
              "    </tr>\n",
              "  </tbody>\n",
              "</table>\n",
              "</div>\n",
              "      <button class=\"colab-df-convert\" onclick=\"convertToInteractive('df-0745807b-0b79-4a23-9574-45210fb30366')\"\n",
              "              title=\"Convert this dataframe to an interactive table.\"\n",
              "              style=\"display:none;\">\n",
              "        \n",
              "  <svg xmlns=\"http://www.w3.org/2000/svg\" height=\"24px\"viewBox=\"0 0 24 24\"\n",
              "       width=\"24px\">\n",
              "    <path d=\"M0 0h24v24H0V0z\" fill=\"none\"/>\n",
              "    <path d=\"M18.56 5.44l.94 2.06.94-2.06 2.06-.94-2.06-.94-.94-2.06-.94 2.06-2.06.94zm-11 1L8.5 8.5l.94-2.06 2.06-.94-2.06-.94L8.5 2.5l-.94 2.06-2.06.94zm10 10l.94 2.06.94-2.06 2.06-.94-2.06-.94-.94-2.06-.94 2.06-2.06.94z\"/><path d=\"M17.41 7.96l-1.37-1.37c-.4-.4-.92-.59-1.43-.59-.52 0-1.04.2-1.43.59L10.3 9.45l-7.72 7.72c-.78.78-.78 2.05 0 2.83L4 21.41c.39.39.9.59 1.41.59.51 0 1.02-.2 1.41-.59l7.78-7.78 2.81-2.81c.8-.78.8-2.07 0-2.86zM5.41 20L4 18.59l7.72-7.72 1.47 1.35L5.41 20z\"/>\n",
              "  </svg>\n",
              "      </button>\n",
              "      \n",
              "  <style>\n",
              "    .colab-df-container {\n",
              "      display:flex;\n",
              "      flex-wrap:wrap;\n",
              "      gap: 12px;\n",
              "    }\n",
              "\n",
              "    .colab-df-convert {\n",
              "      background-color: #E8F0FE;\n",
              "      border: none;\n",
              "      border-radius: 50%;\n",
              "      cursor: pointer;\n",
              "      display: none;\n",
              "      fill: #1967D2;\n",
              "      height: 32px;\n",
              "      padding: 0 0 0 0;\n",
              "      width: 32px;\n",
              "    }\n",
              "\n",
              "    .colab-df-convert:hover {\n",
              "      background-color: #E2EBFA;\n",
              "      box-shadow: 0px 1px 2px rgba(60, 64, 67, 0.3), 0px 1px 3px 1px rgba(60, 64, 67, 0.15);\n",
              "      fill: #174EA6;\n",
              "    }\n",
              "\n",
              "    [theme=dark] .colab-df-convert {\n",
              "      background-color: #3B4455;\n",
              "      fill: #D2E3FC;\n",
              "    }\n",
              "\n",
              "    [theme=dark] .colab-df-convert:hover {\n",
              "      background-color: #434B5C;\n",
              "      box-shadow: 0px 1px 3px 1px rgba(0, 0, 0, 0.15);\n",
              "      filter: drop-shadow(0px 1px 2px rgba(0, 0, 0, 0.3));\n",
              "      fill: #FFFFFF;\n",
              "    }\n",
              "  </style>\n",
              "\n",
              "      <script>\n",
              "        const buttonEl =\n",
              "          document.querySelector('#df-0745807b-0b79-4a23-9574-45210fb30366 button.colab-df-convert');\n",
              "        buttonEl.style.display =\n",
              "          google.colab.kernel.accessAllowed ? 'block' : 'none';\n",
              "\n",
              "        async function convertToInteractive(key) {\n",
              "          const element = document.querySelector('#df-0745807b-0b79-4a23-9574-45210fb30366');\n",
              "          const dataTable =\n",
              "            await google.colab.kernel.invokeFunction('convertToInteractive',\n",
              "                                                     [key], {});\n",
              "          if (!dataTable) return;\n",
              "\n",
              "          const docLinkHtml = 'Like what you see? Visit the ' +\n",
              "            '<a target=\"_blank\" href=https://colab.research.google.com/notebooks/data_table.ipynb>data table notebook</a>'\n",
              "            + ' to learn more about interactive tables.';\n",
              "          element.innerHTML = '';\n",
              "          dataTable['output_type'] = 'display_data';\n",
              "          await google.colab.output.renderOutput(dataTable, element);\n",
              "          const docLink = document.createElement('div');\n",
              "          docLink.innerHTML = docLinkHtml;\n",
              "          element.appendChild(docLink);\n",
              "        }\n",
              "      </script>\n",
              "    </div>\n",
              "  </div>\n",
              "  "
            ]
          },
          "metadata": {},
          "execution_count": 47
        }
      ]
    },
    {
      "cell_type": "code",
      "source": [
        "print(\"Shape of Training set : \", X_train.shape)\n",
        "print(\"Shape of test set : \", X_test.shape)\n",
        "print(\"Percentage of classes in training set:\")\n",
        "print(y_train.value_counts(normalize=True))\n",
        "print(\"Percentage of classes in test set:\")\n",
        "print(y_test.value_counts(normalize=True))"
      ],
      "metadata": {
        "colab": {
          "base_uri": "https://localhost:8080/"
        },
        "id": "nZNY5iEV0LTo",
        "outputId": "4dd966b2-6c75-4ce2-bc6f-7d7c6772cea5"
      },
      "id": "nZNY5iEV0LTo",
      "execution_count": null,
      "outputs": [
        {
          "output_type": "stream",
          "name": "stdout",
          "text": [
            "Shape of Training set :  (17836, 21)\n",
            "Shape of test set :  (7644, 21)\n",
            "Percentage of classes in training set:\n",
            "1    0.667919\n",
            "0    0.332081\n",
            "Name: case_status, dtype: float64\n",
            "Percentage of classes in test set:\n",
            "1    0.667844\n",
            "0    0.332156\n",
            "Name: case_status, dtype: float64\n"
          ]
        }
      ]
    },
    {
      "cell_type": "code",
      "source": [
        "Y.value_counts(1)"
      ],
      "metadata": {
        "colab": {
          "base_uri": "https://localhost:8080/"
        },
        "id": "QrKEmEmSl22G",
        "outputId": "5883d16c-e088-4c3e-e945-4de7591f40fa"
      },
      "id": "QrKEmEmSl22G",
      "execution_count": null,
      "outputs": [
        {
          "output_type": "execute_result",
          "data": {
            "text/plain": [
              "1    0.667896\n",
              "0    0.332104\n",
              "Name: case_status, dtype: float64"
            ]
          },
          "metadata": {},
          "execution_count": 49
        }
      ]
    },
    {
      "cell_type": "code",
      "source": [
        "y_test.value_counts(1)"
      ],
      "metadata": {
        "colab": {
          "base_uri": "https://localhost:8080/"
        },
        "id": "2gzlIUZBl6QX",
        "outputId": "86170e65-2160-4494-b70f-93771e65d26e"
      },
      "id": "2gzlIUZBl6QX",
      "execution_count": null,
      "outputs": [
        {
          "output_type": "execute_result",
          "data": {
            "text/plain": [
              "1    0.667844\n",
              "0    0.332156\n",
              "Name: case_status, dtype: float64"
            ]
          },
          "metadata": {},
          "execution_count": 74
        }
      ]
    },
    {
      "cell_type": "markdown",
      "source": [
        "## Model Evaluation\n",
        "\n",
        "### The model can misclassify the following ways:\n",
        "* Predicting an employee's visa will certified and does not.\n",
        "* Predicting that an employee's visa will not be certified but does. \n",
        "\n",
        "### Which peformance metric is important?\n",
        "* Both are important because they have implications for the economy. \n",
        "* If we predict an employee will be certified and does not, the market loses out on foreign talent. \n",
        "* If we predict an employee won't be approved but does, then it could have additional costs for the market or economy. \n",
        "\n"
      ],
      "metadata": {
        "id": "lR7fEPN6ajtd"
      },
      "id": "lR7fEPN6ajtd"
    },
    {
      "cell_type": "code",
      "source": [
        "# defining a function to compute different metrics to check performance of a classification model built using sklearn\n",
        "def model_performance_classification_sklearn(model, predictors, target):\n",
        "    \"\"\"\n",
        "    Function to compute different metrics to check classification model performance\n",
        "\n",
        "    model: classifier\n",
        "    predictors: independent variables\n",
        "    target: dependent variable\n",
        "    \"\"\"\n",
        "\n",
        "    # predicting using the independent variables\n",
        "    pred = model.predict(predictors)\n",
        "\n",
        "    acc = accuracy_score(target, pred)  # to compute Accuracy\n",
        "    recall = recall_score(target, pred)  # to compute Recall\n",
        "    precision = precision_score(target, pred)  # to compute Precision\n",
        "    f1 = f1_score(target, pred)  # to compute F1-score\n",
        "\n",
        "    # creating a dataframe of metrics\n",
        "    df_perf = pd.DataFrame(\n",
        "        {\n",
        "            \"Accuracy\": acc,\n",
        "            \"Recall\": recall,\n",
        "            \"Precision\": precision,\n",
        "            \"F1\": f1,\n",
        "        },\n",
        "        index=[0],\n",
        "    )\n",
        "\n",
        "    return df_perf"
      ],
      "metadata": {
        "id": "98QHJl9Vbv61"
      },
      "id": "98QHJl9Vbv61",
      "execution_count": null,
      "outputs": []
    },
    {
      "cell_type": "code",
      "source": [
        "def confusion_matrix_sklearn(model, predictors, target):\n",
        "    \"\"\"\n",
        "    To plot the confusion_matrix with percentages\n",
        "\n",
        "    model: classifier\n",
        "    predictors: independent variables\n",
        "    target: dependent variable\n",
        "    \"\"\"\n",
        "    y_pred = model.predict(predictors)\n",
        "    cm = confusion_matrix(target, y_pred)\n",
        "    labels = np.asarray(\n",
        "        [\n",
        "            [\"{0:0.0f}\".format(item) + \"\\n{0:.2%}\".format(item / cm.flatten().sum())]\n",
        "            for item in cm.flatten()\n",
        "        ]\n",
        "    ).reshape(2, 2)\n",
        "\n",
        "    plt.figure(figsize=(6, 4))\n",
        "    sns.heatmap(cm, annot=labels, fmt=\"\")\n",
        "    plt.ylabel(\"True label\")\n",
        "    plt.xlabel(\"Predicted label\")"
      ],
      "metadata": {
        "id": "JHP8OL1Vb1Mv"
      },
      "id": "JHP8OL1Vb1Mv",
      "execution_count": null,
      "outputs": []
    },
    {
      "cell_type": "markdown",
      "source": [
        "## Decision Tree Model"
      ],
      "metadata": {
        "id": "eHE8hcX9Y1fk"
      },
      "id": "eHE8hcX9Y1fk"
    },
    {
      "cell_type": "code",
      "source": [
        "dtree = DecisionTreeClassifier(criterion='gini',class_weight={0:0.33,1:0.66},random_state=1)"
      ],
      "metadata": {
        "id": "za7ViS3wZPtY"
      },
      "id": "za7ViS3wZPtY",
      "execution_count": null,
      "outputs": []
    },
    {
      "cell_type": "code",
      "source": [
        "dtree.fit(X_train, y_train)"
      ],
      "metadata": {
        "colab": {
          "base_uri": "https://localhost:8080/"
        },
        "id": "eJgSIFqcZThl",
        "outputId": "e003c3ee-164c-4a6c-e7bd-e25c4c275221"
      },
      "id": "eJgSIFqcZThl",
      "execution_count": null,
      "outputs": [
        {
          "output_type": "execute_result",
          "data": {
            "text/plain": [
              "DecisionTreeClassifier(class_weight={0: 0.33, 1: 0.66}, random_state=1)"
            ]
          },
          "metadata": {},
          "execution_count": 76
        }
      ]
    },
    {
      "cell_type": "code",
      "source": [
        "confusion_matrix_sklearn(dtree, X_test, y_test)"
      ],
      "metadata": {
        "colab": {
          "base_uri": "https://localhost:8080/",
          "height": 279
        },
        "id": "YT6qBk-jc0vM",
        "outputId": "6811a86b-d6df-45ca-db8c-511f5eaf52a7"
      },
      "id": "YT6qBk-jc0vM",
      "execution_count": null,
      "outputs": [
        {
          "output_type": "display_data",
          "data": {
            "text/plain": [
              "<Figure size 432x288 with 2 Axes>"
            ],
            "image/png": "[encoded data removed]"
          },
          "metadata": {
            "needs_background": "light"
          }
        }
      ]
    },
    {
      "cell_type": "markdown",
      "source": [
        "**Confusion Matrix**\n",
        "\n",
        "* Applicant received visa and the model predicted it would be certified :  True Positive (observed=1,predicted=1)\n",
        "\n",
        "* Applicant did not receive visa and the model predicted it would be certified : False Positive (observed=0,predicted=1)\n",
        "\n",
        "* Applicant did not receive visa and the model predicted it would not be certified : True Negative (observed=0,predicted=0)\n",
        "\n",
        "* Applicant received a visa and the model predicted that it would not be certified : False Negative (observed=1,predicted=0)"
      ],
      "metadata": {
        "id": "4GuAMyu-dDlB"
      },
      "id": "4GuAMyu-dDlB"
    },
    {
      "cell_type": "code",
      "source": [
        "dtree_model_train_perf=model_performance_classification_sklearn(dtree, X_train, y_train)\n",
        "print(\"Training performance \\n\",dtree_model_train_perf)"
      ],
      "metadata": {
        "colab": {
          "base_uri": "https://localhost:8080/"
        },
        "id": "-l4EoUqnc1uI",
        "outputId": "b8fb9c1a-3577-4311-c51a-dc7df2737d19"
      },
      "id": "-l4EoUqnc1uI",
      "execution_count": null,
      "outputs": [
        {
          "output_type": "stream",
          "name": "stdout",
          "text": [
            "Training performance \n",
            "    Accuracy  Recall  Precision   F1\n",
            "0       1.0     1.0        1.0  1.0\n"
          ]
        }
      ]
    },
    {
      "cell_type": "code",
      "source": [
        "dtree_model_test_perf=model_performance_classification_sklearn(dtree, X_test, y_test)\n",
        "print(\"Testing performance \\n\",dtree_model_test_perf)"
      ],
      "metadata": {
        "colab": {
          "base_uri": "https://localhost:8080/"
        },
        "id": "mbMt-SXlfO7i",
        "outputId": "5277de74-34d8-46e6-9e8c-1eda9181c2c8"
      },
      "id": "mbMt-SXlfO7i",
      "execution_count": null,
      "outputs": [
        {
          "output_type": "stream",
          "name": "stdout",
          "text": [
            "Testing performance \n",
            "    Accuracy    Recall  Precision        F1\n",
            "0  0.645735  0.726738   0.738602  0.732622\n"
          ]
        }
      ]
    },
    {
      "cell_type": "markdown",
      "source": [
        "* Model works well with training data. \n",
        "* Model is unable to generalize well to the test data."
      ],
      "metadata": {
        "id": "n7Ic3v03fLVG"
      },
      "id": "n7Ic3v03fLVG"
    },
    {
      "cell_type": "markdown",
      "source": [
        "## Bagging Classifier"
      ],
      "metadata": {
        "id": "c3NSg2F1fnsu"
      },
      "id": "c3NSg2F1fnsu"
    },
    {
      "cell_type": "code",
      "source": [
        "bagging = BaggingClassifier(random_state=1)\n",
        "bagging.fit(X_train,y_train)"
      ],
      "metadata": {
        "colab": {
          "base_uri": "https://localhost:8080/"
        },
        "id": "1LRjzXO5fklo",
        "outputId": "bddd056b-a21a-4d39-bdca-8fa38bf94ce2"
      },
      "id": "1LRjzXO5fklo",
      "execution_count": null,
      "outputs": [
        {
          "output_type": "execute_result",
          "data": {
            "text/plain": [
              "BaggingClassifier(random_state=1)"
            ]
          },
          "metadata": {},
          "execution_count": 80
        }
      ]
    },
    {
      "cell_type": "code",
      "source": [
        "confusion_matrix_sklearn(bagging, X_test, y_test)"
      ],
      "metadata": {
        "colab": {
          "base_uri": "https://localhost:8080/",
          "height": 279
        },
        "id": "sbAjIae7f4KK",
        "outputId": "ebcabef6-2d3f-4c9c-96f9-fadcffc72421"
      },
      "id": "sbAjIae7f4KK",
      "execution_count": null,
      "outputs": [
        {
          "output_type": "display_data",
          "data": {
            "text/plain": [
              "<Figure size 432x288 with 2 Axes>"
            ],
            "image/png": "[encoded data removed]"
          },
          "metadata": {
            "needs_background": "light"
          }
        }
      ]
    },
    {
      "cell_type": "code",
      "source": [
        "bagging_model_train_perf=model_performance_classification_sklearn(bagging, X_train, y_train)\n",
        "print(\"Training performance \\n\",bagging_model_train_perf)"
      ],
      "metadata": {
        "colab": {
          "base_uri": "https://localhost:8080/"
        },
        "id": "y-ebUGUef7ra",
        "outputId": "223b730b-6b57-44f3-bf89-81108748a25b"
      },
      "id": "y-ebUGUef7ra",
      "execution_count": null,
      "outputs": [
        {
          "output_type": "stream",
          "name": "stdout",
          "text": [
            "Training performance \n",
            "    Accuracy    Recall  Precision        F1\n",
            "0  0.985198  0.985982    0.99181  0.988887\n"
          ]
        }
      ]
    },
    {
      "cell_type": "code",
      "source": [
        "bagging_model_test_perf=model_performance_classification_sklearn(bagging, X_test, y_test)\n",
        "print(\"Testing performance \\n\",bagging_model_test_perf)"
      ],
      "metadata": {
        "colab": {
          "base_uri": "https://localhost:8080/"
        },
        "id": "KskmxzsegB_F",
        "outputId": "49112c48-bf84-4627-dd89-154a294ed640"
      },
      "id": "KskmxzsegB_F",
      "execution_count": null,
      "outputs": [
        {
          "output_type": "stream",
          "name": "stdout",
          "text": [
            "Testing performance \n",
            "    Accuracy    Recall  Precision        F1\n",
            "0  0.691523  0.764153   0.771711  0.767913\n"
          ]
        }
      ]
    },
    {
      "cell_type": "markdown",
      "source": [
        "* Bagging classifier is overfitting on the training set and is not performing well on the test set on either recall or precision."
      ],
      "metadata": {
        "id": "cZVTdZ1NgIY8"
      },
      "id": "cZVTdZ1NgIY8"
    },
    {
      "cell_type": "markdown",
      "source": [
        "### Bagging Classifier with Weighted Decision Tree"
      ],
      "metadata": {
        "id": "W34Ta7DOhlkw"
      },
      "id": "W34Ta7DOhlkw"
    },
    {
      "cell_type": "code",
      "source": [
        "bagging_wt = BaggingClassifier(base_estimator=DecisionTreeClassifier(criterion='gini',class_weight={0:0.33,1:0.66},random_state=1),random_state=1)\n",
        "bagging_wt.fit(X_train,y_train)"
      ],
      "metadata": {
        "colab": {
          "base_uri": "https://localhost:8080/"
        },
        "id": "QcOICKZ2gUA8",
        "outputId": "c551c531-d529-40d1-afa0-faa11ecb58d7"
      },
      "id": "QcOICKZ2gUA8",
      "execution_count": null,
      "outputs": [
        {
          "output_type": "execute_result",
          "data": {
            "text/plain": [
              "BaggingClassifier(base_estimator=DecisionTreeClassifier(class_weight={0: 0.33,\n",
              "                                                                      1: 0.66},\n",
              "                                                        random_state=1),\n",
              "                  random_state=1)"
            ]
          },
          "metadata": {},
          "execution_count": 84
        }
      ]
    },
    {
      "cell_type": "code",
      "source": [
        "confusion_matrix_sklearn(bagging_wt,X_test,y_test)"
      ],
      "metadata": {
        "colab": {
          "base_uri": "https://localhost:8080/",
          "height": 279
        },
        "id": "7IF8VXCxhvTJ",
        "outputId": "953f399f-d8fe-4359-a703-e41053676c6a"
      },
      "id": "7IF8VXCxhvTJ",
      "execution_count": null,
      "outputs": [
        {
          "output_type": "display_data",
          "data": {
            "text/plain": [
              "<Figure size 432x288 with 2 Axes>"
            ],
            "image/png": "[encoded data removed]"
          },
          "metadata": {
            "needs_background": "light"
          }
        }
      ]
    },
    {
      "cell_type": "code",
      "source": [
        "bagging_wt_model_train_perf=model_performance_classification_sklearn(bagging_wt,X_train,y_train)\n",
        "print(\"Training performance \\n\",bagging_wt_model_train_perf)"
      ],
      "metadata": {
        "colab": {
          "base_uri": "https://localhost:8080/"
        },
        "id": "Wv3Iarc-hzVD",
        "outputId": "bac91551-4d09-4f6a-e795-e336216b5d5b"
      },
      "id": "Wv3Iarc-hzVD",
      "execution_count": null,
      "outputs": [
        {
          "output_type": "stream",
          "name": "stdout",
          "text": [
            "Training performance \n",
            "    Accuracy    Recall  Precision        F1\n",
            "0  0.983629  0.983547   0.991873  0.987693\n"
          ]
        }
      ]
    },
    {
      "cell_type": "code",
      "source": [
        "bagging_wt_model_test_perf=model_performance_classification_sklearn(bagging_wt, X_test, y_test)\n",
        "print(\"Testing performance \\n\",bagging_wt_model_test_perf)"
      ],
      "metadata": {
        "colab": {
          "base_uri": "https://localhost:8080/"
        },
        "id": "68RoE4W5h5PW",
        "outputId": "6cca7ce7-ba33-42b1-d55a-9b0d365d76fc"
      },
      "id": "68RoE4W5h5PW",
      "execution_count": null,
      "outputs": [
        {
          "output_type": "stream",
          "name": "stdout",
          "text": [
            "Testing performance \n",
            "    Accuracy    Recall  Precision        F1\n",
            "0  0.688252  0.753967   0.773513  0.763615\n"
          ]
        }
      ]
    },
    {
      "cell_type": "markdown",
      "source": [
        "* The model performs well on the training data but is not generalized well to the test data regarding precision and recall. "
      ],
      "metadata": {
        "id": "Bu4nJivOiTsV"
      },
      "id": "Bu4nJivOiTsV"
    },
    {
      "cell_type": "markdown",
      "source": [
        "## Random Forest"
      ],
      "metadata": {
        "id": "G976jgBqijHp"
      },
      "id": "G976jgBqijHp"
    },
    {
      "cell_type": "code",
      "source": [
        "rf = RandomForestClassifier(random_state=1)\n",
        "rf.fit(X_train,y_train)"
      ],
      "metadata": {
        "colab": {
          "base_uri": "https://localhost:8080/"
        },
        "id": "2-QUVYyOh-gn",
        "outputId": "8a77c94a-2947-4ed0-b923-be6a6983e20a"
      },
      "id": "2-QUVYyOh-gn",
      "execution_count": null,
      "outputs": [
        {
          "output_type": "execute_result",
          "data": {
            "text/plain": [
              "RandomForestClassifier(random_state=1)"
            ]
          },
          "metadata": {},
          "execution_count": 88
        }
      ]
    },
    {
      "cell_type": "code",
      "source": [
        "confusion_matrix_sklearn(rf,X_test,y_test)"
      ],
      "metadata": {
        "colab": {
          "base_uri": "https://localhost:8080/",
          "height": 279
        },
        "id": "B-gHoQZZihUR",
        "outputId": "9675c982-238a-4921-8b9b-0308d2a664c5"
      },
      "id": "B-gHoQZZihUR",
      "execution_count": null,
      "outputs": [
        {
          "output_type": "display_data",
          "data": {
            "text/plain": [
              "<Figure size 432x288 with 2 Axes>"
            ],
            "image/png": "[encoded data removed]"
          },
          "metadata": {
            "needs_background": "light"
          }
        }
      ]
    },
    {
      "cell_type": "code",
      "source": [
        "rf_model_train_perf=model_performance_classification_sklearn(rf,X_train,y_train)\n",
        "print(\"Training performance \\n\",rf_model_train_perf)"
      ],
      "metadata": {
        "colab": {
          "base_uri": "https://localhost:8080/"
        },
        "id": "El0PR8qLhjly",
        "outputId": "5ac8022f-1397-4c44-9d10-9b6287a3965a"
      },
      "id": "El0PR8qLhjly",
      "execution_count": null,
      "outputs": [
        {
          "output_type": "stream",
          "name": "stdout",
          "text": [
            "Training performance \n",
            "    Accuracy    Recall  Precision        F1\n",
            "0  0.999944  0.999916        1.0  0.999958\n"
          ]
        }
      ]
    },
    {
      "cell_type": "code",
      "source": [
        "rf_model_test_perf=model_performance_classification_sklearn(rf,X_test,y_test)\n",
        "print(\"Testing performance \\n\",rf_model_test_perf)"
      ],
      "metadata": {
        "colab": {
          "base_uri": "https://localhost:8080/"
        },
        "id": "74XbY_cOi2oO",
        "outputId": "0c65ff43-0911-40eb-f080-46ae5ffe54d8"
      },
      "id": "74XbY_cOi2oO",
      "execution_count": null,
      "outputs": [
        {
          "output_type": "stream",
          "name": "stdout",
          "text": [
            "Testing performance \n",
            "    Accuracy    Recall  Precision        F1\n",
            "0  0.720827  0.832125   0.768869  0.799247\n"
          ]
        }
      ]
    },
    {
      "cell_type": "markdown",
      "source": [
        "* The RF model performs well with the training data regarding both precision and recall. \n",
        "* On the test data, recall performs slightly better than precision. "
      ],
      "metadata": {
        "id": "aHjfxBGFi-Yz"
      },
      "id": "aHjfxBGFi-Yz"
    },
    {
      "cell_type": "markdown",
      "source": [
        "### Random forest with class weights"
      ],
      "metadata": {
        "id": "_4f4Vfl_jPs7"
      },
      "id": "_4f4Vfl_jPs7"
    },
    {
      "cell_type": "code",
      "source": [
        "rf_wt = RandomForestClassifier(class_weight={0:0.33,1:0.66}, random_state=1)\n",
        "rf_wt.fit(X_train,y_train)"
      ],
      "metadata": {
        "colab": {
          "base_uri": "https://localhost:8080/"
        },
        "id": "O17486H2jThH",
        "outputId": "07b0e673-970d-46ff-9f04-dcb9c18088db"
      },
      "id": "O17486H2jThH",
      "execution_count": null,
      "outputs": [
        {
          "output_type": "execute_result",
          "data": {
            "text/plain": [
              "RandomForestClassifier(class_weight={0: 0.33, 1: 0.66}, random_state=1)"
            ]
          },
          "metadata": {},
          "execution_count": 92
        }
      ]
    },
    {
      "cell_type": "code",
      "source": [
        "confusion_matrix_sklearn(rf_wt, X_test,y_test)"
      ],
      "metadata": {
        "colab": {
          "base_uri": "https://localhost:8080/",
          "height": 279
        },
        "id": "v6X3XcFMjoXi",
        "outputId": "5b5ee8f1-64fd-4c3d-cd9c-85b04638f20c"
      },
      "id": "v6X3XcFMjoXi",
      "execution_count": null,
      "outputs": [
        {
          "output_type": "display_data",
          "data": {
            "text/plain": [
              "<Figure size 432x288 with 2 Axes>"
            ],
            "image/png": "[encoded data removed]"
          },
          "metadata": {
            "needs_background": "light"
          }
        }
      ]
    },
    {
      "cell_type": "code",
      "source": [
        "rf_wt_model_train_perf=model_performance_classification_sklearn(rf_wt, X_train,y_train)\n",
        "print(\"Training performance \\n\",rf_wt_model_train_perf)"
      ],
      "metadata": {
        "colab": {
          "base_uri": "https://localhost:8080/"
        },
        "id": "PsqkYllrjZcM",
        "outputId": "7f53bd50-ba38-4d39-b0bc-177aebc3ee02"
      },
      "id": "PsqkYllrjZcM",
      "execution_count": null,
      "outputs": [
        {
          "output_type": "stream",
          "name": "stdout",
          "text": [
            "Training performance \n",
            "    Accuracy  Recall  Precision   F1\n",
            "0       1.0     1.0        1.0  1.0\n"
          ]
        }
      ]
    },
    {
      "cell_type": "code",
      "source": [
        "rf_wt_model_test_perf=model_performance_classification_sklearn(rf_wt, X_test,y_test)\n",
        "print(\"Testing performance \\n\",rf_wt_model_test_perf)"
      ],
      "metadata": {
        "colab": {
          "base_uri": "https://localhost:8080/"
        },
        "id": "slWQ-0JNjepj",
        "outputId": "9addc637-00d0-4e68-ddad-de4d0b812276"
      },
      "id": "slWQ-0JNjepj",
      "execution_count": null,
      "outputs": [
        {
          "output_type": "stream",
          "name": "stdout",
          "text": [
            "Testing performance \n",
            "    Accuracy    Recall  Precision        F1\n",
            "0  0.721612  0.825857   0.772869  0.798485\n"
          ]
        }
      ]
    },
    {
      "cell_type": "markdown",
      "source": [
        "* There is only a slight increase in precision. \n",
        "* Recall actually decreases with class weights."
      ],
      "metadata": {
        "id": "yzeY1Ljjjucq"
      },
      "id": "yzeY1Ljjjucq"
    },
    {
      "cell_type": "markdown",
      "source": [
        "## Model Tuning\n",
        "\n",
        "Grid search will be used to compute optimal values of hyperparameters. "
      ],
      "metadata": {
        "id": "_0Ue8Qk8j8_Z"
      },
      "id": "_0Ue8Qk8j8_Z"
    },
    {
      "cell_type": "markdown",
      "source": [
        "### Decision Tree Tuning"
      ],
      "metadata": {
        "id": "rjje83CklIFD"
      },
      "id": "rjje83CklIFD"
    },
    {
      "cell_type": "code",
      "source": [
        "# Choose the type of classifier. \n",
        "dtree_estimator = DecisionTreeClassifier(class_weight={0:0.33,1:0.66},random_state=1)\n",
        "\n",
        "# Grid of parameters to choose from\n",
        "parameters = {'max_depth': np.arange(2,30), \n",
        "              'min_samples_leaf': [1, 2, 5, 7, 10],\n",
        "              'max_leaf_nodes' : [2, 3, 5, 10,15],\n",
        "              'min_impurity_decrease': [0.0001,0.001,0.01,0.1]\n",
        "             }\n",
        "\n",
        "# Type of scoring used to compare parameter combinations\n",
        "scorer = metrics.make_scorer(metrics.recall_score)\n",
        "\n",
        "# Run the grid search\n",
        "grid_obj = GridSearchCV(dtree_estimator, parameters, scoring=scorer)\n",
        "grid_obj = grid_obj.fit(X_train, y_train)\n",
        "\n",
        "# Set the clf to the best combination of parameters\n",
        "dtree_estimator = grid_obj.best_estimator_\n",
        "\n",
        "# Fit the best algorithm to the data. \n",
        "dtree_estimator.fit(X_train, y_train)"
      ],
      "metadata": {
        "colab": {
          "base_uri": "https://localhost:8080/"
        },
        "id": "yCnFbDuIlLEi",
        "outputId": "c20f2389-563d-4a2c-fca6-ed66805c9d77"
      },
      "id": "yCnFbDuIlLEi",
      "execution_count": null,
      "outputs": [
        {
          "output_type": "execute_result",
          "data": {
            "text/plain": [
              "DecisionTreeClassifier(class_weight={0: 0.33, 1: 0.66}, max_depth=2,\n",
              "                       max_leaf_nodes=2, min_impurity_decrease=0.1,\n",
              "                       random_state=1)"
            ]
          },
          "metadata": {},
          "execution_count": 100
        }
      ]
    },
    {
      "cell_type": "code",
      "source": [
        "confusion_matrix_sklearn(dtree_estimator, X_test,y_test)"
      ],
      "metadata": {
        "colab": {
          "base_uri": "https://localhost:8080/",
          "height": 279
        },
        "id": "T9-2N3EslP2Y",
        "outputId": "44a7f168-fb02-4598-8b76-eb3a25bc728c"
      },
      "id": "T9-2N3EslP2Y",
      "execution_count": null,
      "outputs": [
        {
          "output_type": "display_data",
          "data": {
            "text/plain": [
              "<Figure size 432x288 with 2 Axes>"
            ],
            "image/png": "[encoded data removed]"
          },
          "metadata": {
            "needs_background": "light"
          }
        }
      ]
    },
    {
      "cell_type": "code",
      "source": [
        "dtree_estimator_model_train_perf=model_performance_classification_sklearn(dtree_estimator, X_train,y_train)\n",
        "print(\"Training performance \\n\",dtree_estimator_model_train_perf)"
      ],
      "metadata": {
        "colab": {
          "base_uri": "https://localhost:8080/"
        },
        "id": "wHJQ4VvvlE9P",
        "outputId": "d2063617-5e8a-4569-8124-7820c60a07e0"
      },
      "id": "wHJQ4VvvlE9P",
      "execution_count": null,
      "outputs": [
        {
          "output_type": "stream",
          "name": "stdout",
          "text": [
            "Training performance \n",
            "    Accuracy  Recall  Precision        F1\n",
            "0  0.667919     1.0   0.667919  0.800901\n"
          ]
        }
      ]
    },
    {
      "cell_type": "code",
      "source": [
        "dtree_estimator_model_test_perf=model_performance_classification_sklearn(dtree_estimator, X_test, y_test)\n",
        "print(\"Testing performance \\n\",dtree_estimator_model_test_perf)"
      ],
      "metadata": {
        "colab": {
          "base_uri": "https://localhost:8080/"
        },
        "id": "9p9SlMiLj-lo",
        "outputId": "e909404c-045a-4817-d4b6-800a9d2d38ce"
      },
      "id": "9p9SlMiLj-lo",
      "execution_count": null,
      "outputs": [
        {
          "output_type": "stream",
          "name": "stdout",
          "text": [
            "Testing performance \n",
            "    Accuracy  Recall  Precision        F1\n",
            "0  0.667844     1.0   0.667844  0.800847\n"
          ]
        }
      ]
    },
    {
      "cell_type": "markdown",
      "source": [
        "* Recall has performed extremely well for both training and data set. \n",
        "* Precision did not perform well on either the training or test set."
      ],
      "metadata": {
        "id": "Hovd8COSpbUN"
      },
      "id": "Hovd8COSpbUN"
    },
    {
      "cell_type": "markdown",
      "source": [
        "## Bagging Classifier Tuning"
      ],
      "metadata": {
        "id": "5T0wXEqwpnK7"
      },
      "id": "5T0wXEqwpnK7"
    },
    {
      "cell_type": "code",
      "source": [
        "# grid search for bagging classifier\n",
        "cl1 = DecisionTreeClassifier(class_weight={0:0.33,1:0.66},random_state=1)\n",
        "param_grid = {'base_estimator':[cl1],\n",
        "              'n_estimators':[5,7,15,51,101],\n",
        "              'max_features': [0.7,0.8,0.9,1]\n",
        "             }\n",
        "\n",
        "grid = GridSearchCV(BaggingClassifier(random_state=1,bootstrap=True), param_grid=param_grid, scoring = 'recall', cv = 5)\n",
        "grid.fit(X_train, y_train)"
      ],
      "metadata": {
        "colab": {
          "base_uri": "https://localhost:8080/"
        },
        "id": "3WWdnXUJppqQ",
        "outputId": "e6b17f74-7392-4370-8258-1b407267debc"
      },
      "id": "3WWdnXUJppqQ",
      "execution_count": null,
      "outputs": [
        {
          "output_type": "execute_result",
          "data": {
            "text/plain": [
              "GridSearchCV(cv=5, estimator=BaggingClassifier(random_state=1),\n",
              "             param_grid={'base_estimator': [DecisionTreeClassifier(class_weight={0: 0.33,\n",
              "                                                                                 1: 0.66},\n",
              "                                                                   random_state=1)],\n",
              "                         'max_features': [0.7, 0.8, 0.9, 1],\n",
              "                         'n_estimators': [5, 7, 15, 51, 101]},\n",
              "             scoring='recall')"
            ]
          },
          "metadata": {},
          "execution_count": 104
        }
      ]
    },
    {
      "cell_type": "code",
      "source": [
        "## getting the best estimator\n",
        "bagging_estimator  = grid.best_estimator_\n",
        "bagging_estimator.fit(X_train,y_train)"
      ],
      "metadata": {
        "colab": {
          "base_uri": "https://localhost:8080/"
        },
        "id": "3fFEsakCs0qi",
        "outputId": "54185bdc-9894-4082-f62c-270583557883"
      },
      "id": "3fFEsakCs0qi",
      "execution_count": null,
      "outputs": [
        {
          "output_type": "execute_result",
          "data": {
            "text/plain": [
              "BaggingClassifier(base_estimator=DecisionTreeClassifier(class_weight={0: 0.33,\n",
              "                                                                      1: 0.66},\n",
              "                                                        random_state=1),\n",
              "                  max_features=1, n_estimators=5, random_state=1)"
            ]
          },
          "metadata": {},
          "execution_count": 106
        }
      ]
    },
    {
      "cell_type": "code",
      "source": [
        "bagging_estimator_model_train_perf=model_performance_classification_sklearn(bagging_estimator, X_train,y_train)\n",
        "print(\"Training performance \\n\",bagging_estimator_model_train_perf)"
      ],
      "metadata": {
        "colab": {
          "base_uri": "https://localhost:8080/"
        },
        "id": "fB9OAASgs7KO",
        "outputId": "e57d689a-bbf1-4974-cfd2-2137f6d8d988"
      },
      "id": "fB9OAASgs7KO",
      "execution_count": null,
      "outputs": [
        {
          "output_type": "stream",
          "name": "stdout",
          "text": [
            "Training performance \n",
            "    Accuracy  Recall  Precision        F1\n",
            "0  0.667919     1.0   0.667919  0.800901\n"
          ]
        }
      ]
    },
    {
      "cell_type": "code",
      "source": [
        "bagging_estimator_model_test_perf=model_performance_classification_sklearn(bagging_estimator, X_test, y_test)\n",
        "print(\"Testing performance \\n\",bagging_estimator_model_test_perf)"
      ],
      "metadata": {
        "colab": {
          "base_uri": "https://localhost:8080/"
        },
        "id": "NZYPq33es_KA",
        "outputId": "3e715670-0a9f-4360-c3eb-1711ed3bd373"
      },
      "id": "NZYPq33es_KA",
      "execution_count": null,
      "outputs": [
        {
          "output_type": "stream",
          "name": "stdout",
          "text": [
            "Testing performance \n",
            "    Accuracy  Recall  Precision        F1\n",
            "0  0.667844     1.0   0.667844  0.800847\n"
          ]
        }
      ]
    },
    {
      "cell_type": "markdown",
      "source": [
        "* Recall performs extremely well on both the training and test set. \n",
        "* Precision is not performine well on either training or test set. \n",
        "\n"
      ],
      "metadata": {
        "id": "sYKgDE3LtEvy"
      },
      "id": "sYKgDE3LtEvy"
    },
    {
      "cell_type": "markdown",
      "source": [
        "## Random Forest Tuning"
      ],
      "metadata": {
        "id": "VmkfcpvZtKJo"
      },
      "id": "VmkfcpvZtKJo"
    },
    {
      "cell_type": "code",
      "source": [
        "# Choose the type of classifier.\n",
        "rf_tuned = RandomForestClassifier(random_state=1, oob_score=True, bootstrap=True)\n",
        "\n",
        "parameters = {\n",
        "    \"max_depth\": list(np.arange(5, 15, 5)),\n",
        "    \"max_features\": [\"sqrt\", \"log2\"],\n",
        "    \"min_samples_split\": [5, 7],\n",
        "    \"n_estimators\": np.arange(15, 26, 5),\n",
        "}\n",
        "\n",
        "# Type of scoring used to compare parameter combinations\n",
        "acc_scorer = metrics.make_scorer(metrics.f1_score)\n",
        "\n",
        "# Run the grid search\n",
        "grid_obj = GridSearchCV(rf_tuned, parameters, scoring=scorer, cv=5,n_jobs=-1)\n",
        "grid_obj = grid_obj.fit(X_train, y_train)\n",
        "\n",
        "# Set the clf to the best combination of parameters\n",
        "rf_tuned = grid_obj.best_estimator_\n",
        "\n",
        "# Fit the best algorithm to the data.\n",
        "rf_tuned.fit(X_train, y_train)"
      ],
      "metadata": {
        "colab": {
          "base_uri": "https://localhost:8080/"
        },
        "id": "WTLuHkXGtNqJ",
        "outputId": "b365695f-0805-49c9-e374-9c51fc5f34d5"
      },
      "id": "WTLuHkXGtNqJ",
      "execution_count": null,
      "outputs": [
        {
          "output_type": "execute_result",
          "data": {
            "text/plain": [
              "RandomForestClassifier(max_depth=5, max_features='sqrt', min_samples_split=5,\n",
              "                       n_estimators=20, oob_score=True, random_state=1)"
            ]
          },
          "metadata": {},
          "execution_count": 112
        }
      ]
    },
    {
      "cell_type": "code",
      "source": [
        "#Creating confusion matrix\n",
        "confusion_matrix_sklearn(rf_tuned,X_test,y_test)"
      ],
      "metadata": {
        "colab": {
          "base_uri": "https://localhost:8080/",
          "height": 279
        },
        "id": "l8GCVzl5tHZE",
        "outputId": "0f593db9-85d2-4077-d2c8-69423bea5dc7"
      },
      "id": "l8GCVzl5tHZE",
      "execution_count": null,
      "outputs": [
        {
          "output_type": "display_data",
          "data": {
            "text/plain": [
              "<Figure size 432x288 with 2 Axes>"
            ],
            "image/png": "[encoded data removed]"
          },
          "metadata": {
            "needs_background": "light"
          }
        }
      ]
    },
    {
      "cell_type": "code",
      "source": [
        "rf_tuned_model_train_perf=model_performance_classification_sklearn(rf_tuned,X_train,y_train)\n",
        "print(\"Training performance:\\n\",rf_tuned_model_train_perf)\n",
        "rf_tuned_model_test_perf=model_performance_classification_sklearn(rf_tuned,X_test,y_test)\n",
        "print(\"Testing performance:\\n\",rf_tuned_model_test_perf)"
      ],
      "metadata": {
        "colab": {
          "base_uri": "https://localhost:8080/"
        },
        "id": "ieqOzHMSt7IP",
        "outputId": "baa82897-157a-4367-a960-b1c3dad212be"
      },
      "id": "ieqOzHMSt7IP",
      "execution_count": null,
      "outputs": [
        {
          "output_type": "stream",
          "name": "stdout",
          "text": [
            "Training performance:\n",
            "    Accuracy    Recall  Precision        F1\n",
            "0  0.735591  0.925963   0.742079  0.823885\n",
            "Testing performance:\n",
            "    Accuracy  Recall  Precision        F1\n",
            "0  0.723836  0.9238   0.732526  0.817119\n"
          ]
        }
      ]
    },
    {
      "cell_type": "markdown",
      "source": [
        "* Both recall and precision are about the same for training and test data. \n",
        "* F1 score declined slightly in test data and is still low. \n",
        "\n"
      ],
      "metadata": {
        "id": "mlhMYQhSuckk"
      },
      "id": "mlhMYQhSuckk"
    },
    {
      "cell_type": "markdown",
      "source": [
        "## AdaBoost Classifier"
      ],
      "metadata": {
        "id": "FWv4_NAu_L_W"
      },
      "id": "FWv4_NAu_L_W"
    },
    {
      "cell_type": "code",
      "source": [
        "#Fitting the model\n",
        "ab_classifier = AdaBoostClassifier(random_state=1)\n",
        "ab_classifier.fit(X_train,y_train)\n",
        "\n",
        "#Calculating different metrics\n",
        "ab_classifier_model_train_perf=model_performance_classification_sklearn(ab_classifier,X_train,y_train)\n",
        "print(ab_classifier_model_train_perf)\n",
        "ab_classifier_model_test_perf=model_performance_classification_sklearn(ab_classifier,X_test,y_test)\n",
        "print(ab_classifier_model_test_perf)\n",
        "\n",
        "#Creating confusion matrix\n",
        "confusion_matrix_sklearn(ab_classifier,X_test,y_test)"
      ],
      "metadata": {
        "colab": {
          "base_uri": "https://localhost:8080/",
          "height": 351
        },
        "id": "m9mxOISw_PWN",
        "outputId": "492eea90-35ca-4fba-f9fe-458313bffc60"
      },
      "id": "m9mxOISw_PWN",
      "execution_count": null,
      "outputs": [
        {
          "output_type": "stream",
          "name": "stdout",
          "text": [
            "   Accuracy    Recall  Precision       F1\n",
            "0  0.738226  0.887182   0.760688  0.81908\n",
            "   Accuracy    Recall  Precision        F1\n",
            "0  0.734301  0.885015   0.757799  0.816481\n"
          ]
        },
        {
          "output_type": "display_data",
          "data": {
            "text/plain": [
              "<Figure size 432x288 with 2 Axes>"
            ],
            "image/png": "[encoded data removed]"
          },
          "metadata": {
            "needs_background": "light"
          }
        }
      ]
    },
    {
      "cell_type": "markdown",
      "source": [
        "* Adabost provides generalization but the F1 score, precision, and recall are too low. "
      ],
      "metadata": {
        "id": "l0KpWf4m_eI4"
      },
      "id": "l0KpWf4m_eI4"
    },
    {
      "cell_type": "markdown",
      "source": [
        "## AdaBoost Hyperparameter Tuning"
      ],
      "metadata": {
        "id": "xYcsc_tb_ty9"
      },
      "id": "xYcsc_tb_ty9"
    },
    {
      "cell_type": "code",
      "source": [
        "# Choose the type of classifier.\n",
        "abc_tuned = AdaBoostClassifier(random_state=1)\n",
        "\n",
        "# Grid of parameters to choose from\n",
        "parameters = {\n",
        "    # Let's try different max_depth for base_estimator\n",
        "    \"base_estimator\": [\n",
        "        DecisionTreeClassifier(max_depth=1, class_weight=\"balanced\", random_state=1),\n",
        "        DecisionTreeClassifier(max_depth=2, class_weight=\"balanced\", random_state=1),\n",
        "    ],\n",
        "    \"n_estimators\": np.arange(80, 101, 10),\n",
        "    \"learning_rate\": np.arange(0.1, 0.4, 0.1),\n",
        "}\n",
        "\n",
        "# Type of scoring used to compare parameter  combinations\n",
        "acc_scorer = metrics.make_scorer(metrics.f1_score)\n",
        "\n",
        "# Run the grid search\n",
        "grid_obj = GridSearchCV(abc_tuned, parameters, scoring=acc_scorer,cv=5)\n",
        "grid_obj = grid_obj.fit(X_train, y_train)\n",
        "\n",
        "# Set the clf to the best combination of parameters\n",
        "abc_tuned = grid_obj.best_estimator_\n",
        "\n",
        "# Fit the best algorithm to the data.\n",
        "abc_tuned.fit(X_train, y_train)\n",
        "\n",
        "\n",
        "\n"
      ],
      "metadata": {
        "colab": {
          "base_uri": "https://localhost:8080/"
        },
        "id": "2S-OyTg2_xst",
        "outputId": "0108f3cb-2b13-4844-a4a0-ad3565c55c39"
      },
      "id": "2S-OyTg2_xst",
      "execution_count": null,
      "outputs": [
        {
          "output_type": "execute_result",
          "data": {
            "text/plain": [
              "AdaBoostClassifier(base_estimator=DecisionTreeClassifier(class_weight='balanced',\n",
              "                                                         max_depth=1,\n",
              "                                                         random_state=1),\n",
              "                   learning_rate=0.1, n_estimators=100, random_state=1)"
            ]
          },
          "metadata": {},
          "execution_count": 117
        }
      ]
    },
    {
      "cell_type": "code",
      "source": [
        "#Calculating different metrics\n",
        "abc_tuned_model_train_perf=model_performance_classification_sklearn(abc_tuned,X_train,y_train)\n",
        "print(abc_tuned_model_train_perf)\n",
        "abc_tuned_model_test_perf=model_performance_classification_sklearn(abc_tuned,X_test,y_test)\n",
        "print(abc_tuned_model_test_perf)\n",
        "\n",
        "#Creating confusion matrix\n",
        "confusion_matrix_sklearn(abc_tuned,X_test,y_test)"
      ],
      "metadata": {
        "colab": {
          "base_uri": "https://localhost:8080/",
          "height": 349
        },
        "id": "amJYN6xq_ol_",
        "outputId": "802900aa-aa52-4592-fef6-e68f1a6b4d7c"
      },
      "id": "amJYN6xq_ol_",
      "execution_count": null,
      "outputs": [
        {
          "output_type": "stream",
          "name": "stdout",
          "text": [
            "   Accuracy    Recall  Precision        F1\n",
            "0  0.718995  0.781247   0.794587  0.787861\n",
            "   Accuracy    Recall  Precision        F1\n",
            "0   0.71651  0.781391   0.791468  0.786397\n"
          ]
        },
        {
          "output_type": "display_data",
          "data": {
            "text/plain": [
              "<Figure size 432x288 with 2 Axes>"
            ],
            "image/png": "[encoded data removed]"
          },
          "metadata": {
            "needs_background": "light"
          }
        }
      ]
    },
    {
      "cell_type": "markdown",
      "source": [
        "* Peformance is generalized to the test set but scores are still too low. "
      ],
      "metadata": {
        "id": "whpwhiNQCPx8"
      },
      "id": "whpwhiNQCPx8"
    },
    {
      "cell_type": "markdown",
      "source": [
        "## Gradient Boosting Classifier"
      ],
      "metadata": {
        "id": "yC_ONSgUCf6Q"
      },
      "id": "yC_ONSgUCf6Q"
    },
    {
      "cell_type": "code",
      "source": [
        "#Fitting the model\n",
        "gb_classifier = GradientBoostingClassifier(random_state=1)\n",
        "gb_classifier.fit(X_train,y_train)\n",
        "\n",
        "#Calculating different metrics\n",
        "gb_classifier_model_train_perf=model_performance_classification_sklearn(gb_classifier,X_train,y_train)\n",
        "print(\"Training performance:\\n\",gb_classifier_model_train_perf)\n",
        "gb_classifier_model_test_perf=model_performance_classification_sklearn(gb_classifier,X_test,y_test)\n",
        "print(\"Testing performance:\\n\",gb_classifier_model_test_perf)\n",
        "\n",
        "#Creating confusion matrix\n",
        "confusion_matrix_sklearn(gb_classifier,X_test,y_test)"
      ],
      "metadata": {
        "colab": {
          "base_uri": "https://localhost:8080/",
          "height": 383
        },
        "id": "QRl5LtxjCdEM",
        "outputId": "4248107a-9c4e-435b-aee1-bee04fc3502b"
      },
      "id": "QRl5LtxjCdEM",
      "execution_count": null,
      "outputs": [
        {
          "output_type": "stream",
          "name": "stdout",
          "text": [
            "Training performance:\n",
            "    Accuracy   Recall  Precision        F1\n",
            "0  0.758802  0.88374   0.783042  0.830349\n",
            "Testing performance:\n",
            "    Accuracy    Recall  Precision        F1\n",
            "0  0.744767  0.876004   0.772366  0.820927\n"
          ]
        },
        {
          "output_type": "display_data",
          "data": {
            "text/plain": [
              "<Figure size 432x288 with 2 Axes>"
            ],
            "image/png": "[encoded data removed]"
          },
          "metadata": {
            "needs_background": "light"
          }
        }
      ]
    },
    {
      "cell_type": "markdown",
      "source": [
        "* Performance is generalized to test set but scores are still too low. "
      ],
      "metadata": {
        "id": "e2bItnUUC4Cf"
      },
      "id": "e2bItnUUC4Cf"
    },
    {
      "cell_type": "markdown",
      "source": [
        "### Gradient Boosting Hyperparameter Tuning\n",
        "\n"
      ],
      "metadata": {
        "id": "XfTVC84eDL-A"
      },
      "id": "XfTVC84eDL-A"
    },
    {
      "cell_type": "code",
      "source": [
        "# Choose the type of classifier.\n",
        "gbc_tuned = GradientBoostingClassifier(\n",
        "    init=AdaBoostClassifier(random_state=1), random_state=1\n",
        ")\n",
        "\n",
        "# Grid of parameters to choose from\n",
        "parameters = {\n",
        "    \"n_estimators\": [200, 250],\n",
        "    \"subsample\": [0.9, 1],\n",
        "    \"max_features\": [0.8, 0.9],\n",
        "    \"learning_rate\": np.arange(0.1, 0.21, 0.1),\n",
        "}\n",
        "\n",
        "# Type of scoring used to compare parameter combinations\n",
        "acc_scorer = metrics.make_scorer(metrics.f1_score)\n",
        "\n",
        "# Run the grid search\n",
        "grid_obj = GridSearchCV(gbc_tuned, parameters, scoring=scorer,cv=5)\n",
        "grid_obj = grid_obj.fit(X_train, y_train)\n",
        "\n",
        "# Set the clf to the best combination of parameters\n",
        "gbc_tuned = grid_obj.best_estimator_\n",
        "\n",
        "# Fit the best algorithm to the data.\n",
        "gbc_tuned.fit(X_train, y_train)"
      ],
      "metadata": {
        "colab": {
          "base_uri": "https://localhost:8080/"
        },
        "id": "nYhtLxy8DQz8",
        "outputId": "45057740-8022-4af8-ccf9-eaf321dd62d9"
      },
      "id": "nYhtLxy8DQz8",
      "execution_count": null,
      "outputs": [
        {
          "output_type": "execute_result",
          "data": {
            "text/plain": [
              "GradientBoostingClassifier(init=AdaBoostClassifier(random_state=1),\n",
              "                           max_features=0.8, n_estimators=200, random_state=1,\n",
              "                           subsample=1)"
            ]
          },
          "metadata": {},
          "execution_count": 121
        }
      ]
    },
    {
      "cell_type": "code",
      "source": [
        "#Calculating different metrics\n",
        "gbc_tuned_model_train_perf=model_performance_classification_sklearn(gbc_tuned,X_train,y_train)\n",
        "print(\"Training performance:\\n\",gbc_tuned_model_train_perf)\n",
        "gbc_tuned_model_test_perf=model_performance_classification_sklearn(gbc_tuned,X_test,y_test)\n",
        "print(\"Testing performance:\\n\",gbc_tuned_model_test_perf)\n",
        "\n",
        "#Creating confusion matrix\n",
        "confusion_matrix_sklearn(gbc_tuned,X_test,y_test)"
      ],
      "metadata": {
        "colab": {
          "base_uri": "https://localhost:8080/",
          "height": 383
        },
        "id": "5DB4YLEDD-rw",
        "outputId": "417bbd1a-560b-4ff7-a1fd-a38ed53a2c58"
      },
      "id": "5DB4YLEDD-rw",
      "execution_count": null,
      "outputs": [
        {
          "output_type": "stream",
          "name": "stdout",
          "text": [
            "Training performance:\n",
            "    Accuracy    Recall  Precision        F1\n",
            "0  0.764017  0.882649   0.789059  0.833234\n",
            "Testing performance:\n",
            "    Accuracy    Recall  Precision        F1\n",
            "0  0.743459  0.871303   0.773296  0.819379\n"
          ]
        },
        {
          "output_type": "display_data",
          "data": {
            "text/plain": [
              "<Figure size 432x288 with 2 Axes>"
            ],
            "image/png": "[encoded data removed]"
          },
          "metadata": {
            "needs_background": "light"
          }
        }
      ]
    },
    {
      "cell_type": "markdown",
      "source": [
        "* Model performance generalizes to test and there isn't much change."
      ],
      "metadata": {
        "id": "0wobrNnmFEac"
      },
      "id": "0wobrNnmFEac"
    },
    {
      "cell_type": "markdown",
      "source": [
        "## XGBoost Classifier"
      ],
      "metadata": {
        "id": "mHV_J1fVFfP_"
      },
      "id": "mHV_J1fVFfP_"
    },
    {
      "cell_type": "code",
      "source": [
        "#Fitting the model\n",
        "xgb_classifier = XGBClassifier(random_state=1, eval_metric='logloss')\n",
        "xgb_classifier.fit(X_train,y_train)\n",
        "\n",
        "#Calculating different metrics\n",
        "xgb_classifier_model_train_perf=model_performance_classification_sklearn(xgb_classifier,X_train,y_train)\n",
        "print(\"Training performance:\\n\",xgb_classifier_model_train_perf)\n",
        "xgb_classifier_model_test_perf=model_performance_classification_sklearn(xgb_classifier,X_test,y_test)\n",
        "print(\"Testing performance:\\n\",xgb_classifier_model_test_perf)\n",
        "\n",
        "#Creating confusion matrix\n",
        "confusion_matrix_sklearn(xgb_classifier,X_test,y_test)"
      ],
      "metadata": {
        "colab": {
          "base_uri": "https://localhost:8080/",
          "height": 383
        },
        "id": "lQ_eQdxQFij6",
        "outputId": "97732a19-6471-4d6f-e241-81645b540381"
      },
      "id": "lQ_eQdxQFij6",
      "execution_count": null,
      "outputs": [
        {
          "output_type": "stream",
          "name": "stdout",
          "text": [
            "Training performance:\n",
            "    Accuracy    Recall  Precision        F1\n",
            "0  0.756279  0.883573   0.780513  0.828852\n",
            "Testing performance:\n",
            "    Accuracy    Recall  Precision        F1\n",
            "0  0.744636  0.877375   0.771576  0.821082\n"
          ]
        },
        {
          "output_type": "display_data",
          "data": {
            "text/plain": [
              "<Figure size 432x288 with 2 Axes>"
            ],
            "image/png": "[encoded data removed]"
          },
          "metadata": {
            "needs_background": "light"
          }
        }
      ]
    },
    {
      "cell_type": "markdown",
      "source": [
        "* Model generalizes to test data across all performance metrics. "
      ],
      "metadata": {
        "id": "zYGFG7wZFrzn"
      },
      "id": "zYGFG7wZFrzn"
    },
    {
      "cell_type": "markdown",
      "source": [
        "### XGBoost Hyperparameter Tuning"
      ],
      "metadata": {
        "id": "I4QGoOkTF15Y"
      },
      "id": "I4QGoOkTF15Y"
    },
    {
      "cell_type": "code",
      "source": [
        "# Choose the type of classifier.\n",
        "xgb_tuned = XGBClassifier(random_state=1, eval_metric=\"logloss\")\n",
        "\n",
        "# Grid of parameters to choose from\n",
        "parameters = {\n",
        "    \"n_estimators\": np.arange(150, 250, 50),\n",
        "    \"scale_pos_weight\": [1, 2],\n",
        "    \"subsample\": [0.9, 1],\n",
        "    \"learning_rate\": np.arange(0.1, 0.21, 0.1),\n",
        "    \"gamma\": [3, 5],\n",
        "    \"colsample_bytree\": [0.8, 0.9],\n",
        "    \"colsample_bylevel\": [ 0.9, 1],\n",
        "}\n",
        "\n",
        "# Type of scoring used to compare parameter combinations\n",
        "acc_scorer = metrics.make_scorer(metrics.f1_score)\n",
        "\n",
        "# Run the grid search\n",
        "grid_obj = GridSearchCV(xgb_tuned, parameters,scoring=scorer,cv=5)\n",
        "grid_obj = grid_obj.fit(X_train, y_train)\n",
        "\n",
        "# Set the clf to the best combination of parameters\n",
        "xgb_tuned = grid_obj.best_estimator_\n",
        "\n",
        "# Fit the best algorithm to the data.\n",
        "xgb_tuned.fit(X_train, y_train)"
      ],
      "metadata": {
        "colab": {
          "base_uri": "https://localhost:8080/"
        },
        "id": "ZdoS2-NoF6XB",
        "outputId": "81b794b3-4ec1-453f-e586-c9f3474a84e2"
      },
      "id": "ZdoS2-NoF6XB",
      "execution_count": null,
      "outputs": [
        {
          "output_type": "execute_result",
          "data": {
            "text/plain": [
              "XGBClassifier(colsample_bylevel=0.9, colsample_bytree=0.9,\n",
              "              eval_metric='logloss', gamma=5, n_estimators=200, random_state=1)"
            ]
          },
          "metadata": {},
          "execution_count": 124
        }
      ]
    },
    {
      "cell_type": "code",
      "source": [
        "#Calculating different metrics\n",
        "xgb_tuned_model_train_perf=model_performance_classification_sklearn(xgb_tuned,X_train,y_train)\n",
        "print(\"Training performance:\\n\",xgb_tuned_model_train_perf)\n",
        "xgb_tuned_model_test_perf=model_performance_classification_sklearn(xgb_tuned,X_test,y_test)\n",
        "print(\"Testing performance:\\n\",xgb_tuned_model_test_perf)\n",
        "\n",
        "#Creating confusion matrix\n",
        "confusion_matrix_sklearn(xgb_tuned,X_test,y_test)"
      ],
      "metadata": {
        "colab": {
          "base_uri": "https://localhost:8080/",
          "height": 383
        },
        "id": "8cMQhGjOF1Jx",
        "outputId": "e4006440-19b8-4d6f-8624-5101011827b7"
      },
      "id": "8cMQhGjOF1Jx",
      "execution_count": null,
      "outputs": [
        {
          "output_type": "stream",
          "name": "stdout",
          "text": [
            "Training performance:\n",
            "    Accuracy    Recall  Precision        F1\n",
            "0  0.756504  0.883069   0.780995  0.828901\n",
            "Testing performance:\n",
            "    Accuracy  Recall  Precision        F1\n",
            "0  0.744244  0.8762   0.771739  0.820659\n"
          ]
        },
        {
          "output_type": "display_data",
          "data": {
            "text/plain": [
              "<Figure size 432x288 with 2 Axes>"
            ],
            "image/png": "[encoded data removed]"
          },
          "metadata": {
            "needs_background": "light"
          }
        }
      ]
    },
    {
      "cell_type": "markdown",
      "source": [
        "* Not much change from tuning the XGBoost model."
      ],
      "metadata": {
        "id": "GtaKiHO7IIiO"
      },
      "id": "GtaKiHO7IIiO"
    },
    {
      "cell_type": "markdown",
      "source": [
        "## Stacking Classifier"
      ],
      "metadata": {
        "id": "zdgTnl7wIJEj"
      },
      "id": "zdgTnl7wIJEj"
    },
    {
      "cell_type": "code",
      "source": [
        "estimators = [\n",
        "    (\"AdaBoost\", ab_classifier),\n",
        "    (\"Gradient Boosting\", gbc_tuned),\n",
        "    (\"Random Forest\", rf_tuned),\n",
        "]\n",
        "\n",
        "final_estimator = xgb_tuned\n",
        "\n",
        "stacking_classifier = StackingClassifier(estimators=estimators,final_estimator=final_estimator)\n",
        "\n",
        "stacking_classifier.fit(X_train,y_train)"
      ],
      "metadata": {
        "colab": {
          "base_uri": "https://localhost:8080/"
        },
        "id": "DfWw_q4pFeDD",
        "outputId": "edd0af73-4285-4e17-b5a4-f5209dac0873"
      },
      "id": "DfWw_q4pFeDD",
      "execution_count": null,
      "outputs": [
        {
          "output_type": "execute_result",
          "data": {
            "text/plain": [
              "StackingClassifier(estimators=[('AdaBoost', AdaBoostClassifier(random_state=1)),\n",
              "                               ('Gradient Boosting',\n",
              "                                GradientBoostingClassifier(init=AdaBoostClassifier(random_state=1),\n",
              "                                                           max_features=0.8,\n",
              "                                                           n_estimators=200,\n",
              "                                                           random_state=1,\n",
              "                                                           subsample=1)),\n",
              "                               ('Random Forest',\n",
              "                                RandomForestClassifier(max_depth=5,\n",
              "                                                       max_features='sqrt',\n",
              "                                                       min_samples_split=5,\n",
              "                                                       n_estimators=20,\n",
              "                                                       oob_score=True,\n",
              "                                                       random_state=1))],\n",
              "                   final_estimator=XGBClassifier(colsample_bylevel=0.9,\n",
              "                                                 colsample_bytree=0.9,\n",
              "                                                 eval_metric='logloss', gamma=5,\n",
              "                                                 n_estimators=200,\n",
              "                                                 random_state=1))"
            ]
          },
          "metadata": {},
          "execution_count": 126
        }
      ]
    },
    {
      "cell_type": "code",
      "source": [
        "#Calculating different metrics\n",
        "stacking_classifier_model_train_perf=model_performance_classification_sklearn(stacking_classifier,X_train,y_train)\n",
        "print(\"Training performance:\\n\",stacking_classifier_model_train_perf)\n",
        "stacking_classifier_model_test_perf=model_performance_classification_sklearn(stacking_classifier,X_test,y_test)\n",
        "print(\"Testing performance:\\n\",stacking_classifier_model_test_perf)\n",
        "\n",
        "#Creating confusion matrix\n",
        "confusion_matrix_sklearn(stacking_classifier,X_test,y_test)"
      ],
      "metadata": {
        "colab": {
          "base_uri": "https://localhost:8080/",
          "height": 383
        },
        "id": "iE-5xeBlI9Y4",
        "outputId": "d71c5b82-e7e0-46a5-8be0-637fd0d0e0d1"
      },
      "id": "iE-5xeBlI9Y4",
      "execution_count": null,
      "outputs": [
        {
          "output_type": "stream",
          "name": "stdout",
          "text": [
            "Training performance:\n",
            "    Accuracy    Recall  Precision       F1\n",
            "0  0.760877  0.883153   0.785501  0.83147\n",
            "Testing performance:\n",
            "    Accuracy    Recall  Precision        F1\n",
            "0  0.743721  0.872478   0.772995  0.819729\n"
          ]
        },
        {
          "output_type": "display_data",
          "data": {
            "text/plain": [
              "<Figure size 432x288 with 2 Axes>"
            ],
            "image/png": "[encoded data removed]"
          },
          "metadata": {
            "needs_background": "light"
          }
        }
      ]
    },
    {
      "cell_type": "markdown",
      "source": [
        "* The stacking classifier provides a similar performance to XGBoost, however, has slightly less F1 score than XGBoost model. "
      ],
      "metadata": {
        "id": "Mw3b4jU_JCnT"
      },
      "id": "Mw3b4jU_JCnT"
    },
    {
      "cell_type": "markdown",
      "id": "obvious-maine",
      "metadata": {
        "id": "obvious-maine"
      },
      "source": [
        "## Model Comparison and Conclusions"
      ]
    },
    {
      "cell_type": "code",
      "execution_count": null,
      "id": "everyday-kinase",
      "metadata": {
        "id": "everyday-kinase",
        "colab": {
          "base_uri": "https://localhost:8080/",
          "height": 288
        },
        "outputId": "57094b7b-d109-4cf9-8bdb-f1af9576e995"
      },
      "outputs": [
        {
          "output_type": "stream",
          "name": "stdout",
          "text": [
            "Training performance comparison:\n"
          ]
        },
        {
          "output_type": "execute_result",
          "data": {
            "text/plain": [
              "           Decision Tree  Tuned Decision Tree  Bagging Classifier  \\\n",
              "Accuracy             1.0             0.667919            0.985198   \n",
              "Recall               1.0             1.000000            0.985982   \n",
              "Precision            1.0             0.667919            0.991810   \n",
              "F1                   1.0             0.800901            0.988887   \n",
              "\n",
              "           Tuned Bagging Classifier  Random Forest  Tuned Random Forest  \\\n",
              "Accuracy                   0.667919       0.999944             0.735591   \n",
              "Recall                     1.000000       0.999916             0.925963   \n",
              "Precision                  0.667919       1.000000             0.742079   \n",
              "F1                         0.800901       0.999958             0.823885   \n",
              "\n",
              "           Adaboost Classifier  Tuned Adaboost Classifier  \\\n",
              "Accuracy              0.738226                   0.718995   \n",
              "Recall                0.887182                   0.781247   \n",
              "Precision             0.760688                   0.794587   \n",
              "F1                    0.819080                   0.787861   \n",
              "\n",
              "           Gradient Boost Classifier  Tuned Gradient Boost Classifier  \\\n",
              "Accuracy                    0.758802                         0.764017   \n",
              "Recall                      0.883740                         0.882649   \n",
              "Precision                   0.783042                         0.789059   \n",
              "F1                          0.830349                         0.833234   \n",
              "\n",
              "           XGBoost Classifier  XGBoost Classifier Tuned  Stacking Classifier  \n",
              "Accuracy             0.756279                  0.756504             0.760877  \n",
              "Recall               0.883573                  0.883069             0.883153  \n",
              "Precision            0.780513                  0.780995             0.785501  \n",
              "F1                   0.828852                  0.828901             0.831470  "
            ],
            "text/html": [
              "\n",
              "  <div id=\"df-1a96aac0-dc17-447f-bce8-d682b860d606\">\n",
              "    <div class=\"colab-df-container\">\n",
              "      <div>\n",
              "<style scoped>\n",
              "    .dataframe tbody tr th:only-of-type {\n",
              "        vertical-align: middle;\n",
              "    }\n",
              "\n",
              "    .dataframe tbody tr th {\n",
              "        vertical-align: top;\n",
              "    }\n",
              "\n",
              "    .dataframe thead th {\n",
              "        text-align: right;\n",
              "    }\n",
              "</style>\n",
              "<table border=\"1\" class=\"dataframe\">\n",
              "  <thead>\n",
              "    <tr style=\"text-align: right;\">\n",
              "      <th></th>\n",
              "      <th>Decision Tree</th>\n",
              "      <th>Tuned Decision Tree</th>\n",
              "      <th>Bagging Classifier</th>\n",
              "      <th>Tuned Bagging Classifier</th>\n",
              "      <th>Random Forest</th>\n",
              "      <th>Tuned Random Forest</th>\n",
              "      <th>Adaboost Classifier</th>\n",
              "      <th>Tuned Adaboost Classifier</th>\n",
              "      <th>Gradient Boost Classifier</th>\n",
              "      <th>Tuned Gradient Boost Classifier</th>\n",
              "      <th>XGBoost Classifier</th>\n",
              "      <th>XGBoost Classifier Tuned</th>\n",
              "      <th>Stacking Classifier</th>\n",
              "    </tr>\n",
              "  </thead>\n",
              "  <tbody>\n",
              "    <tr>\n",
              "      <th>Accuracy</th>\n",
              "      <td>1.0</td>\n",
              "      <td>0.667919</td>\n",
              "      <td>0.985198</td>\n",
              "      <td>0.667919</td>\n",
              "      <td>0.999944</td>\n",
              "      <td>0.735591</td>\n",
              "      <td>0.738226</td>\n",
              "      <td>0.718995</td>\n",
              "      <td>0.758802</td>\n",
              "      <td>0.764017</td>\n",
              "      <td>0.756279</td>\n",
              "      <td>0.756504</td>\n",
              "      <td>0.760877</td>\n",
              "    </tr>\n",
              "    <tr>\n",
              "      <th>Recall</th>\n",
              "      <td>1.0</td>\n",
              "      <td>1.000000</td>\n",
              "      <td>0.985982</td>\n",
              "      <td>1.000000</td>\n",
              "      <td>0.999916</td>\n",
              "      <td>0.925963</td>\n",
              "      <td>0.887182</td>\n",
              "      <td>0.781247</td>\n",
              "      <td>0.883740</td>\n",
              "      <td>0.882649</td>\n",
              "      <td>0.883573</td>\n",
              "      <td>0.883069</td>\n",
              "      <td>0.883153</td>\n",
              "    </tr>\n",
              "    <tr>\n",
              "      <th>Precision</th>\n",
              "      <td>1.0</td>\n",
              "      <td>0.667919</td>\n",
              "      <td>0.991810</td>\n",
              "      <td>0.667919</td>\n",
              "      <td>1.000000</td>\n",
              "      <td>0.742079</td>\n",
              "      <td>0.760688</td>\n",
              "      <td>0.794587</td>\n",
              "      <td>0.783042</td>\n",
              "      <td>0.789059</td>\n",
              "      <td>0.780513</td>\n",
              "      <td>0.780995</td>\n",
              "      <td>0.785501</td>\n",
              "    </tr>\n",
              "    <tr>\n",
              "      <th>F1</th>\n",
              "      <td>1.0</td>\n",
              "      <td>0.800901</td>\n",
              "      <td>0.988887</td>\n",
              "      <td>0.800901</td>\n",
              "      <td>0.999958</td>\n",
              "      <td>0.823885</td>\n",
              "      <td>0.819080</td>\n",
              "      <td>0.787861</td>\n",
              "      <td>0.830349</td>\n",
              "      <td>0.833234</td>\n",
              "      <td>0.828852</td>\n",
              "      <td>0.828901</td>\n",
              "      <td>0.831470</td>\n",
              "    </tr>\n",
              "  </tbody>\n",
              "</table>\n",
              "</div>\n",
              "      <button class=\"colab-df-convert\" onclick=\"convertToInteractive('df-1a96aac0-dc17-447f-bce8-d682b860d606')\"\n",
              "              title=\"Convert this dataframe to an interactive table.\"\n",
              "              style=\"display:none;\">\n",
              "        \n",
              "  <svg xmlns=\"http://www.w3.org/2000/svg\" height=\"24px\"viewBox=\"0 0 24 24\"\n",
              "       width=\"24px\">\n",
              "    <path d=\"M0 0h24v24H0V0z\" fill=\"none\"/>\n",
              "    <path d=\"M18.56 5.44l.94 2.06.94-2.06 2.06-.94-2.06-.94-.94-2.06-.94 2.06-2.06.94zm-11 1L8.5 8.5l.94-2.06 2.06-.94-2.06-.94L8.5 2.5l-.94 2.06-2.06.94zm10 10l.94 2.06.94-2.06 2.06-.94-2.06-.94-.94-2.06-.94 2.06-2.06.94z\"/><path d=\"M17.41 7.96l-1.37-1.37c-.4-.4-.92-.59-1.43-.59-.52 0-1.04.2-1.43.59L10.3 9.45l-7.72 7.72c-.78.78-.78 2.05 0 2.83L4 21.41c.39.39.9.59 1.41.59.51 0 1.02-.2 1.41-.59l7.78-7.78 2.81-2.81c.8-.78.8-2.07 0-2.86zM5.41 20L4 18.59l7.72-7.72 1.47 1.35L5.41 20z\"/>\n",
              "  </svg>\n",
              "      </button>\n",
              "      \n",
              "  <style>\n",
              "    .colab-df-container {\n",
              "      display:flex;\n",
              "      flex-wrap:wrap;\n",
              "      gap: 12px;\n",
              "    }\n",
              "\n",
              "    .colab-df-convert {\n",
              "      background-color: #E8F0FE;\n",
              "      border: none;\n",
              "      border-radius: 50%;\n",
              "      cursor: pointer;\n",
              "      display: none;\n",
              "      fill: #1967D2;\n",
              "      height: 32px;\n",
              "      padding: 0 0 0 0;\n",
              "      width: 32px;\n",
              "    }\n",
              "\n",
              "    .colab-df-convert:hover {\n",
              "      background-color: #E2EBFA;\n",
              "      box-shadow: 0px 1px 2px rgba(60, 64, 67, 0.3), 0px 1px 3px 1px rgba(60, 64, 67, 0.15);\n",
              "      fill: #174EA6;\n",
              "    }\n",
              "\n",
              "    [theme=dark] .colab-df-convert {\n",
              "      background-color: #3B4455;\n",
              "      fill: #D2E3FC;\n",
              "    }\n",
              "\n",
              "    [theme=dark] .colab-df-convert:hover {\n",
              "      background-color: #434B5C;\n",
              "      box-shadow: 0px 1px 3px 1px rgba(0, 0, 0, 0.15);\n",
              "      filter: drop-shadow(0px 1px 2px rgba(0, 0, 0, 0.3));\n",
              "      fill: #FFFFFF;\n",
              "    }\n",
              "  </style>\n",
              "\n",
              "      <script>\n",
              "        const buttonEl =\n",
              "          document.querySelector('#df-1a96aac0-dc17-447f-bce8-d682b860d606 button.colab-df-convert');\n",
              "        buttonEl.style.display =\n",
              "          google.colab.kernel.accessAllowed ? 'block' : 'none';\n",
              "\n",
              "        async function convertToInteractive(key) {\n",
              "          const element = document.querySelector('#df-1a96aac0-dc17-447f-bce8-d682b860d606');\n",
              "          const dataTable =\n",
              "            await google.colab.kernel.invokeFunction('convertToInteractive',\n",
              "                                                     [key], {});\n",
              "          if (!dataTable) return;\n",
              "\n",
              "          const docLinkHtml = 'Like what you see? Visit the ' +\n",
              "            '<a target=\"_blank\" href=https://colab.research.google.com/notebooks/data_table.ipynb>data table notebook</a>'\n",
              "            + ' to learn more about interactive tables.';\n",
              "          element.innerHTML = '';\n",
              "          dataTable['output_type'] = 'display_data';\n",
              "          await google.colab.output.renderOutput(dataTable, element);\n",
              "          const docLink = document.createElement('div');\n",
              "          docLink.innerHTML = docLinkHtml;\n",
              "          element.appendChild(docLink);\n",
              "        }\n",
              "      </script>\n",
              "    </div>\n",
              "  </div>\n",
              "  "
            ]
          },
          "metadata": {},
          "execution_count": 130
        }
      ],
      "source": [
        "# training performance comparison\n",
        "\n",
        "models_train_comp_df = pd.concat(\n",
        "    [\n",
        "        dtree_model_train_perf.T,\n",
        "        dtree_estimator_model_train_perf.T,\n",
        "        bagging_model_train_perf.T,\n",
        "        bagging_estimator_model_train_perf.T,\n",
        "        rf_model_train_perf.T,\n",
        "        rf_tuned_model_train_perf.T,\n",
        "        ab_classifier_model_train_perf.T,\n",
        "        abc_tuned_model_train_perf.T,\n",
        "        gb_classifier_model_train_perf.T,\n",
        "        gbc_tuned_model_train_perf.T,\n",
        "        xgb_classifier_model_train_perf.T,\n",
        "        xgb_tuned_model_train_perf.T,\n",
        "        stacking_classifier_model_train_perf.T,\n",
        "    ],\n",
        "    axis=1,\n",
        ")\n",
        "models_train_comp_df.columns = [\n",
        "    \"Decision Tree\",\n",
        "    \"Tuned Decision Tree\",\n",
        "    \"Bagging Classifier\",\n",
        "    \"Tuned Bagging Classifier\",\n",
        "    \"Random Forest\",\n",
        "    \"Tuned Random Forest\",\n",
        "    \"Adaboost Classifier\",\n",
        "    \"Tuned Adaboost Classifier\",\n",
        "    \"Gradient Boost Classifier\",\n",
        "    \"Tuned Gradient Boost Classifier\",\n",
        "    \"XGBoost Classifier\",\n",
        "    \"XGBoost Classifier Tuned\",\n",
        "    \"Stacking Classifier\",\n",
        "]\n",
        "print(\"Training performance comparison:\")\n",
        "models_train_comp_df"
      ]
    },
    {
      "cell_type": "code",
      "source": [
        ""
      ],
      "metadata": {
        "id": "RQ8jdVXyRglP"
      },
      "id": "RQ8jdVXyRglP",
      "execution_count": null,
      "outputs": []
    },
    {
      "cell_type": "code",
      "source": [
        "# test performance comparison\n",
        "\n",
        "models_test_comp_df = pd.concat(\n",
        "    [dtree_model_test_perf.T,\n",
        "        dtree_estimator_model_test_perf.T,\n",
        "        bagging_model_test_perf.T,\n",
        "        bagging_estimator_model_test_perf.T,\n",
        "        rf_model_test_perf.T,\n",
        "        rf_tuned_model_test_perf.T,\n",
        "        ab_classifier_model_test_perf.T,\n",
        "        abc_tuned_model_test_perf.T,\n",
        "        gb_classifier_model_test_perf.T,\n",
        "        gbc_tuned_model_test_perf.T,\n",
        "        xgb_classifier_model_test_perf.T,\n",
        "        xgb_tuned_model_test_perf.T,\n",
        "        stacking_classifier_model_test_perf.T,],\n",
        "    axis=1,\n",
        ")\n",
        "models_test_comp_df.columns = [\n",
        "    \"Decision Tree\",\n",
        "    \"Tuned Decision Tree\",\n",
        "    \"Bagging Classifier\",\n",
        "    \"Tuned Bagging Classifier\",\n",
        "    \"Random Forest\",\n",
        "    \"Tuned Random Forest\",\n",
        "    \"Adaboost Classifier\",\n",
        "    \"Tuned Adaboost Classifier\",\n",
        "    \"Gradient Boost Classifier\",\n",
        "    \"Tuned Gradient Boost Classifier\",\n",
        "    \"XGBoost Classifier\",\n",
        "    \"XGBoost Classifier Tuned\",\n",
        "    \"Stacking Classifier\",]\n",
        "print(\"Testing performance comparison:\")\n",
        "models_test_comp_df"
      ],
      "metadata": {
        "colab": {
          "base_uri": "https://localhost:8080/",
          "height": 288
        },
        "id": "VmSIJCG4ussb",
        "outputId": "0ee931b7-79d4-4148-b946-92b01069ec0e"
      },
      "id": "VmSIJCG4ussb",
      "execution_count": null,
      "outputs": [
        {
          "output_type": "stream",
          "name": "stdout",
          "text": [
            "Testing performance comparison:\n"
          ]
        },
        {
          "output_type": "execute_result",
          "data": {
            "text/plain": [
              "           Decision Tree  Tuned Decision Tree  Bagging Classifier  \\\n",
              "Accuracy        0.645735             0.667844            0.691523   \n",
              "Recall          0.726738             1.000000            0.764153   \n",
              "Precision       0.738602             0.667844            0.771711   \n",
              "F1              0.732622             0.800847            0.767913   \n",
              "\n",
              "           Tuned Bagging Classifier  Random Forest  Tuned Random Forest  \\\n",
              "Accuracy                   0.667844       0.720827             0.723836   \n",
              "Recall                     1.000000       0.832125             0.923800   \n",
              "Precision                  0.667844       0.768869             0.732526   \n",
              "F1                         0.800847       0.799247             0.817119   \n",
              "\n",
              "           Adaboost Classifier  Tuned Adaboost Classifier  \\\n",
              "Accuracy              0.734301                   0.716510   \n",
              "Recall                0.885015                   0.781391   \n",
              "Precision             0.757799                   0.791468   \n",
              "F1                    0.816481                   0.786397   \n",
              "\n",
              "           Gradient Boost Classifier  Tuned Gradient Boost Classifier  \\\n",
              "Accuracy                    0.744767                         0.743459   \n",
              "Recall                      0.876004                         0.871303   \n",
              "Precision                   0.772366                         0.773296   \n",
              "F1                          0.820927                         0.819379   \n",
              "\n",
              "           XGBoost Classifier  XGBoost Classifier Tuned  Stacking Classifier  \n",
              "Accuracy             0.744636                  0.744244             0.743721  \n",
              "Recall               0.877375                  0.876200             0.872478  \n",
              "Precision            0.771576                  0.771739             0.772995  \n",
              "F1                   0.821082                  0.820659             0.819729  "
            ],
            "text/html": [
              "\n",
              "  <div id=\"df-a79ccaac-ca76-4106-b708-cfbfdf96d2a0\">\n",
              "    <div class=\"colab-df-container\">\n",
              "      <div>\n",
              "<style scoped>\n",
              "    .dataframe tbody tr th:only-of-type {\n",
              "        vertical-align: middle;\n",
              "    }\n",
              "\n",
              "    .dataframe tbody tr th {\n",
              "        vertical-align: top;\n",
              "    }\n",
              "\n",
              "    .dataframe thead th {\n",
              "        text-align: right;\n",
              "    }\n",
              "</style>\n",
              "<table border=\"1\" class=\"dataframe\">\n",
              "  <thead>\n",
              "    <tr style=\"text-align: right;\">\n",
              "      <th></th>\n",
              "      <th>Decision Tree</th>\n",
              "      <th>Tuned Decision Tree</th>\n",
              "      <th>Bagging Classifier</th>\n",
              "      <th>Tuned Bagging Classifier</th>\n",
              "      <th>Random Forest</th>\n",
              "      <th>Tuned Random Forest</th>\n",
              "      <th>Adaboost Classifier</th>\n",
              "      <th>Tuned Adaboost Classifier</th>\n",
              "      <th>Gradient Boost Classifier</th>\n",
              "      <th>Tuned Gradient Boost Classifier</th>\n",
              "      <th>XGBoost Classifier</th>\n",
              "      <th>XGBoost Classifier Tuned</th>\n",
              "      <th>Stacking Classifier</th>\n",
              "    </tr>\n",
              "  </thead>\n",
              "  <tbody>\n",
              "    <tr>\n",
              "      <th>Accuracy</th>\n",
              "      <td>0.645735</td>\n",
              "      <td>0.667844</td>\n",
              "      <td>0.691523</td>\n",
              "      <td>0.667844</td>\n",
              "      <td>0.720827</td>\n",
              "      <td>0.723836</td>\n",
              "      <td>0.734301</td>\n",
              "      <td>0.716510</td>\n",
              "      <td>0.744767</td>\n",
              "      <td>0.743459</td>\n",
              "      <td>0.744636</td>\n",
              "      <td>0.744244</td>\n",
              "      <td>0.743721</td>\n",
              "    </tr>\n",
              "    <tr>\n",
              "      <th>Recall</th>\n",
              "      <td>0.726738</td>\n",
              "      <td>1.000000</td>\n",
              "      <td>0.764153</td>\n",
              "      <td>1.000000</td>\n",
              "      <td>0.832125</td>\n",
              "      <td>0.923800</td>\n",
              "      <td>0.885015</td>\n",
              "      <td>0.781391</td>\n",
              "      <td>0.876004</td>\n",
              "      <td>0.871303</td>\n",
              "      <td>0.877375</td>\n",
              "      <td>0.876200</td>\n",
              "      <td>0.872478</td>\n",
              "    </tr>\n",
              "    <tr>\n",
              "      <th>Precision</th>\n",
              "      <td>0.738602</td>\n",
              "      <td>0.667844</td>\n",
              "      <td>0.771711</td>\n",
              "      <td>0.667844</td>\n",
              "      <td>0.768869</td>\n",
              "      <td>0.732526</td>\n",
              "      <td>0.757799</td>\n",
              "      <td>0.791468</td>\n",
              "      <td>0.772366</td>\n",
              "      <td>0.773296</td>\n",
              "      <td>0.771576</td>\n",
              "      <td>0.771739</td>\n",
              "      <td>0.772995</td>\n",
              "    </tr>\n",
              "    <tr>\n",
              "      <th>F1</th>\n",
              "      <td>0.732622</td>\n",
              "      <td>0.800847</td>\n",
              "      <td>0.767913</td>\n",
              "      <td>0.800847</td>\n",
              "      <td>0.799247</td>\n",
              "      <td>0.817119</td>\n",
              "      <td>0.816481</td>\n",
              "      <td>0.786397</td>\n",
              "      <td>0.820927</td>\n",
              "      <td>0.819379</td>\n",
              "      <td>0.821082</td>\n",
              "      <td>0.820659</td>\n",
              "      <td>0.819729</td>\n",
              "    </tr>\n",
              "  </tbody>\n",
              "</table>\n",
              "</div>\n",
              "      <button class=\"colab-df-convert\" onclick=\"convertToInteractive('df-a79ccaac-ca76-4106-b708-cfbfdf96d2a0')\"\n",
              "              title=\"Convert this dataframe to an interactive table.\"\n",
              "              style=\"display:none;\">\n",
              "        \n",
              "  <svg xmlns=\"http://www.w3.org/2000/svg\" height=\"24px\"viewBox=\"0 0 24 24\"\n",
              "       width=\"24px\">\n",
              "    <path d=\"M0 0h24v24H0V0z\" fill=\"none\"/>\n",
              "    <path d=\"M18.56 5.44l.94 2.06.94-2.06 2.06-.94-2.06-.94-.94-2.06-.94 2.06-2.06.94zm-11 1L8.5 8.5l.94-2.06 2.06-.94-2.06-.94L8.5 2.5l-.94 2.06-2.06.94zm10 10l.94 2.06.94-2.06 2.06-.94-2.06-.94-.94-2.06-.94 2.06-2.06.94z\"/><path d=\"M17.41 7.96l-1.37-1.37c-.4-.4-.92-.59-1.43-.59-.52 0-1.04.2-1.43.59L10.3 9.45l-7.72 7.72c-.78.78-.78 2.05 0 2.83L4 21.41c.39.39.9.59 1.41.59.51 0 1.02-.2 1.41-.59l7.78-7.78 2.81-2.81c.8-.78.8-2.07 0-2.86zM5.41 20L4 18.59l7.72-7.72 1.47 1.35L5.41 20z\"/>\n",
              "  </svg>\n",
              "      </button>\n",
              "      \n",
              "  <style>\n",
              "    .colab-df-container {\n",
              "      display:flex;\n",
              "      flex-wrap:wrap;\n",
              "      gap: 12px;\n",
              "    }\n",
              "\n",
              "    .colab-df-convert {\n",
              "      background-color: #E8F0FE;\n",
              "      border: none;\n",
              "      border-radius: 50%;\n",
              "      cursor: pointer;\n",
              "      display: none;\n",
              "      fill: #1967D2;\n",
              "      height: 32px;\n",
              "      padding: 0 0 0 0;\n",
              "      width: 32px;\n",
              "    }\n",
              "\n",
              "    .colab-df-convert:hover {\n",
              "      background-color: #E2EBFA;\n",
              "      box-shadow: 0px 1px 2px rgba(60, 64, 67, 0.3), 0px 1px 3px 1px rgba(60, 64, 67, 0.15);\n",
              "      fill: #174EA6;\n",
              "    }\n",
              "\n",
              "    [theme=dark] .colab-df-convert {\n",
              "      background-color: #3B4455;\n",
              "      fill: #D2E3FC;\n",
              "    }\n",
              "\n",
              "    [theme=dark] .colab-df-convert:hover {\n",
              "      background-color: #434B5C;\n",
              "      box-shadow: 0px 1px 3px 1px rgba(0, 0, 0, 0.15);\n",
              "      filter: drop-shadow(0px 1px 2px rgba(0, 0, 0, 0.3));\n",
              "      fill: #FFFFFF;\n",
              "    }\n",
              "  </style>\n",
              "\n",
              "      <script>\n",
              "        const buttonEl =\n",
              "          document.querySelector('#df-a79ccaac-ca76-4106-b708-cfbfdf96d2a0 button.colab-df-convert');\n",
              "        buttonEl.style.display =\n",
              "          google.colab.kernel.accessAllowed ? 'block' : 'none';\n",
              "\n",
              "        async function convertToInteractive(key) {\n",
              "          const element = document.querySelector('#df-a79ccaac-ca76-4106-b708-cfbfdf96d2a0');\n",
              "          const dataTable =\n",
              "            await google.colab.kernel.invokeFunction('convertToInteractive',\n",
              "                                                     [key], {});\n",
              "          if (!dataTable) return;\n",
              "\n",
              "          const docLinkHtml = 'Like what you see? Visit the ' +\n",
              "            '<a target=\"_blank\" href=https://colab.research.google.com/notebooks/data_table.ipynb>data table notebook</a>'\n",
              "            + ' to learn more about interactive tables.';\n",
              "          element.innerHTML = '';\n",
              "          dataTable['output_type'] = 'display_data';\n",
              "          await google.colab.output.renderOutput(dataTable, element);\n",
              "          const docLink = document.createElement('div');\n",
              "          docLink.innerHTML = docLinkHtml;\n",
              "          element.appendChild(docLink);\n",
              "        }\n",
              "      </script>\n",
              "    </div>\n",
              "  </div>\n",
              "  "
            ]
          },
          "metadata": {},
          "execution_count": 134
        }
      ]
    },
    {
      "cell_type": "markdown",
      "source": [
        "* Considering recall is the most important performance metrics, both the tuned decision tree and and tuned bagging classifier performed extremely well. These are the best models to use for predicting whether or not an applicant will receive a visa. If we we predict that an applicant will not be chosen, and yet they should have been, then the costs are higher because a key role was not filled. This economic impact is greater than operational costs. \n",
        "* While precision is still important, the bagging classifier performed the best. If we predict an applicant will receive their visa and they don't, then we have wasted resources. Operational cost are still important, but the economic impact of a false negative is greater.   \n",
        " "
      ],
      "metadata": {
        "id": "QI5399DwvITw"
      },
      "id": "QI5399DwvITw"
    },
    {
      "cell_type": "markdown",
      "source": [
        "## Random Forest Features Importance"
      ],
      "metadata": {
        "id": "WN_k-Z3BvNR2"
      },
      "id": "WN_k-Z3BvNR2"
    },
    {
      "cell_type": "code",
      "source": [
        "feature_names = X_train.columns\n",
        "importances = gb_classifier.feature_importances_\n",
        "indices = np.argsort(importances)\n",
        "\n",
        "plt.figure(figsize=(12, 12))\n",
        "plt.title(\"Feature Importances\")\n",
        "plt.barh(range(len(indices)), importances[indices], color=\"violet\", align=\"center\")\n",
        "plt.yticks(range(len(indices)), [feature_names[i] for i in indices])\n",
        "plt.xlabel(\"Relative Importance\")\n",
        "plt.show()"
      ],
      "metadata": {
        "colab": {
          "base_uri": "https://localhost:8080/",
          "height": 730
        },
        "id": "CGeMQhUjUYaV",
        "outputId": "00af2555-f87e-425d-e88e-18950745a558"
      },
      "id": "CGeMQhUjUYaV",
      "execution_count": null,
      "outputs": [
        {
          "output_type": "display_data",
          "data": {
            "text/plain": [
              "<Figure size 864x864 with 1 Axes>"
            ],
            "image/png": "[encoded data removed]"
          },
          "metadata": {
            "needs_background": "light"
          }
        }
      ]
    },
    {
      "cell_type": "markdown",
      "source": [
        "* High school is the most important feature for prediction followed by having job experience, prevailing wage, master's education, and doctorate education. "
      ],
      "metadata": {
        "id": "fjKLOk46UtFM"
      },
      "id": "fjKLOk46UtFM"
    },
    {
      "cell_type": "markdown",
      "id": "nasty-retailer",
      "metadata": {
        "id": "nasty-retailer"
      },
      "source": [
        "## Actionable Insights and Recommendations"
      ]
    },
    {
      "cell_type": "markdown",
      "source": [
        "* We have developed a predictive model that the Office of Foreign Labor Certification (OFLC) can use to identify suitable candidates for visa approval. \n",
        "* Applicants who have only high school education are not likely to receive a visa. The demand for jobs require higher education and skills. There is an opportunity to develop programs that provide high school graduates will specific skills such as front-end development or others that are in high demand and do not require advanced degrees. \n",
        "* Job experience is another important factor determining if a visa will be certified. This indicates that employers in the U.S. need foreign employees who already possess the necessary skills and experience. There should be a requirement for job experience prior to applying for specific roles. For applicants who have the education, they should at a minimum seek an internship or employment prior to applying for a visa. \n",
        "* Advanced education matters. These applicants typically already have job experience and the skills required for roles in the U.S. market. This cohort is the ideal candidate to receive a certified visa. \n",
        "* There is opportunity to understand in more detail the types of roles or specialty areas applicants hold. This additional feature will further enhance our predictive model.   \n"
      ],
      "metadata": {
        "id": "AxPvZpNWvf_M"
      },
      "id": "AxPvZpNWvf_M"
    },
    {
      "cell_type": "code",
      "source": [
        "%%shell\n",
        "jupyter nbconvert --to html /content/DSBA_Project_ET_EasyVisa_Fullcode.ipynb"
      ],
      "metadata": {
        "id": "ZwaPzUL5XIPf",
        "outputId": "e39d3be8-b7be-4c15-8379-f14579f66c2f",
        "colab": {
          "base_uri": "https://localhost:8080/"
        }
      },
      "id": "ZwaPzUL5XIPf",
      "execution_count": null,
      "outputs": [
        {
          "output_type": "stream",
          "name": "stdout",
          "text": [
            "[NbConvertApp] Converting notebook /content/DSBA_Project_ET_EasyVisa_Fullcode.ipynb to html\n",
            "[NbConvertApp] Writing 1171556 bytes to /content/DSBA_Project_ET_EasyVisa_Fullcode.html\n"
          ]
        },
        {
          "output_type": "execute_result",
          "data": {
            "text/plain": [
              ""
            ]
          },
          "metadata": {},
          "execution_count": 136
        }
      ]
    }
  ],
  "metadata": {
    "colab": {
      "collapsed_sections": [],
      "name": "DSBA_Project_ET_EasyVisa_Fullcode.ipynb",
      "provenance": [],
      "include_colab_link": true
    },
    "kernelspec": {
      "display_name": "Python 3",
      "language": "python",
      "name": "python3"
    },
    "language_info": {
      "codemirror_mode": {
        "name": "ipython",
        "version": 3
      },
      "file_extension": ".py",
      "mimetype": "text/x-python",
      "name": "python",
      "nbconvert_exporter": "python",
      "pygments_lexer": "ipython3",
      "version": "3.8.8"
    }
  },
  "nbformat": 4,
  "nbformat_minor": 5
}